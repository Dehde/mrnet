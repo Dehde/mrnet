{
 "cells": [
  {
   "cell_type": "code",
   "execution_count": 2,
   "id": "63f27f62",
   "metadata": {
    "ExecuteTime": {
     "end_time": "2021-05-16T15:38:55.393805Z",
     "start_time": "2021-05-16T15:38:46.733465Z"
    },
    "scrolled": true
   },
   "outputs": [
    {
     "name": "stdout",
     "output_type": "stream",
     "text": [
      "Requirement already satisfied: tqdm in /Users/rob/anaconda3/envs/mrnet/lib/python3.8/site-packages (4.60.0)\n",
      "Requirement already satisfied: torch in /Users/rob/anaconda3/envs/mrnet/lib/python3.8/site-packages (1.8.1)\n",
      "Requirement already satisfied: numpy in /Users/rob/anaconda3/envs/mrnet/lib/python3.8/site-packages (from torch) (1.20.3)\n",
      "Requirement already satisfied: typing-extensions in /Users/rob/anaconda3/envs/mrnet/lib/python3.8/site-packages (from torch) (3.10.0.0)\n",
      "Requirement already satisfied: torchvision in /Users/rob/anaconda3/envs/mrnet/lib/python3.8/site-packages (0.9.1)\n",
      "Requirement already satisfied: torchaudio in /Users/rob/anaconda3/envs/mrnet/lib/python3.8/site-packages (0.8.1)\n",
      "Requirement already satisfied: torch==1.8.1 in /Users/rob/anaconda3/envs/mrnet/lib/python3.8/site-packages (from torchaudio) (1.8.1)\n",
      "Requirement already satisfied: numpy in /Users/rob/anaconda3/envs/mrnet/lib/python3.8/site-packages (from torch==1.8.1->torchaudio) (1.20.3)\n",
      "Requirement already satisfied: typing-extensions in /Users/rob/anaconda3/envs/mrnet/lib/python3.8/site-packages (from torch==1.8.1->torchaudio) (3.10.0.0)\n",
      "Requirement already satisfied: pillow>=4.1.1 in /Users/rob/anaconda3/envs/mrnet/lib/python3.8/site-packages (from torchvision) (8.2.0)\n",
      "Requirement already satisfied: tensorboardX in /Users/rob/anaconda3/envs/mrnet/lib/python3.8/site-packages (2.2)\n",
      "Requirement already satisfied: protobuf>=3.8.0 in /Users/rob/anaconda3/envs/mrnet/lib/python3.8/site-packages (from tensorboardX) (3.17.0)\n",
      "Requirement already satisfied: numpy in /Users/rob/anaconda3/envs/mrnet/lib/python3.8/site-packages (from tensorboardX) (1.20.3)\n",
      "Requirement already satisfied: six>=1.9 in /Users/rob/anaconda3/envs/mrnet/lib/python3.8/site-packages (from protobuf>=3.8.0->tensorboardX) (1.16.0)\n",
      "Requirement already satisfied: scikit-learn in /Users/rob/anaconda3/envs/mrnet/lib/python3.8/site-packages (0.24.2)\n",
      "Requirement already satisfied: numpy>=1.13.3 in /Users/rob/anaconda3/envs/mrnet/lib/python3.8/site-packages (from scikit-learn) (1.20.3)\n",
      "Requirement already satisfied: threadpoolctl>=2.0.0 in /Users/rob/anaconda3/envs/mrnet/lib/python3.8/site-packages (from scikit-learn) (2.1.0)\n",
      "Requirement already satisfied: joblib>=0.11 in /Users/rob/anaconda3/envs/mrnet/lib/python3.8/site-packages (from scikit-learn) (1.0.1)\n",
      "Requirement already satisfied: scipy>=0.19.1 in /Users/rob/anaconda3/envs/mrnet/lib/python3.8/site-packages (from scikit-learn) (1.6.3)\n",
      "Requirement already satisfied: pytorch-lightning in /Users/rob/anaconda3/envs/mrnet/lib/python3.8/site-packages (1.3.1)\n",
      "Requirement already satisfied: torch>=1.4 in /Users/rob/anaconda3/envs/mrnet/lib/python3.8/site-packages (from pytorch-lightning) (1.8.1)\n",
      "Requirement already satisfied: PyYAML<=5.4.1,>=5.1 in /Users/rob/anaconda3/envs/mrnet/lib/python3.8/site-packages (from pytorch-lightning) (5.4.1)\n",
      "Requirement already satisfied: tqdm>=4.41.0 in /Users/rob/anaconda3/envs/mrnet/lib/python3.8/site-packages (from pytorch-lightning) (4.60.0)\n",
      "Requirement already satisfied: future>=0.17.1 in /Users/rob/anaconda3/envs/mrnet/lib/python3.8/site-packages (from pytorch-lightning) (0.18.2)\n",
      "Requirement already satisfied: pyDeprecate==0.3.0 in /Users/rob/anaconda3/envs/mrnet/lib/python3.8/site-packages (from pytorch-lightning) (0.3.0)\n",
      "Requirement already satisfied: tensorboard!=2.5.0,>=2.2.0 in /Users/rob/anaconda3/envs/mrnet/lib/python3.8/site-packages (from pytorch-lightning) (2.4.1)\n",
      "Requirement already satisfied: fsspec[http]>=2021.4.0 in /Users/rob/anaconda3/envs/mrnet/lib/python3.8/site-packages (from pytorch-lightning) (2021.5.0)\n",
      "Requirement already satisfied: numpy>=1.17.2 in /Users/rob/anaconda3/envs/mrnet/lib/python3.8/site-packages (from pytorch-lightning) (1.20.3)\n",
      "Requirement already satisfied: torchmetrics>=0.2.0 in /Users/rob/anaconda3/envs/mrnet/lib/python3.8/site-packages (from pytorch-lightning) (0.3.2)\n",
      "Requirement already satisfied: packaging in /Users/rob/anaconda3/envs/mrnet/lib/python3.8/site-packages (from pytorch-lightning) (20.9)\n",
      "Requirement already satisfied: requests in /Users/rob/anaconda3/envs/mrnet/lib/python3.8/site-packages (from fsspec[http]>=2021.4.0->pytorch-lightning) (2.25.1)\n",
      "Requirement already satisfied: aiohttp in /Users/rob/anaconda3/envs/mrnet/lib/python3.8/site-packages (from fsspec[http]>=2021.4.0->pytorch-lightning) (3.7.4.post0)\n",
      "Requirement already satisfied: werkzeug>=0.11.15 in /Users/rob/anaconda3/envs/mrnet/lib/python3.8/site-packages (from tensorboard!=2.5.0,>=2.2.0->pytorch-lightning) (2.0.0)\n",
      "Requirement already satisfied: protobuf>=3.6.0 in /Users/rob/anaconda3/envs/mrnet/lib/python3.8/site-packages (from tensorboard!=2.5.0,>=2.2.0->pytorch-lightning) (3.17.0)\n",
      "Requirement already satisfied: wheel>=0.26 in /Users/rob/anaconda3/envs/mrnet/lib/python3.8/site-packages (from tensorboard!=2.5.0,>=2.2.0->pytorch-lightning) (0.36.2)\n",
      "Requirement already satisfied: markdown>=2.6.8 in /Users/rob/anaconda3/envs/mrnet/lib/python3.8/site-packages (from tensorboard!=2.5.0,>=2.2.0->pytorch-lightning) (3.3.4)\n",
      "Requirement already satisfied: grpcio>=1.24.3 in /Users/rob/anaconda3/envs/mrnet/lib/python3.8/site-packages (from tensorboard!=2.5.0,>=2.2.0->pytorch-lightning) (1.37.1)\n",
      "Requirement already satisfied: tensorboard-plugin-wit>=1.6.0 in /Users/rob/anaconda3/envs/mrnet/lib/python3.8/site-packages (from tensorboard!=2.5.0,>=2.2.0->pytorch-lightning) (1.8.0)\n",
      "Requirement already satisfied: setuptools>=41.0.0 in /Users/rob/anaconda3/envs/mrnet/lib/python3.8/site-packages (from tensorboard!=2.5.0,>=2.2.0->pytorch-lightning) (52.0.0.post20210125)\n",
      "Requirement already satisfied: google-auth<2,>=1.6.3 in /Users/rob/anaconda3/envs/mrnet/lib/python3.8/site-packages (from tensorboard!=2.5.0,>=2.2.0->pytorch-lightning) (1.30.0)\n",
      "Requirement already satisfied: absl-py>=0.4 in /Users/rob/anaconda3/envs/mrnet/lib/python3.8/site-packages (from tensorboard!=2.5.0,>=2.2.0->pytorch-lightning) (0.12.0)\n",
      "Requirement already satisfied: google-auth-oauthlib<0.5,>=0.4.1 in /Users/rob/anaconda3/envs/mrnet/lib/python3.8/site-packages (from tensorboard!=2.5.0,>=2.2.0->pytorch-lightning) (0.4.4)\n",
      "Requirement already satisfied: six>=1.10.0 in /Users/rob/anaconda3/envs/mrnet/lib/python3.8/site-packages (from tensorboard!=2.5.0,>=2.2.0->pytorch-lightning) (1.16.0)\n",
      "Requirement already satisfied: pyasn1-modules>=0.2.1 in /Users/rob/anaconda3/envs/mrnet/lib/python3.8/site-packages (from google-auth<2,>=1.6.3->tensorboard!=2.5.0,>=2.2.0->pytorch-lightning) (0.2.8)\n",
      "Requirement already satisfied: rsa<5,>=3.1.4 in /Users/rob/anaconda3/envs/mrnet/lib/python3.8/site-packages (from google-auth<2,>=1.6.3->tensorboard!=2.5.0,>=2.2.0->pytorch-lightning) (4.7.2)\n",
      "Requirement already satisfied: cachetools<5.0,>=2.0.0 in /Users/rob/anaconda3/envs/mrnet/lib/python3.8/site-packages (from google-auth<2,>=1.6.3->tensorboard!=2.5.0,>=2.2.0->pytorch-lightning) (4.2.2)\n",
      "Requirement already satisfied: requests-oauthlib>=0.7.0 in /Users/rob/anaconda3/envs/mrnet/lib/python3.8/site-packages (from google-auth-oauthlib<0.5,>=0.4.1->tensorboard!=2.5.0,>=2.2.0->pytorch-lightning) (1.3.0)\n",
      "Requirement already satisfied: pyasn1<0.5.0,>=0.4.6 in /Users/rob/anaconda3/envs/mrnet/lib/python3.8/site-packages (from pyasn1-modules>=0.2.1->google-auth<2,>=1.6.3->tensorboard!=2.5.0,>=2.2.0->pytorch-lightning) (0.4.8)\n",
      "Requirement already satisfied: chardet<5,>=3.0.2 in /Users/rob/anaconda3/envs/mrnet/lib/python3.8/site-packages (from requests->fsspec[http]>=2021.4.0->pytorch-lightning) (4.0.0)\n",
      "Requirement already satisfied: urllib3<1.27,>=1.21.1 in /Users/rob/anaconda3/envs/mrnet/lib/python3.8/site-packages (from requests->fsspec[http]>=2021.4.0->pytorch-lightning) (1.26.4)\n",
      "Requirement already satisfied: certifi>=2017.4.17 in /Users/rob/anaconda3/envs/mrnet/lib/python3.8/site-packages (from requests->fsspec[http]>=2021.4.0->pytorch-lightning) (2020.12.5)\n",
      "Requirement already satisfied: idna<3,>=2.5 in /Users/rob/anaconda3/envs/mrnet/lib/python3.8/site-packages (from requests->fsspec[http]>=2021.4.0->pytorch-lightning) (2.10)\n",
      "Requirement already satisfied: oauthlib>=3.0.0 in /Users/rob/anaconda3/envs/mrnet/lib/python3.8/site-packages (from requests-oauthlib>=0.7.0->google-auth-oauthlib<0.5,>=0.4.1->tensorboard!=2.5.0,>=2.2.0->pytorch-lightning) (3.1.0)\n",
      "Requirement already satisfied: typing-extensions in /Users/rob/anaconda3/envs/mrnet/lib/python3.8/site-packages (from torch>=1.4->pytorch-lightning) (3.10.0.0)\n"
     ]
    },
    {
     "name": "stdout",
     "output_type": "stream",
     "text": [
      "Requirement already satisfied: async-timeout<4.0,>=3.0 in /Users/rob/anaconda3/envs/mrnet/lib/python3.8/site-packages (from aiohttp->fsspec[http]>=2021.4.0->pytorch-lightning) (3.0.1)\n",
      "Requirement already satisfied: attrs>=17.3.0 in /Users/rob/anaconda3/envs/mrnet/lib/python3.8/site-packages (from aiohttp->fsspec[http]>=2021.4.0->pytorch-lightning) (21.2.0)\n",
      "Requirement already satisfied: yarl<2.0,>=1.0 in /Users/rob/anaconda3/envs/mrnet/lib/python3.8/site-packages (from aiohttp->fsspec[http]>=2021.4.0->pytorch-lightning) (1.6.3)\n",
      "Requirement already satisfied: multidict<7.0,>=4.5 in /Users/rob/anaconda3/envs/mrnet/lib/python3.8/site-packages (from aiohttp->fsspec[http]>=2021.4.0->pytorch-lightning) (5.1.0)\n",
      "Requirement already satisfied: pyparsing>=2.0.2 in /Users/rob/anaconda3/envs/mrnet/lib/python3.8/site-packages (from packaging->pytorch-lightning) (2.4.7)\n"
     ]
    }
   ],
   "source": [
    "!pip install tqdm\n",
    "!pip install torch\n",
    "!pip install torchvision torchaudio\n",
    "!pip install tensorboardX\n",
    "!pip install scikit-learn\n",
    "!pip install pytorch-lightning"
   ]
  },
  {
   "cell_type": "code",
   "execution_count": 1,
   "id": "bcf3b2f8",
   "metadata": {
    "ExecuteTime": {
     "end_time": "2021-05-23T16:28:37.951003Z",
     "start_time": "2021-05-23T16:28:36.253188Z"
    }
   },
   "outputs": [],
   "source": [
    "import shutil\n",
    "import os\n",
    "import time\n",
    "from datetime import datetime\n",
    "import argparse\n",
    "import numpy as np\n",
    "from tqdm import tqdm\n",
    "\n",
    "import torch\n",
    "import torch.nn as nn\n",
    "import torch.optim as optim\n",
    "from torch.autograd import Variable\n",
    "from torchsample.transforms import RandomRotate, RandomTranslate, RandomFlip, ToTensor, Compose, RandomAffine\n",
    "from torchvision import transforms\n",
    "import torch.nn.functional as F\n",
    "from tensorboardX import SummaryWriter\n",
    "\n",
    "from dataset import MRDataset, MRDatasetMerged\n",
    "from torch.utils.data import DataLoader \n",
    "import model\n",
    "\n",
    "import pytorch_lightning as pl\n",
    "from sklearn import metrics\n"
   ]
  },
  {
   "cell_type": "code",
   "execution_count": 2,
   "id": "fedd80b0",
   "metadata": {
    "ExecuteTime": {
     "end_time": "2021-05-23T16:28:37.963428Z",
     "start_time": "2021-05-23T16:28:37.953527Z"
    }
   },
   "outputs": [
    {
     "data": {
      "text/plain": [
       "'1.3.1'"
      ]
     },
     "execution_count": 2,
     "metadata": {},
     "output_type": "execute_result"
    }
   ],
   "source": [
    "pl.__version__"
   ]
  },
  {
   "cell_type": "code",
   "execution_count": 3,
   "id": "c286f8e3",
   "metadata": {
    "ExecuteTime": {
     "end_time": "2021-05-23T16:28:37.971553Z",
     "start_time": "2021-05-23T16:28:37.967132Z"
    }
   },
   "outputs": [
    {
     "data": {
      "text/plain": [
       "11"
      ]
     },
     "execution_count": 3,
     "metadata": {},
     "output_type": "execute_result"
    }
   ],
   "source": [
    "import multiprocessing\n",
    "\n",
    "num_workers = multiprocessing.cpu_count() - 1\n",
    "num_workers"
   ]
  },
  {
   "cell_type": "code",
   "execution_count": 4,
   "id": "918a8b91",
   "metadata": {
    "ExecuteTime": {
     "end_time": "2021-05-23T16:28:37.978668Z",
     "start_time": "2021-05-23T16:28:37.974149Z"
    }
   },
   "outputs": [],
   "source": [
    "class Args:\n",
    "    def __init__(self):\n",
    "        self.task = \"abnormal\" #['abnormal', 'acl', 'meniscus']\n",
    "        self.plane = \"sagittal\" #['sagittal', 'coronal', 'axial']\n",
    "        self.prefix_name = \"Test\"\n",
    "        self.augment = 1 #[0, 1]\n",
    "        self.lr_scheduler = \"plateau\" #['plateau', 'step']\n",
    "        self.gamma = 0.5\n",
    "        self.epochs = 1\n",
    "        self.lr = 1e-5\n",
    "        self.flush_history = 0 #[0, 1]\n",
    "        self.save_model = 1 #[0, 1]\n",
    "        self.patience = 5\n",
    "        self.log_every = 100\n",
    "        \n",
    "args = Args()"
   ]
  },
  {
   "cell_type": "code",
   "execution_count": 5,
   "id": "0442df9e",
   "metadata": {
    "ExecuteTime": {
     "end_time": "2021-05-23T16:28:37.984324Z",
     "start_time": "2021-05-23T16:28:37.981292Z"
    }
   },
   "outputs": [],
   "source": [
    "def to_tensor(x):\n",
    "    return torch.Tensor(x)"
   ]
  },
  {
   "cell_type": "code",
   "execution_count": null,
   "id": "1c405bbb",
   "metadata": {
    "ExecuteTime": {
     "start_time": "2021-05-23T16:28:36.302Z"
    },
    "scrolled": false
   },
   "outputs": [
    {
     "name": "stderr",
     "output_type": "stream",
     "text": [
      "/Users/rob/anaconda3/envs/mrnet/lib/python3.8/site-packages/torchmetrics/utilities/prints.py:36: UserWarning: Metric `AUROC` will save all targets and predictions in buffer. For large datasets this may lead to large memory footprint.\n",
      "  warnings.warn(*args, **kwargs)\n",
      "GPU available: False, used: False\n",
      "TPU available: False, using: 0 TPU cores\n",
      "\n",
      "  | Name             | Type              | Params\n",
      "-------------------------------------------------------\n",
      "0 | pretrained_model | AlexNet           | 61.1 M\n",
      "1 | pooling_layer    | AdaptiveAvgPool2d | 0     \n",
      "2 | classifer        | Linear            | 771   \n",
      "3 | train_f1         | F1                | 0     \n",
      "4 | valid_f1         | F1                | 0     \n",
      "5 | train_auc        | AUROC             | 0     \n",
      "-------------------------------------------------------\n",
      "61.1 M    Trainable params\n",
      "0         Non-trainable params\n",
      "61.1 M    Total params\n",
      "244.406   Total estimated model params size (MB)\n"
     ]
    },
    {
     "data": {
      "application/vnd.jupyter.widget-view+json": {
       "model_id": "",
       "version_major": 2,
       "version_minor": 0
      },
      "text/plain": [
       "Validation sanity check: 0it [00:00, ?it/s]"
      ]
     },
     "metadata": {},
     "output_type": "display_data"
    },
    {
     "name": "stderr",
     "output_type": "stream",
     "text": [
      "/Users/rob/anaconda3/envs/mrnet/lib/python3.8/site-packages/torch/nn/functional.py:1709: UserWarning: nn.functional.sigmoid is deprecated. Use torch.sigmoid instead.\n",
      "  warnings.warn(\"nn.functional.sigmoid is deprecated. Use torch.sigmoid instead.\")\n"
     ]
    },
    {
     "data": {
      "application/vnd.jupyter.widget-view+json": {
       "model_id": "98c61483534045deaa03e55a61f4874f",
       "version_major": 2,
       "version_minor": 0
      },
      "text/plain": [
       "Training: 0it [00:00, ?it/s]"
      ]
     },
     "metadata": {},
     "output_type": "display_data"
    }
   ],
   "source": [
    "log_root_folder = \"./logs/{0}/{1}/\".format(args.task, args.plane)\n",
    "if args.flush_history == 1:\n",
    "    objects = os.listdir(log_root_folder)\n",
    "    for f in objects:\n",
    "        if os.path.isdir(log_root_folder + f):\n",
    "            shutil.rmtree(log_root_folder + f)\n",
    "\n",
    "now = datetime.now()\n",
    "logdir = log_root_folder + now.strftime(\"%Y%m%d-%H%M%S\") + \"/\"\n",
    "os.makedirs(logdir)\n",
    "\n",
    "writer = SummaryWriter(logdir)\n",
    "\n",
    "# augmentor = Compose([\n",
    "#     transforms.Lambda(to_tensor),\n",
    "#     RandomRotate(25),\n",
    "#     RandomTranslate([0.11, 0.11]),\n",
    "#     RandomFlip(),\n",
    "# #     transforms.Lambda(lambda x: x.repeat(3, 1, 1, 1).permute(1, 0, 2, 3)),\n",
    "# ])\n",
    "\n",
    "train_dataset = MRDatasetMerged('./data/', transform=None, train=True)\n",
    "validation_dataset = MRDatasetMerged('./data/', train=False)\n",
    "\n",
    "train_loader = DataLoader(train_dataset, batch_size=1, shuffle=True, num_workers=num_workers, drop_last=False)\n",
    "validation_loader = DataLoader(validation_dataset, batch_size=1, shuffle=False, num_workers=num_workers, drop_last=False)\n",
    "\n",
    "mrnet = model.MRNet()\n",
    "trainer = pl.Trainer(max_epochs=10)\n",
    "\n",
    "trainer.fit(mrnet, train_loader, validation_loader)"
   ]
  },
  {
   "cell_type": "code",
   "execution_count": 7,
   "id": "76058981",
   "metadata": {
    "ExecuteTime": {
     "end_time": "2021-05-23T16:26:55.806667Z",
     "start_time": "2021-05-23T16:26:53.757944Z"
    }
   },
   "outputs": [
    {
     "data": {
      "text/html": [
       "\n",
       "      <iframe id=\"tensorboard-frame-594647e7f3923bbc\" width=\"100%\" height=\"800\" frameborder=\"0\">\n",
       "      </iframe>\n",
       "      <script>\n",
       "        (function() {\n",
       "          const frame = document.getElementById(\"tensorboard-frame-594647e7f3923bbc\");\n",
       "          const url = new URL(\"/\", window.location);\n",
       "          const port = 6006;\n",
       "          if (port) {\n",
       "            url.port = port;\n",
       "          }\n",
       "          frame.src = url;\n",
       "        })();\n",
       "      </script>\n",
       "    "
      ],
      "text/plain": [
       "<IPython.core.display.HTML object>"
      ]
     },
     "metadata": {},
     "output_type": "display_data"
    }
   ],
   "source": [
    "%load_ext tensorboard\n",
    "%tensorboard --logdir lightning_logs"
   ]
  },
  {
   "cell_type": "markdown",
   "id": "745b2198",
   "metadata": {},
   "source": [
    "- Train model for all planes & diagnosis --> One Net to rule them all\n",
    "    - Binary --> multilabel\n",
    "    - one plane per dataset --> planes merged for series\n",
    "- Inference pipeline: Load model, predict on all planes for single sample --> return proba\n",
    "\n",
    "Features for performance boost\n",
    "- Add metric (rocauc)\n",
    "- Augmentations: readd (albumentations) (minimal pipeline ++)\n",
    "- alexnet to resnet\n",
    "- XGBoost for boosting of classifiers \n"
   ]
  },
  {
   "cell_type": "code",
   "execution_count": null,
   "id": "ef098c83",
   "metadata": {},
   "outputs": [],
   "source": []
  },
  {
   "cell_type": "code",
   "execution_count": null,
   "id": "c1a8e109",
   "metadata": {},
   "outputs": [],
   "source": []
  }
 ],
 "metadata": {
  "kernelspec": {
   "display_name": "Python 3",
   "language": "python",
   "name": "python3"
  },
  "language_info": {
   "codemirror_mode": {
    "name": "ipython",
    "version": 3
   },
   "file_extension": ".py",
   "mimetype": "text/x-python",
   "name": "python",
   "nbconvert_exporter": "python",
   "pygments_lexer": "ipython3",
   "version": "3.8.8"
  },
  "metadata": {
   "interpreter": {
    "hash": "53bba12dd6a038e761fc83a304742c6553706de7889a50503dd4237be0a73033"
   }
  },
  "toc": {
   "base_numbering": 1,
   "nav_menu": {},
   "number_sections": true,
   "sideBar": true,
   "skip_h1_title": false,
   "title_cell": "Table of Contents",
   "title_sidebar": "Contents",
   "toc_cell": false,
   "toc_position": {},
   "toc_section_display": true,
   "toc_window_display": false
  }
 },
 "nbformat": 4,
 "nbformat_minor": 5
}
