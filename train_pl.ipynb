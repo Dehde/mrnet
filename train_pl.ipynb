{
 "cells": [
  {
   "cell_type": "code",
   "execution_count": null,
   "id": "cd936371",
   "metadata": {
    "collapsed": false,
    "gradient": {
     "source_hidden": false
    },
    "jupyter": {
     "outputs_hidden": false
    },
    "scrolled": true
   },
   "outputs": [],
   "source": [
    "# !pip install tqdm\n",
    "# !pip install torch\n",
    "# !pip install torchvision torchaudio\n",
    "# !pip install tensorboardX\n",
    "# !pip install scikit-learn\n",
    "# !pip install pytorch-lightning\n",
    "# !pip install git+https://github.com/ncullen93/torchsample\n",
    "# !pip install nibabel\n",
    "# !pip install wget\n",
    "# !pip install ipywidgets\n",
    "# !pip install widgetsnbextension\n",
    "# !pip install tensorflow\n",
    "\n",
    "# jupyter labextension install @jupyter-widgets/jupyterlab-manager > /dev/null\n",
    "# jupyter nbextension enable --py widgetsnbextension"
   ]
  },
  {
   "cell_type": "code",
   "execution_count": 2,
   "id": "8fc81641",
   "metadata": {
    "collapsed": false,
    "gradient": {
     "source_hidden": false
    },
    "jupyter": {
     "outputs_hidden": false
    }
   },
   "outputs": [],
   "source": [
    "import shutil\n",
    "import os\n",
    "import time\n",
    "from datetime import datetime\n",
    "import argparse\n",
    "import numpy as np\n",
    "from tqdm import tqdm\n",
    "import multiprocessing\n",
    "\n",
    "import torch\n",
    "import torch.nn as nn\n",
    "import torchmetrics\n",
    "import torch.optim as optim\n",
    "from torch.autograd import Variable\n",
    "from torchvision import transforms\n",
    "import torch.nn.functional as F\n",
    "from tensorboardX import SummaryWriter\n",
    "\n",
    "import model\n",
    "from dataset import MRDatasetMerged\n",
    "from torch.utils.data import DataLoader \n",
    "\n",
    "import pytorch_lightning as pl\n",
    "from sklearn import metrics\n",
    "from ipywidgets import IntProgress"
   ]
  },
  {
   "cell_type": "code",
   "execution_count": 3,
   "id": "c169f09b",
   "metadata": {
    "gradient": {}
   },
   "outputs": [],
   "source": [
    "# !jupyter nbextension enable --py widgetsnbextension\n",
    "#%load_ext tensorboard\n",
    "#%tensorboard --logdir lightning_logs/"
   ]
  },
  {
   "cell_type": "code",
   "execution_count": 4,
   "id": "1a830506",
   "metadata": {
    "gradient": {}
   },
   "outputs": [],
   "source": [
    "class Args:\n",
    "    def __init__(self):\n",
    "        self.task = \"abnormal\" #['abnormal', 'acl', 'meniscus']\n",
    "        self.plane = \"sagittal\" #['sagittal', 'coronal', 'axial']\n",
    "        self.prefix_name = \"Test\"\n",
    "        self.augment = 1 #[0, 1]\n",
    "        self.lr_scheduler = \"plateau\" #['plateau', 'step']\n",
    "        self.gamma = 0.5\n",
    "        self.epochs = 1\n",
    "        self.lr = 1e-5\n",
    "        self.flush_history = 0 #[0, 1]\n",
    "        self.save_model = 1 #[0, 1]\n",
    "        self.patience = 5\n",
    "        self.log_every = 100\n",
    "        \n",
    "args = Args()"
   ]
  },
  {
   "cell_type": "code",
   "execution_count": 5,
   "id": "5cfbed36",
   "metadata": {
    "gradient": {}
   },
   "outputs": [
    {
     "name": "stderr",
     "output_type": "stream",
     "text": [
      "Downloading: \"https://download.pytorch.org/models/alexnet-owt-7be5be79.pth\" to /home/jovyan/.cache/torch/hub/checkpoints/alexnet-owt-7be5be79.pth\n"
     ]
    },
    {
     "data": {
      "application/vnd.jupyter.widget-view+json": {
       "model_id": "9ddc969f1a7d4c7db617343a3eabdadd",
       "version_major": 2,
       "version_minor": 0
      },
      "text/plain": [
       "  0%|          | 0.00/233M [00:00<?, ?B/s]"
      ]
     },
     "metadata": {},
     "output_type": "display_data"
    },
    {
     "name": "stderr",
     "output_type": "stream",
     "text": [
      "/home/jovyan/conda/lib/python3.8/site-packages/torchmetrics/utilities/prints.py:36: UserWarning: Metric `AUROC` will save all targets and predictions in buffer. For large datasets this may lead to large memory footprint.\n",
      "  warnings.warn(*args, **kwargs)\n"
     ]
    }
   ],
   "source": [
    "def to_tensor(x):\n",
    "    return torch.Tensor(x)\n",
    "\n",
    "num_workers = multiprocessing.cpu_count() - 1\n",
    "\n",
    "log_root_folder = \"./logs/{0}/{1}/\".format(args.task, args.plane)\n",
    "if args.flush_history == 1:\n",
    "    objects = os.listdir(log_root_folder)\n",
    "    for f in objects:\n",
    "        if os.path.isdir(log_root_folder + f):\n",
    "            shutil.rmtree(log_root_folder + f)\n",
    "\n",
    "now = datetime.now()\n",
    "logdir = log_root_folder + now.strftime(\"%Y%m%d-%H%M%S\") + \"/\"\n",
    "os.makedirs(logdir)\n",
    "\n",
    "writer = SummaryWriter(logdir)\n",
    "\n",
    "# augmentor = Compose([\n",
    "#     transforms.Lambda(to_tensor),\n",
    "#     RandomRotate(25),\n",
    "#     RandomTranslate([0.11, 0.11]),\n",
    "#     RandomFlip(),\n",
    "# #     transforms.Lambda(lambda x: x.repeat(3, 1, 1, 1).permute(1, 0, 2, 3)),\n",
    "# ])\n",
    "data_dir = \"/home/jovyan/mrnet_dataset/\"\n",
    "\n",
    "train_dataset = MRDatasetMerged(data_dir, transform=None, train=True)\n",
    "validation_dataset = MRDatasetMerged(data_dir, train=False)\n",
    "\n",
    "train_loader = DataLoader(train_dataset, batch_size=1, shuffle=True, num_workers=num_workers, drop_last=False)\n",
    "validation_loader = DataLoader(validation_dataset, batch_size=1, shuffle=False, num_workers=num_workers, drop_last=False)\n",
    "\n",
    "mrnet = model.MRNet()"
   ]
  },
  {
   "cell_type": "code",
   "execution_count": 6,
   "id": "ba38349b",
   "metadata": {
    "gradient": {}
   },
   "outputs": [],
   "source": [
    "monitor = \"val_f1\"\n",
    "\n",
    "callback = pl.callbacks.ModelCheckpoint(\n",
    "            monitor=f'{monitor}',\n",
    "            dirpath=f'/notebooks/checkpoints_{monitor}/',\n",
    "            filename='checkpoint-{epoch:02d}-{' + f'{monitor}' + ':.2f}',\n",
    "            save_top_k=3,\n",
    "            mode='min',\n",
    "        )"
   ]
  },
  {
   "cell_type": "code",
   "execution_count": 7,
   "id": "40e0ead8",
   "metadata": {
    "gradient": {}
   },
   "outputs": [
    {
     "name": "stderr",
     "output_type": "stream",
     "text": [
      "GPU available: False, used: False\n",
      "TPU available: False, using: 0 TPU cores\n",
      "IPU available: False, using: 0 IPUs\n"
     ]
    }
   ],
   "source": [
    "trainer = pl.Trainer(max_epochs=1, gpus=0, callbacks=[callback]) #1"
   ]
  },
  {
   "cell_type": "code",
   "execution_count": 8,
   "id": "e3e5b10c",
   "metadata": {
    "gradient": {}
   },
   "outputs": [
    {
     "name": "stderr",
     "output_type": "stream",
     "text": [
      "2021-09-28 14:43:22.882976: W tensorflow/stream_executor/platform/default/dso_loader.cc:60] Could not load dynamic library 'libcudart.so.11.0'; dlerror: libcudart.so.11.0: cannot open shared object file: No such file or directory\n",
      "2021-09-28 14:43:22.883027: I tensorflow/stream_executor/cuda/cudart_stub.cc:29] Ignore above cudart dlerror if you do not have a GPU set up on your machine.\n",
      "\n",
      "  | Name             | Type              | Params\n",
      "-------------------------------------------------------\n",
      "0 | pretrained_model | AlexNet           | 61.1 M\n",
      "1 | pooling_layer    | AdaptiveAvgPool2d | 0     \n",
      "2 | classifer        | Linear            | 771   \n",
      "3 | train_f1         | F1                | 0     \n",
      "4 | valid_f1         | F1                | 0     \n",
      "5 | train_auc        | AUROC             | 0     \n",
      "-------------------------------------------------------\n",
      "61.1 M    Trainable params\n",
      "0         Non-trainable params\n",
      "61.1 M    Total params\n",
      "244.406   Total estimated model params size (MB)\n"
     ]
    },
    {
     "data": {
      "application/vnd.jupyter.widget-view+json": {
       "model_id": "",
       "version_major": 2,
       "version_minor": 0
      },
      "text/plain": [
       "Validation sanity check: 0it [00:00, ?it/s]"
      ]
     },
     "metadata": {},
     "output_type": "display_data"
    },
    {
     "name": "stderr",
     "output_type": "stream",
     "text": [
      "/home/jovyan/conda/lib/python3.8/site-packages/torch/nn/functional.py:718: UserWarning: Named tensors and all their associated APIs are an experimental feature and subject to change. Please do not use them for anything important until they are released as stable. (Triggered internally at  /pytorch/c10/core/TensorImpl.h:1156.)\n",
      "  return torch.max_pool2d(input, kernel_size, stride, padding, dilation, ceil_mode)\n"
     ]
    },
    {
     "data": {
      "application/vnd.jupyter.widget-view+json": {
       "model_id": "b5b2a3c9f93c4487bcee3f43dc02824c",
       "version_major": 2,
       "version_minor": 0
      },
      "text/plain": [
       "Training: -1it [00:00, ?it/s]"
      ]
     },
     "metadata": {},
     "output_type": "display_data"
    },
    {
     "name": "stderr",
     "output_type": "stream",
     "text": [
      "/home/jovyan/conda/lib/python3.8/site-packages/pytorch_lightning/trainer/trainer.py:1047: UserWarning: Detected KeyboardInterrupt, attempting graceful shutdown...\n",
      "  rank_zero_warn(\"Detected KeyboardInterrupt, attempting graceful shutdown...\")\n"
     ]
    }
   ],
   "source": [
    "trainer.fit(mrnet, train_loader, validation_loader)"
   ]
  },
  {
   "cell_type": "code",
   "execution_count": null,
   "id": "76f34774",
   "metadata": {
    "gradient": {}
   },
   "outputs": [],
   "source": [
    "m = MRNet.load_from_checkpoint(callback.best_model_path)"
   ]
  },
  {
   "cell_type": "code",
   "execution_count": null,
   "id": "746ac864",
   "metadata": {
    "gradient": {}
   },
   "outputs": [],
   "source": [
    "m(validation_dataset[0])"
   ]
  },
  {
   "cell_type": "code",
   "execution_count": null,
   "id": "87348630",
   "metadata": {
    "gradient": {}
   },
   "outputs": [],
   "source": [
    "#export model\n",
    "filepath = 'model_v2.onnx'\n",
    "model = mrnet\n",
    "input_sample = torch.randn((64, 3, 227, 227))\n",
    "model.to_onnx(filepath, input_sample, export_params=True)"
   ]
  }
 ],
 "metadata": {
  "kernelspec": {
   "display_name": "Python 3 (ipykernel)",
   "language": "python",
   "name": "python3"
  },
  "language_info": {
   "codemirror_mode": {
    "name": "ipython",
    "version": 3
   },
   "file_extension": ".py",
   "mimetype": "text/x-python",
   "name": "python",
   "nbconvert_exporter": "python",
   "pygments_lexer": "ipython3",
   "version": "3.8.8"
  }
 },
 "nbformat": 4,
 "nbformat_minor": 5
}
