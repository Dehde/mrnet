{
 "cells": [
  {
   "cell_type": "code",
   "execution_count": null,
   "id": "piano-transportation",
   "metadata": {
    "collapsed": false,
    "gradient": {
     "source_hidden": false
    },
    "jupyter": {
     "outputs_hidden": false
    },
    "scrolled": true
   },
   "outputs": [],
   "source": [
    "# !pip install tqdm\n",
    "# !pip install torch\n",
    "# !pip install torchvision torchaudio\n",
    "# !pip install tensorboardX\n",
    "# !pip install scikit-learn\n",
    "# !pip install pytorch-lightning\n",
    "# !pip install git+https://github.com/ncullen93/torchsample\n",
    "# !pip install nibabel\n",
    "# !pip install wget\n",
    "# !pip install ipywidgets\n",
    "# !pip install widgetsnbextension\n",
    "# !pip install tensorflow\n",
    "\n",
    "# jupyter labextension install @jupyter-widgets/jupyterlab-manager > /dev/null\n",
    "# jupyter nbextension enable --py widgetsnbextension"
   ]
  },
  {
   "cell_type": "code",
   "execution_count": null,
   "id": "parliamentary-guidance",
   "metadata": {
    "collapsed": false,
    "gradient": {
     "source_hidden": false
    },
    "jupyter": {
     "outputs_hidden": false
    }
   },
   "outputs": [],
   "source": [
    "import shutil\n",
    "import os\n",
    "import time\n",
    "from datetime import datetime\n",
    "import argparse\n",
    "import numpy as np\n",
    "from tqdm import tqdm\n",
    "import multiprocessing\n",
    "\n",
    "import torch\n",
    "import torch.nn as nn\n",
    "import torchmetrics\n",
    "import torch.optim as optim\n",
    "from torch.autograd import Variable\n",
    "from torchsample.transforms import RandomRotate, RandomTranslate, RandomFlip, ToTensor, Compose, RandomAffine\n",
    "from torchvision import transforms\n",
    "import torch.nn.functional as F\n",
    "from tensorboardX import SummaryWriter\n",
    "\n",
    "import model\n",
    "from dataset import MRDatasetMerged\n",
    "from torch.utils.data import DataLoader \n",
    "\n",
    "import pytorch_lightning as pl\n",
    "from sklearn import metrics\n",
    "from ipywidgets import IntProgress"
   ]
  },
  {
   "cell_type": "code",
   "execution_count": null,
   "id": "rental-texture",
   "metadata": {
    "gradient": {}
   },
   "outputs": [
    {
     "name": "stdout",
     "output_type": "stream",
     "text": [
      "Enabling notebook extension jupyter-js-widgets/extension...\n",
      "      - Validating: \u001b[32mOK\u001b[0m\n"
     ]
    }
   ],
   "source": [
    "!jupyter nbextension enable --py widgetsnbextension\n",
    "#%load_ext tensorboard\n",
    "#%tensorboard --logdir lightning_logs/"
   ]
  },
  {
   "cell_type": "code",
   "execution_count": null,
   "id": "herbal-lotus",
   "metadata": {
    "gradient": {}
   },
   "outputs": [],
   "source": [
    "class Args:\n",
    "    def __init__(self):\n",
    "        self.task = \"abnormal\" #['abnormal', 'acl', 'meniscus']\n",
    "        self.plane = \"sagittal\" #['sagittal', 'coronal', 'axial']\n",
    "        self.prefix_name = \"Test\"\n",
    "        self.augment = 1 #[0, 1]\n",
    "        self.lr_scheduler = \"plateau\" #['plateau', 'step']\n",
    "        self.gamma = 0.5\n",
    "        self.epochs = 1\n",
    "        self.lr = 1e-5\n",
    "        self.flush_history = 0 #[0, 1]\n",
    "        self.save_model = 1 #[0, 1]\n",
    "        self.patience = 5\n",
    "        self.log_every = 100\n",
    "        \n",
    "args = Args()"
   ]
  },
  {
   "cell_type": "code",
   "execution_count": null,
   "id": "removed-smoke",
   "metadata": {
    "gradient": {}
   },
   "outputs": [
    {
     "name": "stderr",
     "output_type": "stream",
     "text": [
      "/opt/conda/lib/python3.8/site-packages/torchmetrics/utilities/prints.py:36: UserWarning: Metric `AUROC` will save all targets and predictions in buffer. For large datasets this may lead to large memory footprint.\n",
      "  warnings.warn(*args, **kwargs)\n"
     ]
    }
   ],
   "source": [
    "def to_tensor(x):\n",
    "    return torch.Tensor(x)\n",
    "\n",
    "num_workers = multiprocessing.cpu_count() - 1\n",
    "\n",
    "log_root_folder = \"./logs/{0}/{1}/\".format(args.task, args.plane)\n",
    "if args.flush_history == 1:\n",
    "    objects = os.listdir(log_root_folder)\n",
    "    for f in objects:\n",
    "        if os.path.isdir(log_root_folder + f):\n",
    "            shutil.rmtree(log_root_folder + f)\n",
    "\n",
    "now = datetime.now()\n",
    "logdir = log_root_folder + now.strftime(\"%Y%m%d-%H%M%S\") + \"/\"\n",
    "os.makedirs(logdir)\n",
    "\n",
    "writer = SummaryWriter(logdir)\n",
    "\n",
    "# augmentor = Compose([\n",
    "#     transforms.Lambda(to_tensor),\n",
    "#     RandomRotate(25),\n",
    "#     RandomTranslate([0.11, 0.11]),\n",
    "#     RandomFlip(),\n",
    "# #     transforms.Lambda(lambda x: x.repeat(3, 1, 1, 1).permute(1, 0, 2, 3)),\n",
    "# ])\n",
    "\n",
    "train_dataset = MRDatasetMerged('./data/', transform=None, train=True)\n",
    "validation_dataset = MRDatasetMerged('./data/', train=False)\n",
    "\n",
    "train_loader = DataLoader(train_dataset, batch_size=1, shuffle=True, num_workers=num_workers, drop_last=False)\n",
    "validation_loader = DataLoader(validation_dataset, batch_size=1, shuffle=False, num_workers=num_workers, drop_last=False)\n",
    "\n",
    "mrnet = model.MRNet()"
   ]
  },
  {
   "cell_type": "code",
   "execution_count": null,
   "id": "extensive-broadcasting",
   "metadata": {
    "gradient": {}
   },
   "outputs": [],
   "source": [
    "monitor = \"val_f1\"\n",
    "\n",
    "callback = pl.callbacks.ModelCheckpoint(\n",
    "            monitor=f'{monitor}',\n",
    "            dirpath=f'/notebooks/checkpoints_{monitor}/',\n",
    "            filename='checkpoint-{epoch:02d}-{' + f'{monitor}' + ':.2f}',\n",
    "            save_top_k=3,\n",
    "            mode='min',\n",
    "        )"
   ]
  },
  {
   "cell_type": "code",
   "execution_count": null,
   "id": "olympic-grenada",
   "metadata": {
    "gradient": {}
   },
   "outputs": [
    {
     "name": "stderr",
     "output_type": "stream",
     "text": [
      "/opt/conda/lib/python3.8/site-packages/torch/cuda/__init__.py:52: UserWarning: CUDA initialization: Found no NVIDIA driver on your system. Please check that you have an NVIDIA GPU and installed a driver from http://www.nvidia.com/Download/index.aspx (Triggered internally at  ../c10/cuda/CUDAFunctions.cpp:104.)\n",
      "  return torch._C._cuda_getDeviceCount() > 0\n",
      "GPU available: False, used: False\n",
      "TPU available: False, using: 0 TPU cores\n"
     ]
    }
   ],
   "source": [
    "trainer = pl.Trainer(max_epochs=1, gpus=0, callbacks=[callback]) #1"
   ]
  },
  {
   "cell_type": "code",
   "execution_count": null,
   "id": "fitting-thumb",
   "metadata": {
    "gradient": {}
   },
   "outputs": [
    {
     "name": "stderr",
     "output_type": "stream",
     "text": [
      "\n",
      "  | Name             | Type              | Params\n",
      "-------------------------------------------------------\n",
      "0 | pretrained_model | AlexNet           | 61.1 M\n",
      "1 | pooling_layer    | AdaptiveAvgPool2d | 0     \n",
      "2 | classifer        | Linear            | 771   \n",
      "3 | train_f1         | F1                | 0     \n",
      "4 | valid_f1         | F1                | 0     \n",
      "5 | train_auc        | AUROC             | 0     \n",
      "-------------------------------------------------------\n",
      "61.1 M    Trainable params\n",
      "0         Non-trainable params\n",
      "61.1 M    Total params\n",
      "244.406   Total estimated model params size (MB)\n"
     ]
    },
    {
     "data": {
      "application/vnd.jupyter.widget-view+json": {
       "model_id": "",
       "version_major": 2,
       "version_minor": 0
      },
      "text/plain": [
       "HBox(children=(HTML(value='Validation sanity check'), FloatProgress(value=1.0, bar_style='info', layout=Layout…"
      ]
     },
     "metadata": {},
     "output_type": "display_data"
    },
    {
     "data": {
      "application/vnd.jupyter.widget-view+json": {
       "model_id": "f4cd80aafa6e4b70b6ff0a17865855cf",
       "version_major": 2,
       "version_minor": 0
      },
      "text/plain": [
       "HBox(children=(HTML(value='Training'), FloatProgress(value=1.0, bar_style='info', layout=Layout(flex='2'), max…"
      ]
     },
     "metadata": {},
     "output_type": "display_data"
    }
   ],
   "source": [
    "trainer.fit(mrnet, train_loader, validation_loader)"
   ]
  },
  {
   "cell_type": "code",
   "execution_count": null,
   "id": "expired-hawaii",
   "metadata": {
    "gradient": {}
   },
   "outputs": [],
   "source": [
    "m = MRNet.load_from_checkpoint(callback.best_model_path)"
   ]
  },
  {
   "cell_type": "code",
   "execution_count": null,
   "id": "pointed-behavior",
   "metadata": {
    "gradient": {}
   },
   "outputs": [],
   "source": [
    "m(validation_dataset[0])"
   ]
  },
  {
   "cell_type": "code",
   "execution_count": null,
   "id": "spare-pickup",
   "metadata": {
    "gradient": {}
   },
   "outputs": [],
   "source": [
    "#export model\n",
    "filepath = 'model_v2.onnx'\n",
    "model = mrnet\n",
    "input_sample = torch.randn((64, 3, 227, 227))\n",
    "model.to_onnx(filepath, input_sample, export_params=True)"
   ]
  }
 ],
 "metadata": {
  "kernelspec": {
   "display_name": "Python 3",
   "language": "python",
   "name": "python3"
  },
  "language_info": {
   "codemirror_mode": {
    "name": "ipython",
    "version": 3
   },
   "file_extension": ".py",
   "mimetype": "text/x-python",
   "name": "python",
   "nbconvert_exporter": "python",
   "pygments_lexer": "ipython3",
   "version": "3.8.5"
  }
 },
 "nbformat": 4,
 "nbformat_minor": 5
}
