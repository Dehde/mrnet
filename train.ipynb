{
 "cells": [
  {
   "cell_type": "code",
   "execution_count": 1,
   "id": "2e0e1346",
   "metadata": {
    "ExecuteTime": {
     "end_time": "2021-04-27T19:44:15.093994Z",
     "start_time": "2021-04-27T19:44:12.591400Z"
    }
   },
   "outputs": [],
   "source": [
    "# !pip install tqdm\n",
    "# !pip install torch torchvision torchaudio\n",
    "# !pip install fastai\n",
    "# !pip install tensorboardX\n",
    "# !pip install scikit-learn\n",
    "# !pip install \"git+https://github.com/ncullen93/torchsample.git#egg=torchsample\"\n",
    "# !pip install nibabel\n",
    "# !pip install nbdev"
   ]
  },
  {
   "cell_type": "code",
   "execution_count": 2,
   "id": "aa76fef0",
   "metadata": {
    "ExecuteTime": {
     "end_time": "2021-04-27T19:43:55.702262Z",
     "start_time": "2021-04-27T19:43:55.141872Z"
    }
   },
   "outputs": [],
   "source": [
    "import shutil\n",
    "import os\n",
    "import time\n",
    "from datetime import datetime\n",
    "import argparse\n",
    "import numpy as np\n",
    "from tqdm import tqdm\n",
    "from nbdev import *\n",
    "\n",
    "import torch\n",
    "import torch.nn as nn\n",
    "import torch.optim as optim\n",
    "from torch.autograd import Variable\n",
    "from torchsample.transforms import RandomRotate, RandomTranslate, RandomFlip, ToTensor, Compose, RandomAffine\n",
    "from torchvision import transforms\n",
    "import torch.nn.functional as F\n",
    "from tensorboardX import SummaryWriter\n",
    "\n",
    "from dataloader import MRDataset\n",
    "import model\n",
    "\n",
    "from sklearn import metrics\n",
    "from fastai.vision.all import *"
   ]
  },
  {
   "cell_type": "code",
   "execution_count": 3,
   "id": "14dc0d35",
   "metadata": {
    "ExecuteTime": {
     "end_time": "2021-04-27T19:41:46.416005Z",
     "start_time": "2021-04-27T19:41:46.410614Z"
    }
   },
   "outputs": [],
   "source": [
    "# parser.add_argument('-t', '--task', type=str, required=True,\n",
    "#                     choices=['abnormal', 'acl', 'meniscus'])\n",
    "# parser.add_argument('-p', '--plane', type=str, required=True,\n",
    "#                     choices=['sagittal', 'coronal', 'axial'])\n",
    "# parser.add_argument('--prefix_name', type=str, required=True)\n",
    "# parser.add_argument('--augment', type=int, choices=[0, 1], default=1)\n",
    "# parser.add_argument('--lr_scheduler', type=str,\n",
    "#                     default='plateau', choices=['plateau', 'step'])\n",
    "# parser.add_argument('--gamma', type=float, default=0.5)\n",
    "# parser.add_argument('--epochs', type=int, default=50)\n",
    "# parser.add_argument('--lr', type=float, default=1e-5)\n",
    "# parser.add_argument('--flush_history', type=int, choices=[0, 1], default=0)\n",
    "# parser.add_argument('--save_model', type=int, choices=[0, 1], default=1)\n",
    "# parser.add_argument('--patience', type=int, default=5)\n",
    "# parser.add_argument('--log_every', type=int, default=100)\n",
    "# args = parser.parse_args()\n",
    "\n",
    "class Args:\n",
    "    def __init__(self):\n",
    "        self.task = \"abnormal\"\n",
    "        self.plane = \"sagittal\"\n",
    "        self.prefix_name = \"Test\"\n",
    "        self.augment = 1\n",
    "        self.lr_scheduler = \"plateau\"\n",
    "        self.gamma = 0.5\n",
    "        self.epochs = 50\n",
    "        self.lr = 1e-5\n",
    "        self.flush_history = 0\n",
    "        self.save_model =1\n",
    "        self.patience = 5\n",
    "        self.log_every = 100\n",
    "        \n",
    "args = Args()"
   ]
  },
  {
   "cell_type": "code",
   "execution_count": 4,
   "id": "4c116ad2",
   "metadata": {
    "ExecuteTime": {
     "end_time": "2021-04-27T19:41:46.538804Z",
     "start_time": "2021-04-27T19:41:46.530415Z"
    }
   },
   "outputs": [
    {
     "output_type": "execute_result",
     "data": {
      "text/plain": [
       "'abnormal'"
      ]
     },
     "metadata": {},
     "execution_count": 4
    }
   ],
   "source": [
    "args.task"
   ]
  },
  {
   "cell_type": "code",
   "execution_count": 5,
   "id": "93d3a681",
   "metadata": {
    "ExecuteTime": {
     "end_time": "2021-04-27T20:10:12.074484Z",
     "start_time": "2021-04-27T20:10:11.272447Z"
    }
   },
   "outputs": [
    {
     "output_type": "stream",
     "name": "stdout",
     "text": [
      "./data/train-abnormal.csv\n"
     ]
    }
   ],
   "source": [
    "log_root_folder = \"./logs/{0}/{1}/\".format(args.task, args.plane)\n",
    "if args.flush_history == 1:\n",
    "    objects = os.listdir(log_root_folder)\n",
    "    for f in objects:\n",
    "        if os.path.isdir(log_root_folder + f):\n",
    "            shutil.rmtree(log_root_folder + f)\n",
    "\n",
    "now = datetime.now()\n",
    "logdir = log_root_folder + now.strftime(\"%Y%m%d-%H%M%S\") + \"/\"\n",
    "os.makedirs(logdir)\n",
    "\n",
    "writer = SummaryWriter(logdir)\n",
    "\n",
    "augmentor = Compose([\n",
    "    transforms.Lambda(lambda x: torch.Tensor(x)),\n",
    "    RandomRotate(25),\n",
    "    RandomTranslate([0.11, 0.11]),\n",
    "    RandomFlip(),\n",
    "    transforms.Lambda(lambda x: x.repeat(3, 1, 1, 1).permute(1, 0, 2, 3)),\n",
    "])\n",
    "\n",
    "train_dataset = MRDataset('./data/', args.task,\n",
    "                          args.plane, transform=augmentor, train=True)\n",
    "# train_loader = torch.utils.data.DataLoader(\n",
    "#     train_dataset, batch_size=1, shuffle=True, num_workers=11, drop_last=False)\n",
    "train_loader = DataLoader(train_dataset, batch_size=1, shuffle=True, num_workers=7, drop_last=False)\n",
    "\n",
    "validation_dataset = MRDataset(\n",
    "    './data/', args.task, args.plane, train=False)\n",
    "# validation_loader = torch.utils.data.DataLoader(\n",
    "#     validation_dataset, batch_size=1, shuffle=-True, num_workers=11, drop_last=False)\n",
    "train_loader = DataLoader(train_dataset, batch_size=1, shuffle=False, num_workers=3, drop_last=False, device=\"cuda:0\")\n",
    "validation_loader = DataLoader(validation_dataset, batch_size=1, shuffle=False, num_workers=3, drop_last=False, device=\"cuda:0\")\n",
    "\n",
    "\n",
    "\n",
    "mrnet = model.MRNet()\n",
    "bceloss = nn.BCEWithLogitsLoss()"
   ]
  },
  {
   "cell_type": "code",
   "execution_count": 6,
   "metadata": {},
   "outputs": [],
   "source": [
    "dls = DataLoaders(train_loader, validation_loader)"
   ]
  },
  {
   "source": [
    "learn = Learner(dls, mrnet, loss_func=bceloss)"
   ],
   "cell_type": "code",
   "metadata": {},
   "execution_count": 7,
   "outputs": []
  },
  {
   "cell_type": "code",
   "execution_count": 8,
   "id": "c5df3cd1",
   "metadata": {
    "ExecuteTime": {
     "end_time": "2021-04-27T19:52:06.102329Z",
     "start_time": "2021-04-27T19:52:06.098115Z"
    }
   },
   "outputs": [
    {
     "output_type": "execute_result",
     "data": {
      "text/plain": [
       "<fastai.data.load.DataLoader at 0x7fc3c24a1a00>"
      ]
     },
     "metadata": {},
     "execution_count": 8
    }
   ],
   "source": [
    "DataLoader(train_dataset, batch_size=1, shuffle=True, num_workers=7, drop_last=False)"
   ]
  },
  {
   "cell_type": "code",
   "execution_count": 9,
   "id": "6711776a",
   "metadata": {
    "ExecuteTime": {
     "end_time": "2021-04-27T19:50:11.113107Z",
     "start_time": "2021-04-27T19:50:07.264077Z"
    }
   },
   "outputs": [],
   "source": [
    "#learn.fine_tune(1)"
   ]
  },
  {
   "cell_type": "code",
   "execution_count": null,
   "metadata": {},
   "outputs": [],
   "source": []
  }
 ],
 "metadata": {
  "kernelspec": {
   "name": "python385jvsc74a57bd0b91e038ac83daa44d328a3c05a09fdbdc71c0c1e84a633e91d80e334ba830cb9",
   "display_name": "Python 3.8.5 64-bit ('base': conda)"
  },
  "language_info": {
   "codemirror_mode": {
    "name": "ipython",
    "version": 3
   },
   "file_extension": ".py",
   "mimetype": "text/x-python",
   "name": "python",
   "nbconvert_exporter": "python",
   "pygments_lexer": "ipython3",
   "version": "3.8.5"
  },
  "toc": {
   "base_numbering": 1,
   "nav_menu": {},
   "number_sections": true,
   "sideBar": true,
   "skip_h1_title": false,
   "title_cell": "Table of Contents",
   "title_sidebar": "Contents",
   "toc_cell": false,
   "toc_position": {},
   "toc_section_display": true,
   "toc_window_display": false
  }
 },
 "nbformat": 4,
 "nbformat_minor": 5
}