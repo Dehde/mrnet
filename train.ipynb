{
 "cells": [
  {
   "cell_type": "code",
   "execution_count": 1,
   "id": "2e0e1346",
   "metadata": {
    "ExecuteTime": {
     "end_time": "2021-04-27T19:44:15.093994Z",
     "start_time": "2021-04-27T19:44:12.591400Z"
    },
    "scrolled": true
   },
   "outputs": [
    {
     "name": "stdout",
     "output_type": "stream",
     "text": [
      "Requirement already satisfied: tqdm in /home/rob/anaconda3/envs/mrnet/lib/python3.8/site-packages (4.60.0)\n",
      "Requirement already satisfied: torch in /home/rob/anaconda3/envs/mrnet/lib/python3.8/site-packages (1.6.0)\n",
      "Requirement already satisfied: future in /home/rob/anaconda3/envs/mrnet/lib/python3.8/site-packages (from torch) (0.18.2)\n",
      "Requirement already satisfied: numpy in /home/rob/anaconda3/envs/mrnet/lib/python3.8/site-packages (from torch) (1.20.2)\n",
      "Requirement already satisfied: torchvision in /home/rob/anaconda3/envs/mrnet/lib/python3.8/site-packages (0.7.0)\n",
      "Requirement already satisfied: torchaudio in /home/rob/anaconda3/envs/mrnet/lib/python3.8/site-packages (0.8.1)\n",
      "Collecting torch==1.8.1\n",
      "  Downloading torch-1.8.1-cp38-cp38-manylinux1_x86_64.whl (804.1 MB)\n",
      "\u001b[K     |████████████████████████████████| 804.1 MB 3.2 kB/s eta 0:00:011  |                                | 604 kB 2.6 MB/s eta 0:05:07     |███▍                            | 85.9 MB 9.8 MB/s eta 0:01:14     |███▍                            | 86.1 MB 9.8 MB/s eta 0:01:14     |████                            | 101.2 MB 11.7 MB/s eta 0:01:01     |████                            | 103.0 MB 11.7 MB/s eta 0:01:01     |████▋                           | 114.8 MB 10.6 MB/s eta 0:01:06     |█████▎                          | 132.4 MB 13.7 MB/s eta 0:00:50     |███████▋                        | 191.5 MB 6.2 MB/s eta 0:01:39     |████████▌                       | 214.9 MB 10.7 MB/s eta 0:00:55     |█████████▉                      | 247.6 MB 12.7 MB/s eta 0:00:44��████                      | 248.9 MB 12.7 MB/s eta 0:00:44MB/s eta 0:00:52     |█████████████▏                  | 330.8 MB 813 kB/s eta 0:09:42     |█████████████▌                  | 338.6 MB 15.8 MB/s eta 0:00:30     |█████████████▋                  | 341.1 MB 15.8 MB/s eta 0:00:30        | 342.9 MB 15.8 MB/s eta 0:00:30     |██████████████▌                 | 363.6 MB 3.6 MB/s eta 0:02:03███▉                 | 373.9 MB 3.6 MB/s eta 0:02:00     |███████████████▏                | 380.0 MB 12.2 MB/s eta 0:00:35     |████████████████                | 401.9 MB 4.8 MB/s eta 0:01:24��▍               | 410.7 MB 13.8 MB/s eta 0:00:29��███████▎              | 435.1 MB 1.8 MB/s eta 0:03:27��███████▍              | 436.4 MB 1.8 MB/s eta 0:03:26     |█████████████████▌              | 441.0 MB 14.5 MB/s eta 0:00:26     |███████████████████▊            | 494.4 MB 12.0 MB/s eta 0:00:26     |████████████████████▏           | 508.1 MB 13.8 MB/s eta 0:00:22�█████████           | 526.4 MB 765 kB/s eta 0:06:03��████████████████████▊          | 546.9 MB 1.8 MB/s eta 0:02:22     |██████████████████████          | 555.0 MB 1.8 MB/s eta 0:02:17     |██████████████████████▏         | 557.0 MB 11.9 MB/s eta 0:00:21        | 561.4 MB 11.9 MB/s eta 0:00:21████████████▍         | 561.6 MB 11.9 MB/s eta 0:00:21     |█████████████████████████       | 629.2 MB 17.4 MB/s eta 0:00:11MB/s eta 0:00:10| 653.6 MB 15.2 MB/s eta 0:00:10     |██████████████████████████      | 655.9 MB 15.2 MB/s eta 0:00:10     |██████████████████████████▏     | 657.9 MB 15.2 MB/s eta 0:00:10████████▏     | 658.9 MB 15.2 MB/s eta 0:00:10     |██████████████████████████▍     | 662.0 MB 15.2 MB/s eta 0:00:10     |██████████████████████████▍     | 662.6 MB 15.2 MB/s eta 0:00:10     |██████████████████████████▋     | 669.9 MB 17.1 MB/s eta 0:00:08     |██████████████████████████▊     | 672.1 MB 17.1 MB/s eta 0:00:08     |███████████████████████████     | 677.9 MB 17.1 MB/s eta 0:00:08     |███████████████████████████▋    | 693.6 MB 15.2 MB/s eta 0:00:08��██████████████    | 703.5 MB 15.2 MB/s eta 0:00:07703.7 MB 15.2 MB/s eta 0:00:07     |████████████████████████████    | 704.5 MB 794 kB/s eta 0:02:06��████████████████████████▎   | 711.5 MB 15.7 MB/s eta 0:00:06█▏  | 733.1 MB 14.6 MB/s eta 0:00:05     |█████████████████████████████▋  | 743.8 MB 12.9 MB/s eta 0:00:05    |█████████████████████████████▉  | 749.3 MB 1.3 MB/s eta 0:00:423 MB 1.3 MB/s eta 0:00:35█████▏ | 758.4 MB 1.3 MB/s eta 0:00:351 MB 1.3 MB/s eta 0:00:32█████▍ | 763.2 MB 1.3 MB/s eta 0:00:32\n",
      "\u001b[?25hRequirement already satisfied: typing-extensions in /home/rob/anaconda3/envs/mrnet/lib/python3.8/site-packages (from torch==1.8.1->torchaudio) (3.7.4.3)\n",
      "Requirement already satisfied: numpy in /home/rob/anaconda3/envs/mrnet/lib/python3.8/site-packages (from torch==1.8.1->torchaudio) (1.20.2)\n",
      "Collecting torchvision\n",
      "  Downloading torchvision-0.9.1-cp38-cp38-manylinux1_x86_64.whl (17.4 MB)\n",
      "\u001b[K     |████████████████████████████████| 17.4 MB 22.6 MB/s eta 0:00:01\n",
      "\u001b[?25hRequirement already satisfied: pillow>=4.1.1 in /home/rob/anaconda3/envs/mrnet/lib/python3.8/site-packages (from torchvision) (8.2.0)\n",
      "Installing collected packages: torch, torchvision\n",
      "  Attempting uninstall: torch\n",
      "    Found existing installation: torch 1.6.0\n",
      "    Uninstalling torch-1.6.0:\n",
      "      Successfully uninstalled torch-1.6.0\n",
      "  Attempting uninstall: torchvision\n",
      "    Found existing installation: torchvision 0.7.0\n",
      "    Uninstalling torchvision-0.7.0:\n",
      "      Successfully uninstalled torchvision-0.7.0\n",
      "\u001b[31mERROR: pip's dependency resolver does not currently take into account all the packages that are installed. This behaviour is the source of the following dependency conflicts.\n",
      "fastai 2.3.0 requires torch<1.8,>=1.7.0, but you have torch 1.8.1 which is incompatible.\n",
      "fastai 2.3.0 requires torchvision<0.9,>=0.8, but you have torchvision 0.9.1 which is incompatible.\u001b[0m\n",
      "Successfully installed torch-1.8.1 torchvision-0.9.1\n",
      "Requirement already satisfied: fastai in /home/rob/anaconda3/envs/mrnet/lib/python3.8/site-packages (2.3.0)\n",
      "Requirement already satisfied: pip in /home/rob/anaconda3/envs/mrnet/lib/python3.8/site-packages (from fastai) (21.0.1)\n",
      "Requirement already satisfied: pyyaml in /home/rob/anaconda3/envs/mrnet/lib/python3.8/site-packages (from fastai) (5.4.1)\n",
      "Requirement already satisfied: fastcore<1.4,>=1.3.8 in /home/rob/anaconda3/envs/mrnet/lib/python3.8/site-packages (from fastai) (1.3.19)\n",
      "Requirement already satisfied: matplotlib in /home/rob/anaconda3/envs/mrnet/lib/python3.8/site-packages (from fastai) (3.4.1)\n",
      "Requirement already satisfied: pandas in /home/rob/anaconda3/envs/mrnet/lib/python3.8/site-packages (from fastai) (1.2.4)\n",
      "Requirement already satisfied: fastprogress>=0.2.4 in /home/rob/anaconda3/envs/mrnet/lib/python3.8/site-packages (from fastai) (1.0.0)\n",
      "Collecting torch<1.8,>=1.7.0\n",
      "  Downloading torch-1.7.1-cp38-cp38-manylinux1_x86_64.whl (776.8 MB)\n",
      "\u001b[K     |████████████████████████████████| 776.8 MB 3.0 kB/s ta 0:00:01501  |▉                               | 19.9 MB 4.6 MB/s eta 0:02:46     |██▌                             | 61.5 MB 15.4 MB/s eta 0:00:47     |██▊                             | 65.4 MB 15.4 MB/s eta 0:00:47     |███▋                            | 87.2 MB 820 kB/s eta 0:14:01     |█████▍                          | 132.1 MB 1.8 MB/s eta 0:06:06     |█████▉                          | 142.5 MB 1.2 MB/s eta 0:09:05     |█████▉                          | 142.6 MB 1.2 MB/s eta 0:09:05     |███████▍                        | 179.9 MB 16.2 MB/s eta 0:00:37     |███████████                     | 268.3 MB 1.7 MB/s eta 0:04:59     |███████████▋                    | 282.4 MB 11.8 MB/s eta 0:00:42     |███████████▊                    | 284.2 MB 11.8 MB/s eta 0:00:42     |████████████▎                   | 297.9 MB 13.0 MB/s eta 0:00:37     |████████████▊                   | 309.4 MB 14.4 MB/s eta 0:00:33     |██████████████▏                 | 343.2 MB 14.0 MB/s eta 0:00:32█████████                 | 361.7 MB 17.1 MB/s eta 0:00:25     |████████████████▉               | 409.5 MB 14.2 MB/s eta 0:00:26��█               | 410.7 MB 14.2 MB/s eta 0:00:26     |█████████████████▏              | 416.0 MB 2.7 MB/s eta 0:02:16     |█████████████████▋              | 427.3 MB 1.1 MB/s eta 0:05:05     |██████████████████              | 435.1 MB 1.1 MB/s eta 0:04:59MB/s eta 0:00:32     |██████████████████▊             | 455.7 MB 2.1 MB/s eta 0:02:35     |███████████████████             | 462.5 MB 2.1 MB/s eta 0:02:31     |███████████████████▎            | 467.2 MB 44.7 MB/s eta 0:00:07     |███████████████████▎            | 468.7 MB 44.7 MB/s eta 0:00:07     |███████████████████▋            | 475.5 MB 1.0 MB/s eta 0:04:51     |████████████████████            | 483.3 MB 820 kB/s eta 0:05:58��████████████████▎           | 492.1 MB 817 kB/s eta 0:05:49     |████████████████████████▎       | 590.3 MB 12.1 MB/s eta 0:00:162.1 MB 12.1 MB/s eta 0:00:16     |██████████████████████████      | 629.9 MB 1.0 MB/s eta 0:02:25     |██████████████████████████▌     | 642.0 MB 1.6 MB/s eta 0:01:27     |███████████████████████████▋    | 669.9 MB 2.5 MB/s eta 0:00:43     |███████████████████████████▋    | 670.0 MB 2.5 MB/s eta 0:00:43     |███████████████████████████▋    | 670.1 MB 2.5 MB/s eta 0:00:43     |████████████████████████████▎   | 685.5 MB 4.9 MB/s eta 0:00:19     |██████████████████████████████▊ | 744.9 MB 12.9 MB/s eta 0:00:03███████ | 752.4 MB 115.3 MB/s eta 0:00:01     |███████████████████████████████▏| 756.9 MB 115.3 MB/s eta 0:00:01\n",
      "\u001b[?25hRequirement already satisfied: spacy<3 in /home/rob/anaconda3/envs/mrnet/lib/python3.8/site-packages (from fastai) (2.3.5)\n",
      "Requirement already satisfied: scikit-learn in /home/rob/anaconda3/envs/mrnet/lib/python3.8/site-packages (from fastai) (0.24.2)\n",
      "Requirement already satisfied: pillow>6.0.0 in /home/rob/anaconda3/envs/mrnet/lib/python3.8/site-packages (from fastai) (8.2.0)\n",
      "Collecting torchvision<0.9,>=0.8\n",
      "  Downloading torchvision-0.8.2-cp38-cp38-manylinux1_x86_64.whl (12.8 MB)\n",
      "\u001b[K     |████████████████████████████████| 12.8 MB 14.8 MB/s eta 0:00:01    |███████████▌                    | 4.6 MB 13.6 MB/s eta 0:00:01     |████████████████████▍           | 8.2 MB 14.8 MB/s eta 0:00:01\n",
      "\u001b[?25hRequirement already satisfied: packaging in /home/rob/anaconda3/envs/mrnet/lib/python3.8/site-packages (from fastai) (20.9)\n",
      "Requirement already satisfied: requests in /home/rob/anaconda3/envs/mrnet/lib/python3.8/site-packages (from fastai) (2.25.1)\n",
      "Requirement already satisfied: scipy in /home/rob/anaconda3/envs/mrnet/lib/python3.8/site-packages (from fastai) (1.6.3)\n",
      "Requirement already satisfied: numpy in /home/rob/anaconda3/envs/mrnet/lib/python3.8/site-packages (from fastprogress>=0.2.4->fastai) (1.20.2)\n",
      "Requirement already satisfied: setuptools in /home/rob/anaconda3/envs/mrnet/lib/python3.8/site-packages (from spacy<3->fastai) (52.0.0.post20210125)\n",
      "Requirement already satisfied: wasabi<1.1.0,>=0.4.0 in /home/rob/anaconda3/envs/mrnet/lib/python3.8/site-packages (from spacy<3->fastai) (0.8.2)\n",
      "Requirement already satisfied: thinc<7.5.0,>=7.4.1 in /home/rob/anaconda3/envs/mrnet/lib/python3.8/site-packages (from spacy<3->fastai) (7.4.5)\n",
      "Requirement already satisfied: murmurhash<1.1.0,>=0.28.0 in /home/rob/anaconda3/envs/mrnet/lib/python3.8/site-packages (from spacy<3->fastai) (1.0.5)\n",
      "Requirement already satisfied: preshed<3.1.0,>=3.0.2 in /home/rob/anaconda3/envs/mrnet/lib/python3.8/site-packages (from spacy<3->fastai) (3.0.5)\n",
      "Requirement already satisfied: cymem<2.1.0,>=2.0.2 in /home/rob/anaconda3/envs/mrnet/lib/python3.8/site-packages (from spacy<3->fastai) (2.0.5)\n",
      "Requirement already satisfied: catalogue<1.1.0,>=0.0.7 in /home/rob/anaconda3/envs/mrnet/lib/python3.8/site-packages (from spacy<3->fastai) (1.0.0)\n",
      "Requirement already satisfied: srsly<1.1.0,>=1.0.2 in /home/rob/anaconda3/envs/mrnet/lib/python3.8/site-packages (from spacy<3->fastai) (1.0.5)\n",
      "Requirement already satisfied: tqdm<5.0.0,>=4.38.0 in /home/rob/anaconda3/envs/mrnet/lib/python3.8/site-packages (from spacy<3->fastai) (4.60.0)\n",
      "Requirement already satisfied: plac<1.2.0,>=0.9.6 in /home/rob/anaconda3/envs/mrnet/lib/python3.8/site-packages (from spacy<3->fastai) (1.1.3)\n",
      "Requirement already satisfied: blis<0.8.0,>=0.4.0 in /home/rob/anaconda3/envs/mrnet/lib/python3.8/site-packages (from spacy<3->fastai) (0.7.4)\n",
      "Requirement already satisfied: chardet<5,>=3.0.2 in /home/rob/anaconda3/envs/mrnet/lib/python3.8/site-packages (from requests->fastai) (4.0.0)\n",
      "Requirement already satisfied: idna<3,>=2.5 in /home/rob/anaconda3/envs/mrnet/lib/python3.8/site-packages (from requests->fastai) (2.10)\n",
      "Requirement already satisfied: certifi>=2017.4.17 in /home/rob/anaconda3/envs/mrnet/lib/python3.8/site-packages (from requests->fastai) (2020.12.5)\n",
      "Requirement already satisfied: urllib3<1.27,>=1.21.1 in /home/rob/anaconda3/envs/mrnet/lib/python3.8/site-packages (from requests->fastai) (1.26.4)\n",
      "Requirement already satisfied: typing-extensions in /home/rob/anaconda3/envs/mrnet/lib/python3.8/site-packages (from torch<1.8,>=1.7.0->fastai) (3.7.4.3)\n",
      "Requirement already satisfied: pyparsing>=2.2.1 in /home/rob/anaconda3/envs/mrnet/lib/python3.8/site-packages (from matplotlib->fastai) (2.4.7)\n",
      "Requirement already satisfied: python-dateutil>=2.7 in /home/rob/anaconda3/envs/mrnet/lib/python3.8/site-packages (from matplotlib->fastai) (2.8.1)\n",
      "Requirement already satisfied: cycler>=0.10 in /home/rob/anaconda3/envs/mrnet/lib/python3.8/site-packages (from matplotlib->fastai) (0.10.0)\n",
      "Requirement already satisfied: kiwisolver>=1.0.1 in /home/rob/anaconda3/envs/mrnet/lib/python3.8/site-packages (from matplotlib->fastai) (1.3.1)\n",
      "Requirement already satisfied: six in /home/rob/anaconda3/envs/mrnet/lib/python3.8/site-packages (from cycler>=0.10->matplotlib->fastai) (1.15.0)\n",
      "Requirement already satisfied: pytz>=2017.3 in /home/rob/anaconda3/envs/mrnet/lib/python3.8/site-packages (from pandas->fastai) (2021.1)\n",
      "Requirement already satisfied: joblib>=0.11 in /home/rob/anaconda3/envs/mrnet/lib/python3.8/site-packages (from scikit-learn->fastai) (1.0.1)\n",
      "Requirement already satisfied: threadpoolctl>=2.0.0 in /home/rob/anaconda3/envs/mrnet/lib/python3.8/site-packages (from scikit-learn->fastai) (2.1.0)\n",
      "Installing collected packages: torch, torchvision\n",
      "  Attempting uninstall: torch\n",
      "    Found existing installation: torch 1.8.1\n",
      "    Uninstalling torch-1.8.1:\n",
      "      Successfully uninstalled torch-1.8.1\n",
      "  Attempting uninstall: torchvision\n",
      "    Found existing installation: torchvision 0.9.1\n",
      "    Uninstalling torchvision-0.9.1:\n",
      "      Successfully uninstalled torchvision-0.9.1\n",
      "\u001b[31mERROR: pip's dependency resolver does not currently take into account all the packages that are installed. This behaviour is the source of the following dependency conflicts.\n",
      "torchaudio 0.8.1 requires torch==1.8.1, but you have torch 1.7.1 which is incompatible.\u001b[0m\n",
      "Successfully installed torch-1.7.1 torchvision-0.8.2\n",
      "Requirement already satisfied: tensorboardX in /home/rob/anaconda3/envs/mrnet/lib/python3.8/site-packages (2.2)\n",
      "Requirement already satisfied: numpy in /home/rob/anaconda3/envs/mrnet/lib/python3.8/site-packages (from tensorboardX) (1.20.2)\n",
      "Requirement already satisfied: protobuf>=3.8.0 in /home/rob/anaconda3/envs/mrnet/lib/python3.8/site-packages (from tensorboardX) (3.15.8)\n",
      "Requirement already satisfied: six>=1.9 in /home/rob/anaconda3/envs/mrnet/lib/python3.8/site-packages (from protobuf>=3.8.0->tensorboardX) (1.15.0)\n"
     ]
    },
    {
     "name": "stdout",
     "output_type": "stream",
     "text": [
      "Requirement already satisfied: scikit-learn in /home/rob/anaconda3/envs/mrnet/lib/python3.8/site-packages (0.24.2)\n",
      "Requirement already satisfied: numpy>=1.13.3 in /home/rob/anaconda3/envs/mrnet/lib/python3.8/site-packages (from scikit-learn) (1.20.2)\n",
      "Requirement already satisfied: joblib>=0.11 in /home/rob/anaconda3/envs/mrnet/lib/python3.8/site-packages (from scikit-learn) (1.0.1)\n",
      "Requirement already satisfied: scipy>=0.19.1 in /home/rob/anaconda3/envs/mrnet/lib/python3.8/site-packages (from scikit-learn) (1.6.3)\n",
      "Requirement already satisfied: threadpoolctl>=2.0.0 in /home/rob/anaconda3/envs/mrnet/lib/python3.8/site-packages (from scikit-learn) (2.1.0)\n",
      "Collecting torchsample\n",
      "  Cloning https://github.com/ncullen93/torchsample.git to /tmp/pip-install-o5moal9v/torchsample_bd5b938fa6454f44b7f53df9e770bf88\n",
      "  Running command git clone -q https://github.com/ncullen93/torchsample.git /tmp/pip-install-o5moal9v/torchsample_bd5b938fa6454f44b7f53df9e770bf88\n",
      "Requirement already satisfied: nibabel in /home/rob/anaconda3/envs/mrnet/lib/python3.8/site-packages (3.2.1)\n",
      "Requirement already satisfied: numpy>=1.14 in /home/rob/anaconda3/envs/mrnet/lib/python3.8/site-packages (from nibabel) (1.20.2)\n",
      "Requirement already satisfied: packaging>=14.3 in /home/rob/anaconda3/envs/mrnet/lib/python3.8/site-packages (from nibabel) (20.9)\n",
      "Requirement already satisfied: pyparsing>=2.0.2 in /home/rob/anaconda3/envs/mrnet/lib/python3.8/site-packages (from packaging>=14.3->nibabel) (2.4.7)\n",
      "Requirement already satisfied: nbdev in /home/rob/anaconda3/envs/mrnet/lib/python3.8/site-packages (1.1.14)\n",
      "Requirement already satisfied: packaging in /home/rob/anaconda3/envs/mrnet/lib/python3.8/site-packages (from nbdev) (20.9)\n",
      "Requirement already satisfied: nbconvert<6 in /home/rob/anaconda3/envs/mrnet/lib/python3.8/site-packages (from nbdev) (5.6.1)\n",
      "Requirement already satisfied: fastcore>=1.3.19 in /home/rob/anaconda3/envs/mrnet/lib/python3.8/site-packages (from nbdev) (1.3.19)\n",
      "Requirement already satisfied: jupyter in /home/rob/anaconda3/envs/mrnet/lib/python3.8/site-packages (from nbdev) (1.0.0)\n",
      "Requirement already satisfied: pip in /home/rob/anaconda3/envs/mrnet/lib/python3.8/site-packages (from nbdev) (21.0.1)\n",
      "Requirement already satisfied: ghapi in /home/rob/anaconda3/envs/mrnet/lib/python3.8/site-packages (from nbdev) (0.1.16)\n",
      "Requirement already satisfied: pyyaml in /home/rob/anaconda3/envs/mrnet/lib/python3.8/site-packages (from nbdev) (5.4.1)\n",
      "Requirement already satisfied: ipykernel in /home/rob/anaconda3/envs/mrnet/lib/python3.8/site-packages (from nbdev) (5.5.3)\n",
      "Requirement already satisfied: nbformat>=4.4.0 in /home/rob/anaconda3/envs/mrnet/lib/python3.8/site-packages (from nbdev) (5.1.3)\n",
      "Requirement already satisfied: fastrelease in /home/rob/anaconda3/envs/mrnet/lib/python3.8/site-packages (from nbdev) (0.1.11)\n",
      "Requirement already satisfied: jupyter-client<=6.1.12 in /home/rob/anaconda3/envs/mrnet/lib/python3.8/site-packages (from nbdev) (6.1.12)\n",
      "Requirement already satisfied: pyzmq>=13 in /home/rob/anaconda3/envs/mrnet/lib/python3.8/site-packages (from jupyter-client<=6.1.12->nbdev) (22.0.3)\n",
      "Requirement already satisfied: python-dateutil>=2.1 in /home/rob/anaconda3/envs/mrnet/lib/python3.8/site-packages (from jupyter-client<=6.1.12->nbdev) (2.8.1)\n",
      "Requirement already satisfied: traitlets in /home/rob/anaconda3/envs/mrnet/lib/python3.8/site-packages (from jupyter-client<=6.1.12->nbdev) (5.0.5)\n",
      "Requirement already satisfied: jupyter-core>=4.6.0 in /home/rob/anaconda3/envs/mrnet/lib/python3.8/site-packages (from jupyter-client<=6.1.12->nbdev) (4.7.1)\n",
      "Requirement already satisfied: tornado>=4.1 in /home/rob/anaconda3/envs/mrnet/lib/python3.8/site-packages (from jupyter-client<=6.1.12->nbdev) (6.1)\n",
      "Requirement already satisfied: entrypoints>=0.2.2 in /home/rob/anaconda3/envs/mrnet/lib/python3.8/site-packages (from nbconvert<6->nbdev) (0.3)\n",
      "Requirement already satisfied: mistune<2,>=0.8.1 in /home/rob/anaconda3/envs/mrnet/lib/python3.8/site-packages (from nbconvert<6->nbdev) (0.8.4)\n",
      "Requirement already satisfied: bleach in /home/rob/anaconda3/envs/mrnet/lib/python3.8/site-packages (from nbconvert<6->nbdev) (3.3.0)\n",
      "Requirement already satisfied: pygments in /home/rob/anaconda3/envs/mrnet/lib/python3.8/site-packages (from nbconvert<6->nbdev) (2.8.1)\n",
      "Requirement already satisfied: defusedxml in /home/rob/anaconda3/envs/mrnet/lib/python3.8/site-packages (from nbconvert<6->nbdev) (0.7.1)\n",
      "Requirement already satisfied: jinja2>=2.4 in /home/rob/anaconda3/envs/mrnet/lib/python3.8/site-packages (from nbconvert<6->nbdev) (2.11.3)\n",
      "Requirement already satisfied: testpath in /home/rob/anaconda3/envs/mrnet/lib/python3.8/site-packages (from nbconvert<6->nbdev) (0.4.4)\n",
      "Requirement already satisfied: pandocfilters>=1.4.1 in /home/rob/anaconda3/envs/mrnet/lib/python3.8/site-packages (from nbconvert<6->nbdev) (1.4.3)\n",
      "Requirement already satisfied: MarkupSafe>=0.23 in /home/rob/anaconda3/envs/mrnet/lib/python3.8/site-packages (from jinja2>=2.4->nbconvert<6->nbdev) (1.1.1)\n",
      "Requirement already satisfied: jsonschema!=2.5.0,>=2.4 in /home/rob/anaconda3/envs/mrnet/lib/python3.8/site-packages (from nbformat>=4.4.0->nbdev) (3.2.0)\n",
      "Requirement already satisfied: ipython-genutils in /home/rob/anaconda3/envs/mrnet/lib/python3.8/site-packages (from nbformat>=4.4.0->nbdev) (0.2.0)\n",
      "Requirement already satisfied: pyrsistent>=0.14.0 in /home/rob/anaconda3/envs/mrnet/lib/python3.8/site-packages (from jsonschema!=2.5.0,>=2.4->nbformat>=4.4.0->nbdev) (0.17.3)\n",
      "Requirement already satisfied: six>=1.11.0 in /home/rob/anaconda3/envs/mrnet/lib/python3.8/site-packages (from jsonschema!=2.5.0,>=2.4->nbformat>=4.4.0->nbdev) (1.15.0)\n",
      "Requirement already satisfied: setuptools in /home/rob/anaconda3/envs/mrnet/lib/python3.8/site-packages (from jsonschema!=2.5.0,>=2.4->nbformat>=4.4.0->nbdev) (52.0.0.post20210125)\n",
      "Requirement already satisfied: attrs>=17.4.0 in /home/rob/anaconda3/envs/mrnet/lib/python3.8/site-packages (from jsonschema!=2.5.0,>=2.4->nbformat>=4.4.0->nbdev) (20.3.0)\n",
      "Requirement already satisfied: webencodings in /home/rob/anaconda3/envs/mrnet/lib/python3.8/site-packages (from bleach->nbconvert<6->nbdev) (0.5.1)\n",
      "Requirement already satisfied: ipython>=5.0.0 in /home/rob/anaconda3/envs/mrnet/lib/python3.8/site-packages (from ipykernel->nbdev) (7.22.0)\n",
      "Requirement already satisfied: backcall in /home/rob/anaconda3/envs/mrnet/lib/python3.8/site-packages (from ipython>=5.0.0->ipykernel->nbdev) (0.2.0)\n",
      "Requirement already satisfied: prompt-toolkit!=3.0.0,!=3.0.1,<3.1.0,>=2.0.0 in /home/rob/anaconda3/envs/mrnet/lib/python3.8/site-packages (from ipython>=5.0.0->ipykernel->nbdev) (3.0.18)\n",
      "Requirement already satisfied: pickleshare in /home/rob/anaconda3/envs/mrnet/lib/python3.8/site-packages (from ipython>=5.0.0->ipykernel->nbdev) (0.7.5)\n",
      "Requirement already satisfied: pexpect>4.3 in /home/rob/anaconda3/envs/mrnet/lib/python3.8/site-packages (from ipython>=5.0.0->ipykernel->nbdev) (4.8.0)\n",
      "Requirement already satisfied: decorator in /home/rob/anaconda3/envs/mrnet/lib/python3.8/site-packages (from ipython>=5.0.0->ipykernel->nbdev) (5.0.7)\n",
      "Requirement already satisfied: jedi>=0.16 in /home/rob/anaconda3/envs/mrnet/lib/python3.8/site-packages (from ipython>=5.0.0->ipykernel->nbdev) (0.18.0)\n",
      "Requirement already satisfied: parso<0.9.0,>=0.8.0 in /home/rob/anaconda3/envs/mrnet/lib/python3.8/site-packages (from jedi>=0.16->ipython>=5.0.0->ipykernel->nbdev) (0.8.2)\n",
      "Requirement already satisfied: ptyprocess>=0.5 in /home/rob/anaconda3/envs/mrnet/lib/python3.8/site-packages (from pexpect>4.3->ipython>=5.0.0->ipykernel->nbdev) (0.7.0)\n",
      "Requirement already satisfied: wcwidth in /home/rob/anaconda3/envs/mrnet/lib/python3.8/site-packages (from prompt-toolkit!=3.0.0,!=3.0.1,<3.1.0,>=2.0.0->ipython>=5.0.0->ipykernel->nbdev) (0.2.5)\n",
      "Requirement already satisfied: notebook in /home/rob/anaconda3/envs/mrnet/lib/python3.8/site-packages (from jupyter->nbdev) (6.3.0)\n",
      "Requirement already satisfied: qtconsole in /home/rob/anaconda3/envs/mrnet/lib/python3.8/site-packages (from jupyter->nbdev) (5.0.3)\n",
      "Requirement already satisfied: ipywidgets in /home/rob/anaconda3/envs/mrnet/lib/python3.8/site-packages (from jupyter->nbdev) (7.6.3)\n",
      "Requirement already satisfied: jupyter-console in /home/rob/anaconda3/envs/mrnet/lib/python3.8/site-packages (from jupyter->nbdev) (6.4.0)\n",
      "Requirement already satisfied: widgetsnbextension~=3.5.0 in /home/rob/anaconda3/envs/mrnet/lib/python3.8/site-packages (from ipywidgets->jupyter->nbdev) (3.5.1)\n",
      "Requirement already satisfied: jupyterlab-widgets>=1.0.0 in /home/rob/anaconda3/envs/mrnet/lib/python3.8/site-packages (from ipywidgets->jupyter->nbdev) (1.0.0)\n"
     ]
    },
    {
     "name": "stdout",
     "output_type": "stream",
     "text": [
      "Requirement already satisfied: argon2-cffi in /home/rob/anaconda3/envs/mrnet/lib/python3.8/site-packages (from notebook->jupyter->nbdev) (20.1.0)\n",
      "Requirement already satisfied: prometheus-client in /home/rob/anaconda3/envs/mrnet/lib/python3.8/site-packages (from notebook->jupyter->nbdev) (0.10.1)\n",
      "Requirement already satisfied: terminado>=0.8.3 in /home/rob/anaconda3/envs/mrnet/lib/python3.8/site-packages (from notebook->jupyter->nbdev) (0.9.4)\n",
      "Requirement already satisfied: Send2Trash>=1.5.0 in /home/rob/anaconda3/envs/mrnet/lib/python3.8/site-packages (from notebook->jupyter->nbdev) (1.5.0)\n",
      "Requirement already satisfied: cffi>=1.0.0 in /home/rob/anaconda3/envs/mrnet/lib/python3.8/site-packages (from argon2-cffi->notebook->jupyter->nbdev) (1.14.5)\n",
      "Requirement already satisfied: pycparser in /home/rob/anaconda3/envs/mrnet/lib/python3.8/site-packages (from cffi>=1.0.0->argon2-cffi->notebook->jupyter->nbdev) (2.20)\n",
      "Requirement already satisfied: pyparsing>=2.0.2 in /home/rob/anaconda3/envs/mrnet/lib/python3.8/site-packages (from packaging->nbdev) (2.4.7)\n",
      "Requirement already satisfied: qtpy in /home/rob/anaconda3/envs/mrnet/lib/python3.8/site-packages (from qtconsole->jupyter->nbdev) (1.9.0)\n"
     ]
    }
   ],
   "source": [
    "# !pip install tqdm\n",
    "# !pip install torch\n",
    "# !pip install torchvision torchaudio\n",
    "# !pip install fastai\n",
    "# !pip install tensorboardX\n",
    "# !pip install scikit-learn\n",
    "# !pip install \"git+https://github.com/ncullen93/torchsample.git#egg=torchsample\"\n",
    "# !pip install nibabel\n",
    "# !pip install nbdev"
   ]
  },
  {
   "cell_type": "code",
   "execution_count": 2,
   "id": "85ec1aa4",
   "metadata": {},
   "outputs": [
    {
     "name": "stdout",
     "output_type": "stream",
     "text": [
      "Collecting torch==1.6.0\n",
      "  Downloading torch-1.6.0-cp38-cp38-manylinux1_x86_64.whl (748.8 MB)\n",
      "\u001b[K     |████████████████████████████████| 748.8 MB 11 kB/s s eta 0:00:01   |▌                               | 10.6 MB 5.1 MB/s eta 0:02:24     |▉                               | 20.1 MB 14.6 MB/s eta 0:00:51     |█▍                              | 31.4 MB 13.3 MB/s eta 0:00:54     |██▉                             | 65.5 MB 9.2 MB/s eta 0:01:15     |███▎                            | 77.0 MB 13.2 MB/s eta 0:00:52     |████████                        | 186.4 MB 808 kB/s eta 0:11:36     |████████▋                       | 202.8 MB 735 kB/s eta 0:12:23     |████████▊                       | 203.5 MB 735 kB/s eta 0:12:22     |█████████▎                      | 216.9 MB 11.3 MB/s eta 0:00:47     |██████████                      | 233.6 MB 738 kB/s eta 0:11:38     |██████████                      | 234.2 MB 738 kB/s eta 0:11:37     |███████████▎                    | 262.7 MB 13.0 MB/s eta 0:00:38     |███████████▎                    | 264.8 MB 13.0 MB/s eta 0:00:38     |████████████▎                   | 287.6 MB 13.0 MB/s eta 0:00:36     |██████████████▊                 | 344.8 MB 14.6 MB/s eta 0:00:28     |███████████████▋                | 365.4 MB 13.5 MB/s eta 0:00:29     |████████████████▋               | 389.2 MB 13.7 MB/s eta 0:00:27     |████████████████▋               | 389.9 MB 13.7 MB/s eta 0:00:27     |██████████████████▉             | 439.7 MB 820 kB/s eta 0:06:17     |████████████████████▏           | 471.7 MB 13.6 MB/s eta 0:00:21     |██████████████████████▏         | 518.8 MB 15.4 MB/s eta 0:00:15 MB 10.7 MB/s eta 0:00:19     |███████████████████████▊        | 555.1 MB 15.2 MB/s eta 0:00:13     |███████████████████████████     | 633.6 MB 12.2 MB/s eta 0:00:10     |███████████████████████████▌    | 644.4 MB 14.6 MB/s eta 0:00:08     |████████████████████████████    | 656.3 MB 14.6 MB/s eta 0:00:07     |████████████████████████████▍   | 665.5 MB 13.9 MB/s eta 0:00:06     |██████████████████████████████▍ | 712.0 MB 830 kB/s eta 0:00:45     |███████████████████████████████▍| 735.0 MB 14.7 MB/s eta 0:00:01\n",
      "\u001b[?25hCollecting torchvision==0.7.0\n",
      "  Downloading torchvision-0.7.0-cp38-cp38-manylinux1_x86_64.whl (5.9 MB)\n",
      "\u001b[K     |████████████████████████████████| 5.9 MB 17.7 MB/s eta 0:00:01\n",
      "\u001b[?25hRequirement already satisfied: future in /home/rob/anaconda3/envs/mrnet/lib/python3.8/site-packages (from torch==1.6.0) (0.18.2)\n",
      "Requirement already satisfied: numpy in /home/rob/anaconda3/envs/mrnet/lib/python3.8/site-packages (from torch==1.6.0) (1.20.2)\n",
      "Requirement already satisfied: pillow>=4.1.1 in /home/rob/anaconda3/envs/mrnet/lib/python3.8/site-packages (from torchvision==0.7.0) (8.2.0)\n",
      "Installing collected packages: torch, torchvision\n",
      "  Attempting uninstall: torch\n",
      "    Found existing installation: torch 1.7.1\n",
      "    Uninstalling torch-1.7.1:\n",
      "      Successfully uninstalled torch-1.7.1\n",
      "  Attempting uninstall: torchvision\n",
      "    Found existing installation: torchvision 0.8.2\n",
      "    Uninstalling torchvision-0.8.2:\n",
      "      Successfully uninstalled torchvision-0.8.2\n",
      "\u001b[31mERROR: pip's dependency resolver does not currently take into account all the packages that are installed. This behaviour is the source of the following dependency conflicts.\n",
      "torchaudio 0.8.1 requires torch==1.8.1, but you have torch 1.6.0 which is incompatible.\n",
      "fastai 2.3.0 requires torch<1.8,>=1.7.0, but you have torch 1.6.0 which is incompatible.\n",
      "fastai 2.3.0 requires torchvision<0.9,>=0.8, but you have torchvision 0.7.0 which is incompatible.\u001b[0m\n",
      "Successfully installed torch-1.6.0 torchvision-0.7.0\n"
     ]
    }
   ],
   "source": [
    "# !pip install torch==1.6.0 torchvision==0.7.0"
   ]
  },
  {
   "cell_type": "code",
   "execution_count": 1,
   "id": "aa76fef0",
   "metadata": {
    "ExecuteTime": {
     "end_time": "2021-04-27T19:43:55.702262Z",
     "start_time": "2021-04-27T19:43:55.141872Z"
    }
   },
   "outputs": [],
   "source": [
    "import shutil\n",
    "import os\n",
    "import time\n",
    "from datetime import datetime\n",
    "import argparse\n",
    "import numpy as np\n",
    "from tqdm import tqdm\n",
    "from nbdev import *\n",
    "\n",
    "import torch\n",
    "import torch.nn as nn\n",
    "import torch.optim as optim\n",
    "from torch.autograd import Variable\n",
    "from torchsample.transforms import RandomRotate, RandomTranslate, RandomFlip, ToTensor, Compose, RandomAffine\n",
    "from torchvision import transforms\n",
    "import torch.nn.functional as F\n",
    "from tensorboardX import SummaryWriter\n",
    "\n",
    "from dataloader import MRDataset\n",
    "import model\n",
    "\n",
    "from sklearn import metrics\n",
    "from fastai.vision.all import *"
   ]
  },
  {
   "cell_type": "code",
   "execution_count": 2,
   "id": "14dc0d35",
   "metadata": {
    "ExecuteTime": {
     "end_time": "2021-04-27T19:41:46.416005Z",
     "start_time": "2021-04-27T19:41:46.410614Z"
    }
   },
   "outputs": [],
   "source": [
    "# parser.add_argument('-t', '--task', type=str, required=True,\n",
    "#                     choices=['abnormal', 'acl', 'meniscus'])\n",
    "# parser.add_argument('-p', '--plane', type=str, required=True,\n",
    "#                     choices=['sagittal', 'coronal', 'axial'])\n",
    "# parser.add_argument('--prefix_name', type=str, required=True)\n",
    "# parser.add_argument('--augment', type=int, choices=[0, 1], default=1)\n",
    "# parser.add_argument('--lr_scheduler', type=str,\n",
    "#                     default='plateau', choices=['plateau', 'step'])\n",
    "# parser.add_argument('--gamma', type=float, default=0.5)\n",
    "# parser.add_argument('--epochs', type=int, default=50)\n",
    "# parser.add_argument('--lr', type=float, default=1e-5)\n",
    "# parser.add_argument('--flush_history', type=int, choices=[0, 1], default=0)\n",
    "# parser.add_argument('--save_model', type=int, choices=[0, 1], default=1)\n",
    "# parser.add_argument('--patience', type=int, default=5)\n",
    "# parser.add_argument('--log_every', type=int, default=100)\n",
    "# args = parser.parse_args()\n",
    "\n",
    "class Args:\n",
    "    def __init__(self):\n",
    "        self.task = \"abnormal\"\n",
    "        self.plane = \"sagittal\"\n",
    "        self.prefix_name = \"Test\"\n",
    "        self.augment = 1\n",
    "        self.lr_scheduler = \"plateau\"\n",
    "        self.gamma = 0.5\n",
    "        self.epochs = 1\n",
    "        self.lr = 1e-5\n",
    "        self.flush_history = 0\n",
    "        self.save_model =1\n",
    "        self.patience = 5\n",
    "        self.log_every = 100\n",
    "        \n",
    "args = Args()"
   ]
  },
  {
   "cell_type": "code",
   "execution_count": 3,
   "id": "4c116ad2",
   "metadata": {
    "ExecuteTime": {
     "end_time": "2021-04-27T19:41:46.538804Z",
     "start_time": "2021-04-27T19:41:46.530415Z"
    }
   },
   "outputs": [
    {
     "data": {
      "text/plain": [
       "'abnormal'"
      ]
     },
     "execution_count": 3,
     "metadata": {},
     "output_type": "execute_result"
    }
   ],
   "source": [
    "args.task"
   ]
  },
  {
   "cell_type": "code",
   "execution_count": 4,
   "id": "93d3a681",
   "metadata": {
    "ExecuteTime": {
     "end_time": "2021-04-27T20:10:12.074484Z",
     "start_time": "2021-04-27T20:10:11.272447Z"
    }
   },
   "outputs": [
    {
     "name": "stdout",
     "output_type": "stream",
     "text": [
      "./data/train-abnormal.csv\n"
     ]
    }
   ],
   "source": [
    "log_root_folder = \"./logs/{0}/{1}/\".format(args.task, args.plane)\n",
    "if args.flush_history == 1:\n",
    "    objects = os.listdir(log_root_folder)\n",
    "    for f in objects:\n",
    "        if os.path.isdir(log_root_folder + f):\n",
    "            shutil.rmtree(log_root_folder + f)\n",
    "\n",
    "now = datetime.now()\n",
    "logdir = log_root_folder + now.strftime(\"%Y%m%d-%H%M%S\") + \"/\"\n",
    "os.makedirs(logdir)\n",
    "\n",
    "writer = SummaryWriter(logdir)\n",
    "\n",
    "augmentor = Compose([\n",
    "    transforms.Lambda(lambda x: torch.Tensor(x)),\n",
    "    RandomRotate(25),\n",
    "    RandomTranslate([0.11, 0.11]),\n",
    "    RandomFlip(),\n",
    "    transforms.Lambda(lambda x: x.repeat(3, 1, 1, 1).permute(1, 0, 2, 3)),\n",
    "])\n",
    "\n",
    "train_dataset = MRDataset('./data/', args.task, args.plane, transform=augmentor, train=True)\n",
    "validation_dataset = MRDataset('./data/', args.task, args.plane, train=False)\n",
    "\n",
    "# train_loader = torch.utils.data.DataLoader(\n",
    "#     train_dataset, batch_size=1, shuffle=True, num_workers=11, drop_last=False)\n",
    "train_loader = DataLoader(train_dataset, batch_size=1, shuffle=True, num_workers=7, drop_last=False)\n",
    "\n",
    "# validation_loader = torch.utils.data.DataLoader(\n",
    "#         validation_dataset, batch_size=1, shuffle=-True, num_workers=11, drop_last=False)\n",
    "\n",
    "validation_loader = DataLoader(validation_dataset, batch_size=1, shuffle=False, num_workers=7, drop_last=False)\n",
    "\n",
    "\n",
    "mrnet = model.MRNet()\n",
    "bceloss = nn.BCEWithLogitsLoss()"
   ]
  },
  {
   "cell_type": "code",
   "execution_count": 5,
   "id": "d0742411",
   "metadata": {},
   "outputs": [],
   "source": [
    "dls = DataLoaders(train_loader, validation_loader)"
   ]
  },
  {
   "cell_type": "code",
   "execution_count": 12,
   "id": "c815ec29",
   "metadata": {},
   "outputs": [
    {
     "name": "stdout",
     "output_type": "stream",
     "text": [
      "2\n",
      "torch.Size([1, 32, 3, 256, 256]) torch.Size([1, 2])\n"
     ]
    }
   ],
   "source": [
    "batch = dls.train.one_batch()\n",
    "print(len(batch))\n",
    "print(*[batch[i].shape for i in range(2)])"
   ]
  },
  {
   "cell_type": "code",
   "execution_count": 19,
   "id": "b8d2f0ba",
   "metadata": {},
   "outputs": [
    {
     "data": {
      "text/plain": [
       "torch.Tensor"
      ]
     },
     "execution_count": 19,
     "metadata": {},
     "output_type": "execute_result"
    }
   ],
   "source": [
    "torch.Tensor"
   ]
  },
  {
   "cell_type": "code",
   "execution_count": 20,
   "id": "dcf43cbf",
   "metadata": {},
   "outputs": [
    {
     "data": {
      "text/plain": [
       "1.0"
      ]
     },
     "execution_count": 20,
     "metadata": {},
     "output_type": "execute_result"
    }
   ],
   "source": [
    "metric = RocAuc()\n",
    "metric(torch.Tensor([[0,1],[1,0]]), torch.Tensor([[0,1],[1,0]]))"
   ]
  },
  {
   "cell_type": "code",
   "execution_count": 14,
   "id": "d08647bb",
   "metadata": {},
   "outputs": [
    {
     "data": {
      "text/plain": [
       "tensor([[0., 1.]])"
      ]
     },
     "execution_count": 14,
     "metadata": {},
     "output_type": "execute_result"
    }
   ],
   "source": [
    "batch[1]"
   ]
  },
  {
   "cell_type": "code",
   "execution_count": 14,
   "id": "a94831ea",
   "metadata": {},
   "outputs": [],
   "source": [
    "doc(Learner)"
   ]
  },
  {
   "cell_type": "code",
   "execution_count": 8,
   "id": "83e05ebf",
   "metadata": {},
   "outputs": [
    {
     "data": {
      "text/plain": [
       "<function fastai.metrics.RocAuc(axis=-1, average='macro', sample_weight=None, max_fpr=None, multi_class='ovr')>"
      ]
     },
     "execution_count": 8,
     "metadata": {},
     "output_type": "execute_result"
    }
   ],
   "source": [
    "RocAuc"
   ]
  },
  {
   "cell_type": "code",
   "execution_count": 6,
   "id": "5ad74124",
   "metadata": {},
   "outputs": [],
   "source": [
    "learn = Learner(dls, mrnet, loss_func=bceloss, metrics=[RocAuc()])"
   ]
  },
  {
   "cell_type": "code",
   "execution_count": 7,
   "id": "6711776a",
   "metadata": {
    "ExecuteTime": {
     "end_time": "2021-04-27T19:50:11.113107Z",
     "start_time": "2021-04-27T19:50:07.264077Z"
    },
    "scrolled": false
   },
   "outputs": [
    {
     "data": {
      "text/html": [
       "<table border=\"1\" class=\"dataframe\">\n",
       "  <thead>\n",
       "    <tr style=\"text-align: left;\">\n",
       "      <th>epoch</th>\n",
       "      <th>train_loss</th>\n",
       "      <th>valid_loss</th>\n",
       "      <th>roc_auc_score</th>\n",
       "      <th>time</th>\n",
       "    </tr>\n",
       "  </thead>\n",
       "  <tbody>\n",
       "    <tr>\n",
       "      <td>0</td>\n",
       "      <td>3.592594</td>\n",
       "      <td>0.540627</td>\n",
       "      <td>0.573053</td>\n",
       "      <td>30:38</td>\n",
       "    </tr>\n",
       "  </tbody>\n",
       "</table>"
      ],
      "text/plain": [
       "<IPython.core.display.HTML object>"
      ]
     },
     "metadata": {},
     "output_type": "display_data"
    },
    {
     "data": {
      "text/html": [
       "\n",
       "    <div>\n",
       "        <style>\n",
       "            /* Turns off some styling */\n",
       "            progress {\n",
       "                /* gets rid of default border in Firefox and Opera. */\n",
       "                border: none;\n",
       "                /* Needs to be in here for Safari polyfill so background images work as expected. */\n",
       "                background-size: auto;\n",
       "            }\n",
       "            .progress-bar-interrupted, .progress-bar-interrupted::-webkit-progress-bar {\n",
       "                background: #F44336;\n",
       "            }\n",
       "        </style>\n",
       "      <progress value='15' class='' max='30' style='width:300px; height:20px; vertical-align: middle;'></progress>\n",
       "      50.00% [15/30 7:42:11<7:42:11]\n",
       "    </div>\n",
       "    \n",
       "<table border=\"1\" class=\"dataframe\">\n",
       "  <thead>\n",
       "    <tr style=\"text-align: left;\">\n",
       "      <th>epoch</th>\n",
       "      <th>train_loss</th>\n",
       "      <th>valid_loss</th>\n",
       "      <th>roc_auc_score</th>\n",
       "      <th>time</th>\n",
       "    </tr>\n",
       "  </thead>\n",
       "  <tbody>\n",
       "    <tr>\n",
       "      <td>0</td>\n",
       "      <td>0.463580</td>\n",
       "      <td>0.531733</td>\n",
       "      <td>0.589474</td>\n",
       "      <td>30:32</td>\n",
       "    </tr>\n",
       "    <tr>\n",
       "      <td>1</td>\n",
       "      <td>0.526282</td>\n",
       "      <td>0.526122</td>\n",
       "      <td>0.548632</td>\n",
       "      <td>25:41</td>\n",
       "    </tr>\n",
       "    <tr>\n",
       "      <td>2</td>\n",
       "      <td>0.541170</td>\n",
       "      <td>0.999072</td>\n",
       "      <td>0.413053</td>\n",
       "      <td>28:42</td>\n",
       "    </tr>\n",
       "    <tr>\n",
       "      <td>3</td>\n",
       "      <td>0.848215</td>\n",
       "      <td>0.534778</td>\n",
       "      <td>0.638737</td>\n",
       "      <td>29:00</td>\n",
       "    </tr>\n",
       "    <tr>\n",
       "      <td>4</td>\n",
       "      <td>0.665666</td>\n",
       "      <td>0.558005</td>\n",
       "      <td>0.399579</td>\n",
       "      <td>42:30</td>\n",
       "    </tr>\n",
       "    <tr>\n",
       "      <td>5</td>\n",
       "      <td>0.505960</td>\n",
       "      <td>0.526987</td>\n",
       "      <td>0.625263</td>\n",
       "      <td>32:28</td>\n",
       "    </tr>\n",
       "    <tr>\n",
       "      <td>6</td>\n",
       "      <td>0.636220</td>\n",
       "      <td>0.534038</td>\n",
       "      <td>0.691789</td>\n",
       "      <td>34:23</td>\n",
       "    </tr>\n",
       "    <tr>\n",
       "      <td>7</td>\n",
       "      <td>0.552062</td>\n",
       "      <td>0.509216</td>\n",
       "      <td>0.759579</td>\n",
       "      <td>25:11</td>\n",
       "    </tr>\n",
       "    <tr>\n",
       "      <td>8</td>\n",
       "      <td>0.431055</td>\n",
       "      <td>0.530921</td>\n",
       "      <td>0.658105</td>\n",
       "      <td>23:34</td>\n",
       "    </tr>\n",
       "    <tr>\n",
       "      <td>9</td>\n",
       "      <td>0.599188</td>\n",
       "      <td>0.495058</td>\n",
       "      <td>0.807579</td>\n",
       "      <td>24:17</td>\n",
       "    </tr>\n",
       "    <tr>\n",
       "      <td>10</td>\n",
       "      <td>0.495311</td>\n",
       "      <td>0.513176</td>\n",
       "      <td>0.500000</td>\n",
       "      <td>25:40</td>\n",
       "    </tr>\n",
       "    <tr>\n",
       "      <td>11</td>\n",
       "      <td>0.608057</td>\n",
       "      <td>0.511910</td>\n",
       "      <td>0.500000</td>\n",
       "      <td>32:10</td>\n",
       "    </tr>\n",
       "    <tr>\n",
       "      <td>12</td>\n",
       "      <td>0.524715</td>\n",
       "      <td>0.511752</td>\n",
       "      <td>0.500000</td>\n",
       "      <td>36:00</td>\n",
       "    </tr>\n",
       "    <tr>\n",
       "      <td>13</td>\n",
       "      <td>0.637256</td>\n",
       "      <td>0.511928</td>\n",
       "      <td>0.500000</td>\n",
       "      <td>36:52</td>\n",
       "    </tr>\n",
       "    <tr>\n",
       "      <td>14</td>\n",
       "      <td>0.523661</td>\n",
       "      <td>0.512078</td>\n",
       "      <td>0.500000</td>\n",
       "      <td>35:04</td>\n",
       "    </tr>\n",
       "  </tbody>\n",
       "</table><p>\n",
       "\n",
       "    <div>\n",
       "        <style>\n",
       "            /* Turns off some styling */\n",
       "            progress {\n",
       "                /* gets rid of default border in Firefox and Opera. */\n",
       "                border: none;\n",
       "                /* Needs to be in here for Safari polyfill so background images work as expected. */\n",
       "                background-size: auto;\n",
       "            }\n",
       "            .progress-bar-interrupted, .progress-bar-interrupted::-webkit-progress-bar {\n",
       "                background: #F44336;\n",
       "            }\n",
       "        </style>\n",
       "      <progress value='608' class='' max='1130' style='width:300px; height:20px; vertical-align: middle;'></progress>\n",
       "      53.81% [608/1130 19:13<16:30 0.4880]\n",
       "    </div>\n",
       "    "
      ],
      "text/plain": [
       "<IPython.core.display.HTML object>"
      ]
     },
     "metadata": {},
     "output_type": "display_data"
    },
    {
     "ename": "KeyboardInterrupt",
     "evalue": "",
     "output_type": "error",
     "traceback": [
      "\u001b[0;31m---------------------------------------------------------------------------\u001b[0m",
      "\u001b[0;31mKeyboardInterrupt\u001b[0m                         Traceback (most recent call last)",
      "\u001b[0;32m<ipython-input-7-b0e311d99f6d>\u001b[0m in \u001b[0;36m<module>\u001b[0;34m\u001b[0m\n\u001b[0;32m----> 1\u001b[0;31m \u001b[0mlearn\u001b[0m\u001b[0;34m.\u001b[0m\u001b[0mfine_tune\u001b[0m\u001b[0;34m(\u001b[0m\u001b[0;36m30\u001b[0m\u001b[0;34m,\u001b[0m \u001b[0mfreeze_epochs\u001b[0m\u001b[0;34m=\u001b[0m\u001b[0;36m1\u001b[0m\u001b[0;34m)\u001b[0m\u001b[0;34m\u001b[0m\u001b[0;34m\u001b[0m\u001b[0m\n\u001b[0m",
      "\u001b[0;32m~/anaconda3/envs/mrnet/lib/python3.8/site-packages/fastai/callback/schedule.py\u001b[0m in \u001b[0;36mfine_tune\u001b[0;34m(self, epochs, base_lr, freeze_epochs, lr_mult, pct_start, div, **kwargs)\u001b[0m\n\u001b[1;32m    158\u001b[0m     \u001b[0mbase_lr\u001b[0m \u001b[0;34m/=\u001b[0m \u001b[0;36m2\u001b[0m\u001b[0;34m\u001b[0m\u001b[0;34m\u001b[0m\u001b[0m\n\u001b[1;32m    159\u001b[0m     \u001b[0mself\u001b[0m\u001b[0;34m.\u001b[0m\u001b[0munfreeze\u001b[0m\u001b[0;34m(\u001b[0m\u001b[0;34m)\u001b[0m\u001b[0;34m\u001b[0m\u001b[0;34m\u001b[0m\u001b[0m\n\u001b[0;32m--> 160\u001b[0;31m     \u001b[0mself\u001b[0m\u001b[0;34m.\u001b[0m\u001b[0mfit_one_cycle\u001b[0m\u001b[0;34m(\u001b[0m\u001b[0mepochs\u001b[0m\u001b[0;34m,\u001b[0m \u001b[0mslice\u001b[0m\u001b[0;34m(\u001b[0m\u001b[0mbase_lr\u001b[0m\u001b[0;34m/\u001b[0m\u001b[0mlr_mult\u001b[0m\u001b[0;34m,\u001b[0m \u001b[0mbase_lr\u001b[0m\u001b[0;34m)\u001b[0m\u001b[0;34m,\u001b[0m \u001b[0mpct_start\u001b[0m\u001b[0;34m=\u001b[0m\u001b[0mpct_start\u001b[0m\u001b[0;34m,\u001b[0m \u001b[0mdiv\u001b[0m\u001b[0;34m=\u001b[0m\u001b[0mdiv\u001b[0m\u001b[0;34m,\u001b[0m \u001b[0;34m**\u001b[0m\u001b[0mkwargs\u001b[0m\u001b[0;34m)\u001b[0m\u001b[0;34m\u001b[0m\u001b[0;34m\u001b[0m\u001b[0m\n\u001b[0m\u001b[1;32m    161\u001b[0m \u001b[0;34m\u001b[0m\u001b[0m\n\u001b[1;32m    162\u001b[0m \u001b[0;31m# Cell\u001b[0m\u001b[0;34m\u001b[0m\u001b[0;34m\u001b[0m\u001b[0;34m\u001b[0m\u001b[0m\n",
      "\u001b[0;32m~/anaconda3/envs/mrnet/lib/python3.8/site-packages/fastai/callback/schedule.py\u001b[0m in \u001b[0;36mfit_one_cycle\u001b[0;34m(self, n_epoch, lr_max, div, div_final, pct_start, wd, moms, cbs, reset_opt)\u001b[0m\n\u001b[1;32m    110\u001b[0m     scheds = {'lr': combined_cos(pct_start, lr_max/div, lr_max, lr_max/div_final),\n\u001b[1;32m    111\u001b[0m               'mom': combined_cos(pct_start, *(self.moms if moms is None else moms))}\n\u001b[0;32m--> 112\u001b[0;31m     \u001b[0mself\u001b[0m\u001b[0;34m.\u001b[0m\u001b[0mfit\u001b[0m\u001b[0;34m(\u001b[0m\u001b[0mn_epoch\u001b[0m\u001b[0;34m,\u001b[0m \u001b[0mcbs\u001b[0m\u001b[0;34m=\u001b[0m\u001b[0mParamScheduler\u001b[0m\u001b[0;34m(\u001b[0m\u001b[0mscheds\u001b[0m\u001b[0;34m)\u001b[0m\u001b[0;34m+\u001b[0m\u001b[0mL\u001b[0m\u001b[0;34m(\u001b[0m\u001b[0mcbs\u001b[0m\u001b[0;34m)\u001b[0m\u001b[0;34m,\u001b[0m \u001b[0mreset_opt\u001b[0m\u001b[0;34m=\u001b[0m\u001b[0mreset_opt\u001b[0m\u001b[0;34m,\u001b[0m \u001b[0mwd\u001b[0m\u001b[0;34m=\u001b[0m\u001b[0mwd\u001b[0m\u001b[0;34m)\u001b[0m\u001b[0;34m\u001b[0m\u001b[0;34m\u001b[0m\u001b[0m\n\u001b[0m\u001b[1;32m    113\u001b[0m \u001b[0;34m\u001b[0m\u001b[0m\n\u001b[1;32m    114\u001b[0m \u001b[0;31m# Cell\u001b[0m\u001b[0;34m\u001b[0m\u001b[0;34m\u001b[0m\u001b[0;34m\u001b[0m\u001b[0m\n",
      "\u001b[0;32m~/anaconda3/envs/mrnet/lib/python3.8/site-packages/fastai/learner.py\u001b[0m in \u001b[0;36mfit\u001b[0;34m(self, n_epoch, lr, wd, cbs, reset_opt)\u001b[0m\n\u001b[1;32m    210\u001b[0m             \u001b[0mself\u001b[0m\u001b[0;34m.\u001b[0m\u001b[0mopt\u001b[0m\u001b[0;34m.\u001b[0m\u001b[0mset_hypers\u001b[0m\u001b[0;34m(\u001b[0m\u001b[0mlr\u001b[0m\u001b[0;34m=\u001b[0m\u001b[0mself\u001b[0m\u001b[0;34m.\u001b[0m\u001b[0mlr\u001b[0m \u001b[0;32mif\u001b[0m \u001b[0mlr\u001b[0m \u001b[0;32mis\u001b[0m \u001b[0;32mNone\u001b[0m \u001b[0;32melse\u001b[0m \u001b[0mlr\u001b[0m\u001b[0;34m)\u001b[0m\u001b[0;34m\u001b[0m\u001b[0;34m\u001b[0m\u001b[0m\n\u001b[1;32m    211\u001b[0m             \u001b[0mself\u001b[0m\u001b[0;34m.\u001b[0m\u001b[0mn_epoch\u001b[0m \u001b[0;34m=\u001b[0m \u001b[0mn_epoch\u001b[0m\u001b[0;34m\u001b[0m\u001b[0;34m\u001b[0m\u001b[0m\n\u001b[0;32m--> 212\u001b[0;31m             \u001b[0mself\u001b[0m\u001b[0;34m.\u001b[0m\u001b[0m_with_events\u001b[0m\u001b[0;34m(\u001b[0m\u001b[0mself\u001b[0m\u001b[0;34m.\u001b[0m\u001b[0m_do_fit\u001b[0m\u001b[0;34m,\u001b[0m \u001b[0;34m'fit'\u001b[0m\u001b[0;34m,\u001b[0m \u001b[0mCancelFitException\u001b[0m\u001b[0;34m,\u001b[0m \u001b[0mself\u001b[0m\u001b[0;34m.\u001b[0m\u001b[0m_end_cleanup\u001b[0m\u001b[0;34m)\u001b[0m\u001b[0;34m\u001b[0m\u001b[0;34m\u001b[0m\u001b[0m\n\u001b[0m\u001b[1;32m    213\u001b[0m \u001b[0;34m\u001b[0m\u001b[0m\n\u001b[1;32m    214\u001b[0m     \u001b[0;32mdef\u001b[0m \u001b[0m_end_cleanup\u001b[0m\u001b[0;34m(\u001b[0m\u001b[0mself\u001b[0m\u001b[0;34m)\u001b[0m\u001b[0;34m:\u001b[0m \u001b[0mself\u001b[0m\u001b[0;34m.\u001b[0m\u001b[0mdl\u001b[0m\u001b[0;34m,\u001b[0m\u001b[0mself\u001b[0m\u001b[0;34m.\u001b[0m\u001b[0mxb\u001b[0m\u001b[0;34m,\u001b[0m\u001b[0mself\u001b[0m\u001b[0;34m.\u001b[0m\u001b[0myb\u001b[0m\u001b[0;34m,\u001b[0m\u001b[0mself\u001b[0m\u001b[0;34m.\u001b[0m\u001b[0mpred\u001b[0m\u001b[0;34m,\u001b[0m\u001b[0mself\u001b[0m\u001b[0;34m.\u001b[0m\u001b[0mloss\u001b[0m \u001b[0;34m=\u001b[0m \u001b[0;32mNone\u001b[0m\u001b[0;34m,\u001b[0m\u001b[0;34m(\u001b[0m\u001b[0;32mNone\u001b[0m\u001b[0;34m,\u001b[0m\u001b[0;34m)\u001b[0m\u001b[0;34m,\u001b[0m\u001b[0;34m(\u001b[0m\u001b[0;32mNone\u001b[0m\u001b[0;34m,\u001b[0m\u001b[0;34m)\u001b[0m\u001b[0;34m,\u001b[0m\u001b[0;32mNone\u001b[0m\u001b[0;34m,\u001b[0m\u001b[0;32mNone\u001b[0m\u001b[0;34m\u001b[0m\u001b[0;34m\u001b[0m\u001b[0m\n",
      "\u001b[0;32m~/anaconda3/envs/mrnet/lib/python3.8/site-packages/fastai/learner.py\u001b[0m in \u001b[0;36m_with_events\u001b[0;34m(self, f, event_type, ex, final)\u001b[0m\n\u001b[1;32m    158\u001b[0m \u001b[0;34m\u001b[0m\u001b[0m\n\u001b[1;32m    159\u001b[0m     \u001b[0;32mdef\u001b[0m \u001b[0m_with_events\u001b[0m\u001b[0;34m(\u001b[0m\u001b[0mself\u001b[0m\u001b[0;34m,\u001b[0m \u001b[0mf\u001b[0m\u001b[0;34m,\u001b[0m \u001b[0mevent_type\u001b[0m\u001b[0;34m,\u001b[0m \u001b[0mex\u001b[0m\u001b[0;34m,\u001b[0m \u001b[0mfinal\u001b[0m\u001b[0;34m=\u001b[0m\u001b[0mnoop\u001b[0m\u001b[0;34m)\u001b[0m\u001b[0;34m:\u001b[0m\u001b[0;34m\u001b[0m\u001b[0;34m\u001b[0m\u001b[0m\n\u001b[0;32m--> 160\u001b[0;31m         \u001b[0;32mtry\u001b[0m\u001b[0;34m:\u001b[0m \u001b[0mself\u001b[0m\u001b[0;34m(\u001b[0m\u001b[0;34mf'before_{event_type}'\u001b[0m\u001b[0;34m)\u001b[0m\u001b[0;34m;\u001b[0m  \u001b[0mf\u001b[0m\u001b[0;34m(\u001b[0m\u001b[0;34m)\u001b[0m\u001b[0;34m\u001b[0m\u001b[0;34m\u001b[0m\u001b[0m\n\u001b[0m\u001b[1;32m    161\u001b[0m         \u001b[0;32mexcept\u001b[0m \u001b[0mex\u001b[0m\u001b[0;34m:\u001b[0m \u001b[0mself\u001b[0m\u001b[0;34m(\u001b[0m\u001b[0;34mf'after_cancel_{event_type}'\u001b[0m\u001b[0;34m)\u001b[0m\u001b[0;34m\u001b[0m\u001b[0;34m\u001b[0m\u001b[0m\n\u001b[1;32m    162\u001b[0m         \u001b[0mself\u001b[0m\u001b[0;34m(\u001b[0m\u001b[0;34mf'after_{event_type}'\u001b[0m\u001b[0;34m)\u001b[0m\u001b[0;34m;\u001b[0m  \u001b[0mfinal\u001b[0m\u001b[0;34m(\u001b[0m\u001b[0;34m)\u001b[0m\u001b[0;34m\u001b[0m\u001b[0;34m\u001b[0m\u001b[0m\n",
      "\u001b[0;32m~/anaconda3/envs/mrnet/lib/python3.8/site-packages/fastai/learner.py\u001b[0m in \u001b[0;36m_do_fit\u001b[0;34m(self)\u001b[0m\n\u001b[1;32m    201\u001b[0m         \u001b[0;32mfor\u001b[0m \u001b[0mepoch\u001b[0m \u001b[0;32min\u001b[0m \u001b[0mrange\u001b[0m\u001b[0;34m(\u001b[0m\u001b[0mself\u001b[0m\u001b[0;34m.\u001b[0m\u001b[0mn_epoch\u001b[0m\u001b[0;34m)\u001b[0m\u001b[0;34m:\u001b[0m\u001b[0;34m\u001b[0m\u001b[0;34m\u001b[0m\u001b[0m\n\u001b[1;32m    202\u001b[0m             \u001b[0mself\u001b[0m\u001b[0;34m.\u001b[0m\u001b[0mepoch\u001b[0m\u001b[0;34m=\u001b[0m\u001b[0mepoch\u001b[0m\u001b[0;34m\u001b[0m\u001b[0;34m\u001b[0m\u001b[0m\n\u001b[0;32m--> 203\u001b[0;31m             \u001b[0mself\u001b[0m\u001b[0;34m.\u001b[0m\u001b[0m_with_events\u001b[0m\u001b[0;34m(\u001b[0m\u001b[0mself\u001b[0m\u001b[0;34m.\u001b[0m\u001b[0m_do_epoch\u001b[0m\u001b[0;34m,\u001b[0m \u001b[0;34m'epoch'\u001b[0m\u001b[0;34m,\u001b[0m \u001b[0mCancelEpochException\u001b[0m\u001b[0;34m)\u001b[0m\u001b[0;34m\u001b[0m\u001b[0;34m\u001b[0m\u001b[0m\n\u001b[0m\u001b[1;32m    204\u001b[0m \u001b[0;34m\u001b[0m\u001b[0m\n\u001b[1;32m    205\u001b[0m     \u001b[0;32mdef\u001b[0m \u001b[0mfit\u001b[0m\u001b[0;34m(\u001b[0m\u001b[0mself\u001b[0m\u001b[0;34m,\u001b[0m \u001b[0mn_epoch\u001b[0m\u001b[0;34m,\u001b[0m \u001b[0mlr\u001b[0m\u001b[0;34m=\u001b[0m\u001b[0;32mNone\u001b[0m\u001b[0;34m,\u001b[0m \u001b[0mwd\u001b[0m\u001b[0;34m=\u001b[0m\u001b[0;32mNone\u001b[0m\u001b[0;34m,\u001b[0m \u001b[0mcbs\u001b[0m\u001b[0;34m=\u001b[0m\u001b[0;32mNone\u001b[0m\u001b[0;34m,\u001b[0m \u001b[0mreset_opt\u001b[0m\u001b[0;34m=\u001b[0m\u001b[0;32mFalse\u001b[0m\u001b[0;34m)\u001b[0m\u001b[0;34m:\u001b[0m\u001b[0;34m\u001b[0m\u001b[0;34m\u001b[0m\u001b[0m\n",
      "\u001b[0;32m~/anaconda3/envs/mrnet/lib/python3.8/site-packages/fastai/learner.py\u001b[0m in \u001b[0;36m_with_events\u001b[0;34m(self, f, event_type, ex, final)\u001b[0m\n\u001b[1;32m    158\u001b[0m \u001b[0;34m\u001b[0m\u001b[0m\n\u001b[1;32m    159\u001b[0m     \u001b[0;32mdef\u001b[0m \u001b[0m_with_events\u001b[0m\u001b[0;34m(\u001b[0m\u001b[0mself\u001b[0m\u001b[0;34m,\u001b[0m \u001b[0mf\u001b[0m\u001b[0;34m,\u001b[0m \u001b[0mevent_type\u001b[0m\u001b[0;34m,\u001b[0m \u001b[0mex\u001b[0m\u001b[0;34m,\u001b[0m \u001b[0mfinal\u001b[0m\u001b[0;34m=\u001b[0m\u001b[0mnoop\u001b[0m\u001b[0;34m)\u001b[0m\u001b[0;34m:\u001b[0m\u001b[0;34m\u001b[0m\u001b[0;34m\u001b[0m\u001b[0m\n\u001b[0;32m--> 160\u001b[0;31m         \u001b[0;32mtry\u001b[0m\u001b[0;34m:\u001b[0m \u001b[0mself\u001b[0m\u001b[0;34m(\u001b[0m\u001b[0;34mf'before_{event_type}'\u001b[0m\u001b[0;34m)\u001b[0m\u001b[0;34m;\u001b[0m  \u001b[0mf\u001b[0m\u001b[0;34m(\u001b[0m\u001b[0;34m)\u001b[0m\u001b[0;34m\u001b[0m\u001b[0;34m\u001b[0m\u001b[0m\n\u001b[0m\u001b[1;32m    161\u001b[0m         \u001b[0;32mexcept\u001b[0m \u001b[0mex\u001b[0m\u001b[0;34m:\u001b[0m \u001b[0mself\u001b[0m\u001b[0;34m(\u001b[0m\u001b[0;34mf'after_cancel_{event_type}'\u001b[0m\u001b[0;34m)\u001b[0m\u001b[0;34m\u001b[0m\u001b[0;34m\u001b[0m\u001b[0m\n\u001b[1;32m    162\u001b[0m         \u001b[0mself\u001b[0m\u001b[0;34m(\u001b[0m\u001b[0;34mf'after_{event_type}'\u001b[0m\u001b[0;34m)\u001b[0m\u001b[0;34m;\u001b[0m  \u001b[0mfinal\u001b[0m\u001b[0;34m(\u001b[0m\u001b[0;34m)\u001b[0m\u001b[0;34m\u001b[0m\u001b[0;34m\u001b[0m\u001b[0m\n",
      "\u001b[0;32m~/anaconda3/envs/mrnet/lib/python3.8/site-packages/fastai/learner.py\u001b[0m in \u001b[0;36m_do_epoch\u001b[0;34m(self)\u001b[0m\n\u001b[1;32m    195\u001b[0m \u001b[0;34m\u001b[0m\u001b[0m\n\u001b[1;32m    196\u001b[0m     \u001b[0;32mdef\u001b[0m \u001b[0m_do_epoch\u001b[0m\u001b[0;34m(\u001b[0m\u001b[0mself\u001b[0m\u001b[0;34m)\u001b[0m\u001b[0;34m:\u001b[0m\u001b[0;34m\u001b[0m\u001b[0;34m\u001b[0m\u001b[0m\n\u001b[0;32m--> 197\u001b[0;31m         \u001b[0mself\u001b[0m\u001b[0;34m.\u001b[0m\u001b[0m_do_epoch_train\u001b[0m\u001b[0;34m(\u001b[0m\u001b[0;34m)\u001b[0m\u001b[0;34m\u001b[0m\u001b[0;34m\u001b[0m\u001b[0m\n\u001b[0m\u001b[1;32m    198\u001b[0m         \u001b[0mself\u001b[0m\u001b[0;34m.\u001b[0m\u001b[0m_do_epoch_validate\u001b[0m\u001b[0;34m(\u001b[0m\u001b[0;34m)\u001b[0m\u001b[0;34m\u001b[0m\u001b[0;34m\u001b[0m\u001b[0m\n\u001b[1;32m    199\u001b[0m \u001b[0;34m\u001b[0m\u001b[0m\n",
      "\u001b[0;32m~/anaconda3/envs/mrnet/lib/python3.8/site-packages/fastai/learner.py\u001b[0m in \u001b[0;36m_do_epoch_train\u001b[0;34m(self)\u001b[0m\n\u001b[1;32m    187\u001b[0m     \u001b[0;32mdef\u001b[0m \u001b[0m_do_epoch_train\u001b[0m\u001b[0;34m(\u001b[0m\u001b[0mself\u001b[0m\u001b[0;34m)\u001b[0m\u001b[0;34m:\u001b[0m\u001b[0;34m\u001b[0m\u001b[0;34m\u001b[0m\u001b[0m\n\u001b[1;32m    188\u001b[0m         \u001b[0mself\u001b[0m\u001b[0;34m.\u001b[0m\u001b[0mdl\u001b[0m \u001b[0;34m=\u001b[0m \u001b[0mself\u001b[0m\u001b[0;34m.\u001b[0m\u001b[0mdls\u001b[0m\u001b[0;34m.\u001b[0m\u001b[0mtrain\u001b[0m\u001b[0;34m\u001b[0m\u001b[0;34m\u001b[0m\u001b[0m\n\u001b[0;32m--> 189\u001b[0;31m         \u001b[0mself\u001b[0m\u001b[0;34m.\u001b[0m\u001b[0m_with_events\u001b[0m\u001b[0;34m(\u001b[0m\u001b[0mself\u001b[0m\u001b[0;34m.\u001b[0m\u001b[0mall_batches\u001b[0m\u001b[0;34m,\u001b[0m \u001b[0;34m'train'\u001b[0m\u001b[0;34m,\u001b[0m \u001b[0mCancelTrainException\u001b[0m\u001b[0;34m)\u001b[0m\u001b[0;34m\u001b[0m\u001b[0;34m\u001b[0m\u001b[0m\n\u001b[0m\u001b[1;32m    190\u001b[0m \u001b[0;34m\u001b[0m\u001b[0m\n\u001b[1;32m    191\u001b[0m     \u001b[0;32mdef\u001b[0m \u001b[0m_do_epoch_validate\u001b[0m\u001b[0;34m(\u001b[0m\u001b[0mself\u001b[0m\u001b[0;34m,\u001b[0m \u001b[0mds_idx\u001b[0m\u001b[0;34m=\u001b[0m\u001b[0;36m1\u001b[0m\u001b[0;34m,\u001b[0m \u001b[0mdl\u001b[0m\u001b[0;34m=\u001b[0m\u001b[0;32mNone\u001b[0m\u001b[0;34m)\u001b[0m\u001b[0;34m:\u001b[0m\u001b[0;34m\u001b[0m\u001b[0;34m\u001b[0m\u001b[0m\n",
      "\u001b[0;32m~/anaconda3/envs/mrnet/lib/python3.8/site-packages/fastai/learner.py\u001b[0m in \u001b[0;36m_with_events\u001b[0;34m(self, f, event_type, ex, final)\u001b[0m\n\u001b[1;32m    158\u001b[0m \u001b[0;34m\u001b[0m\u001b[0m\n\u001b[1;32m    159\u001b[0m     \u001b[0;32mdef\u001b[0m \u001b[0m_with_events\u001b[0m\u001b[0;34m(\u001b[0m\u001b[0mself\u001b[0m\u001b[0;34m,\u001b[0m \u001b[0mf\u001b[0m\u001b[0;34m,\u001b[0m \u001b[0mevent_type\u001b[0m\u001b[0;34m,\u001b[0m \u001b[0mex\u001b[0m\u001b[0;34m,\u001b[0m \u001b[0mfinal\u001b[0m\u001b[0;34m=\u001b[0m\u001b[0mnoop\u001b[0m\u001b[0;34m)\u001b[0m\u001b[0;34m:\u001b[0m\u001b[0;34m\u001b[0m\u001b[0;34m\u001b[0m\u001b[0m\n\u001b[0;32m--> 160\u001b[0;31m         \u001b[0;32mtry\u001b[0m\u001b[0;34m:\u001b[0m \u001b[0mself\u001b[0m\u001b[0;34m(\u001b[0m\u001b[0;34mf'before_{event_type}'\u001b[0m\u001b[0;34m)\u001b[0m\u001b[0;34m;\u001b[0m  \u001b[0mf\u001b[0m\u001b[0;34m(\u001b[0m\u001b[0;34m)\u001b[0m\u001b[0;34m\u001b[0m\u001b[0;34m\u001b[0m\u001b[0m\n\u001b[0m\u001b[1;32m    161\u001b[0m         \u001b[0;32mexcept\u001b[0m \u001b[0mex\u001b[0m\u001b[0;34m:\u001b[0m \u001b[0mself\u001b[0m\u001b[0;34m(\u001b[0m\u001b[0;34mf'after_cancel_{event_type}'\u001b[0m\u001b[0;34m)\u001b[0m\u001b[0;34m\u001b[0m\u001b[0;34m\u001b[0m\u001b[0m\n\u001b[1;32m    162\u001b[0m         \u001b[0mself\u001b[0m\u001b[0;34m(\u001b[0m\u001b[0;34mf'after_{event_type}'\u001b[0m\u001b[0;34m)\u001b[0m\u001b[0;34m;\u001b[0m  \u001b[0mfinal\u001b[0m\u001b[0;34m(\u001b[0m\u001b[0;34m)\u001b[0m\u001b[0;34m\u001b[0m\u001b[0;34m\u001b[0m\u001b[0m\n",
      "\u001b[0;32m~/anaconda3/envs/mrnet/lib/python3.8/site-packages/fastai/learner.py\u001b[0m in \u001b[0;36mall_batches\u001b[0;34m(self)\u001b[0m\n\u001b[1;32m    164\u001b[0m     \u001b[0;32mdef\u001b[0m \u001b[0mall_batches\u001b[0m\u001b[0;34m(\u001b[0m\u001b[0mself\u001b[0m\u001b[0;34m)\u001b[0m\u001b[0;34m:\u001b[0m\u001b[0;34m\u001b[0m\u001b[0;34m\u001b[0m\u001b[0m\n\u001b[1;32m    165\u001b[0m         \u001b[0mself\u001b[0m\u001b[0;34m.\u001b[0m\u001b[0mn_iter\u001b[0m \u001b[0;34m=\u001b[0m \u001b[0mlen\u001b[0m\u001b[0;34m(\u001b[0m\u001b[0mself\u001b[0m\u001b[0;34m.\u001b[0m\u001b[0mdl\u001b[0m\u001b[0;34m)\u001b[0m\u001b[0;34m\u001b[0m\u001b[0;34m\u001b[0m\u001b[0m\n\u001b[0;32m--> 166\u001b[0;31m         \u001b[0;32mfor\u001b[0m \u001b[0mo\u001b[0m \u001b[0;32min\u001b[0m \u001b[0menumerate\u001b[0m\u001b[0;34m(\u001b[0m\u001b[0mself\u001b[0m\u001b[0;34m.\u001b[0m\u001b[0mdl\u001b[0m\u001b[0;34m)\u001b[0m\u001b[0;34m:\u001b[0m \u001b[0mself\u001b[0m\u001b[0;34m.\u001b[0m\u001b[0mone_batch\u001b[0m\u001b[0;34m(\u001b[0m\u001b[0;34m*\u001b[0m\u001b[0mo\u001b[0m\u001b[0;34m)\u001b[0m\u001b[0;34m\u001b[0m\u001b[0;34m\u001b[0m\u001b[0m\n\u001b[0m\u001b[1;32m    167\u001b[0m \u001b[0;34m\u001b[0m\u001b[0m\n\u001b[1;32m    168\u001b[0m     \u001b[0;32mdef\u001b[0m \u001b[0m_do_one_batch\u001b[0m\u001b[0;34m(\u001b[0m\u001b[0mself\u001b[0m\u001b[0;34m)\u001b[0m\u001b[0;34m:\u001b[0m\u001b[0;34m\u001b[0m\u001b[0;34m\u001b[0m\u001b[0m\n",
      "\u001b[0;32m~/anaconda3/envs/mrnet/lib/python3.8/site-packages/fastai/learner.py\u001b[0m in \u001b[0;36mone_batch\u001b[0;34m(self, i, b)\u001b[0m\n\u001b[1;32m    183\u001b[0m         \u001b[0mb_on_device\u001b[0m \u001b[0;34m=\u001b[0m \u001b[0mtuple\u001b[0m\u001b[0;34m(\u001b[0m \u001b[0me\u001b[0m\u001b[0;34m.\u001b[0m\u001b[0mto\u001b[0m\u001b[0;34m(\u001b[0m\u001b[0mdevice\u001b[0m\u001b[0;34m=\u001b[0m\u001b[0mself\u001b[0m\u001b[0;34m.\u001b[0m\u001b[0mdls\u001b[0m\u001b[0;34m.\u001b[0m\u001b[0mdevice\u001b[0m\u001b[0;34m)\u001b[0m \u001b[0;32mfor\u001b[0m \u001b[0me\u001b[0m \u001b[0;32min\u001b[0m \u001b[0mb\u001b[0m \u001b[0;32mif\u001b[0m \u001b[0mhasattr\u001b[0m\u001b[0;34m(\u001b[0m\u001b[0me\u001b[0m\u001b[0;34m,\u001b[0m \u001b[0;34m\"to\"\u001b[0m\u001b[0;34m)\u001b[0m\u001b[0;34m)\u001b[0m \u001b[0;32mif\u001b[0m \u001b[0mself\u001b[0m\u001b[0;34m.\u001b[0m\u001b[0mdls\u001b[0m\u001b[0;34m.\u001b[0m\u001b[0mdevice\u001b[0m \u001b[0;32mis\u001b[0m \u001b[0;32mnot\u001b[0m \u001b[0;32mNone\u001b[0m \u001b[0;32melse\u001b[0m \u001b[0mb\u001b[0m\u001b[0;34m\u001b[0m\u001b[0;34m\u001b[0m\u001b[0m\n\u001b[1;32m    184\u001b[0m         \u001b[0mself\u001b[0m\u001b[0;34m.\u001b[0m\u001b[0m_split\u001b[0m\u001b[0;34m(\u001b[0m\u001b[0mb_on_device\u001b[0m\u001b[0;34m)\u001b[0m\u001b[0;34m\u001b[0m\u001b[0;34m\u001b[0m\u001b[0m\n\u001b[0;32m--> 185\u001b[0;31m         \u001b[0mself\u001b[0m\u001b[0;34m.\u001b[0m\u001b[0m_with_events\u001b[0m\u001b[0;34m(\u001b[0m\u001b[0mself\u001b[0m\u001b[0;34m.\u001b[0m\u001b[0m_do_one_batch\u001b[0m\u001b[0;34m,\u001b[0m \u001b[0;34m'batch'\u001b[0m\u001b[0;34m,\u001b[0m \u001b[0mCancelBatchException\u001b[0m\u001b[0;34m)\u001b[0m\u001b[0;34m\u001b[0m\u001b[0;34m\u001b[0m\u001b[0m\n\u001b[0m\u001b[1;32m    186\u001b[0m \u001b[0;34m\u001b[0m\u001b[0m\n\u001b[1;32m    187\u001b[0m     \u001b[0;32mdef\u001b[0m \u001b[0m_do_epoch_train\u001b[0m\u001b[0;34m(\u001b[0m\u001b[0mself\u001b[0m\u001b[0;34m)\u001b[0m\u001b[0;34m:\u001b[0m\u001b[0;34m\u001b[0m\u001b[0;34m\u001b[0m\u001b[0m\n",
      "\u001b[0;32m~/anaconda3/envs/mrnet/lib/python3.8/site-packages/fastai/learner.py\u001b[0m in \u001b[0;36m_with_events\u001b[0;34m(self, f, event_type, ex, final)\u001b[0m\n\u001b[1;32m    158\u001b[0m \u001b[0;34m\u001b[0m\u001b[0m\n\u001b[1;32m    159\u001b[0m     \u001b[0;32mdef\u001b[0m \u001b[0m_with_events\u001b[0m\u001b[0;34m(\u001b[0m\u001b[0mself\u001b[0m\u001b[0;34m,\u001b[0m \u001b[0mf\u001b[0m\u001b[0;34m,\u001b[0m \u001b[0mevent_type\u001b[0m\u001b[0;34m,\u001b[0m \u001b[0mex\u001b[0m\u001b[0;34m,\u001b[0m \u001b[0mfinal\u001b[0m\u001b[0;34m=\u001b[0m\u001b[0mnoop\u001b[0m\u001b[0;34m)\u001b[0m\u001b[0;34m:\u001b[0m\u001b[0;34m\u001b[0m\u001b[0;34m\u001b[0m\u001b[0m\n\u001b[0;32m--> 160\u001b[0;31m         \u001b[0;32mtry\u001b[0m\u001b[0;34m:\u001b[0m \u001b[0mself\u001b[0m\u001b[0;34m(\u001b[0m\u001b[0;34mf'before_{event_type}'\u001b[0m\u001b[0;34m)\u001b[0m\u001b[0;34m;\u001b[0m  \u001b[0mf\u001b[0m\u001b[0;34m(\u001b[0m\u001b[0;34m)\u001b[0m\u001b[0;34m\u001b[0m\u001b[0;34m\u001b[0m\u001b[0m\n\u001b[0m\u001b[1;32m    161\u001b[0m         \u001b[0;32mexcept\u001b[0m \u001b[0mex\u001b[0m\u001b[0;34m:\u001b[0m \u001b[0mself\u001b[0m\u001b[0;34m(\u001b[0m\u001b[0;34mf'after_cancel_{event_type}'\u001b[0m\u001b[0;34m)\u001b[0m\u001b[0;34m\u001b[0m\u001b[0;34m\u001b[0m\u001b[0m\n\u001b[1;32m    162\u001b[0m         \u001b[0mself\u001b[0m\u001b[0;34m(\u001b[0m\u001b[0;34mf'after_{event_type}'\u001b[0m\u001b[0;34m)\u001b[0m\u001b[0;34m;\u001b[0m  \u001b[0mfinal\u001b[0m\u001b[0;34m(\u001b[0m\u001b[0;34m)\u001b[0m\u001b[0;34m\u001b[0m\u001b[0;34m\u001b[0m\u001b[0m\n",
      "\u001b[0;32m~/anaconda3/envs/mrnet/lib/python3.8/site-packages/fastai/learner.py\u001b[0m in \u001b[0;36m_do_one_batch\u001b[0;34m(self)\u001b[0m\n\u001b[1;32m    175\u001b[0m         \u001b[0;32mif\u001b[0m \u001b[0;32mnot\u001b[0m \u001b[0mself\u001b[0m\u001b[0;34m.\u001b[0m\u001b[0mtraining\u001b[0m \u001b[0;32mor\u001b[0m \u001b[0;32mnot\u001b[0m \u001b[0mlen\u001b[0m\u001b[0;34m(\u001b[0m\u001b[0mself\u001b[0m\u001b[0;34m.\u001b[0m\u001b[0myb\u001b[0m\u001b[0;34m)\u001b[0m\u001b[0;34m:\u001b[0m \u001b[0;32mreturn\u001b[0m\u001b[0;34m\u001b[0m\u001b[0;34m\u001b[0m\u001b[0m\n\u001b[1;32m    176\u001b[0m         \u001b[0mself\u001b[0m\u001b[0;34m(\u001b[0m\u001b[0;34m'before_backward'\u001b[0m\u001b[0;34m)\u001b[0m\u001b[0;34m\u001b[0m\u001b[0;34m\u001b[0m\u001b[0m\n\u001b[0;32m--> 177\u001b[0;31m         \u001b[0mself\u001b[0m\u001b[0;34m.\u001b[0m\u001b[0mloss_grad\u001b[0m\u001b[0;34m.\u001b[0m\u001b[0mbackward\u001b[0m\u001b[0;34m(\u001b[0m\u001b[0;34m)\u001b[0m\u001b[0;34m\u001b[0m\u001b[0;34m\u001b[0m\u001b[0m\n\u001b[0m\u001b[1;32m    178\u001b[0m         \u001b[0mself\u001b[0m\u001b[0;34m.\u001b[0m\u001b[0m_with_events\u001b[0m\u001b[0;34m(\u001b[0m\u001b[0mself\u001b[0m\u001b[0;34m.\u001b[0m\u001b[0mopt\u001b[0m\u001b[0;34m.\u001b[0m\u001b[0mstep\u001b[0m\u001b[0;34m,\u001b[0m \u001b[0;34m'step'\u001b[0m\u001b[0;34m,\u001b[0m \u001b[0mCancelStepException\u001b[0m\u001b[0;34m)\u001b[0m\u001b[0;34m\u001b[0m\u001b[0;34m\u001b[0m\u001b[0m\n\u001b[1;32m    179\u001b[0m         \u001b[0mself\u001b[0m\u001b[0;34m.\u001b[0m\u001b[0mopt\u001b[0m\u001b[0;34m.\u001b[0m\u001b[0mzero_grad\u001b[0m\u001b[0;34m(\u001b[0m\u001b[0;34m)\u001b[0m\u001b[0;34m\u001b[0m\u001b[0;34m\u001b[0m\u001b[0m\n",
      "\u001b[0;32m~/anaconda3/envs/mrnet/lib/python3.8/site-packages/torch/tensor.py\u001b[0m in \u001b[0;36mbackward\u001b[0;34m(self, gradient, retain_graph, create_graph)\u001b[0m\n\u001b[1;32m    183\u001b[0m                 \u001b[0mproducts\u001b[0m\u001b[0;34m.\u001b[0m \u001b[0mDefaults\u001b[0m \u001b[0mto\u001b[0m\u001b[0;31m \u001b[0m\u001b[0;31m`\u001b[0m\u001b[0;31m`\u001b[0m\u001b[0;32mFalse\u001b[0m\u001b[0;31m`\u001b[0m\u001b[0;31m`\u001b[0m\u001b[0;34m.\u001b[0m\u001b[0;34m\u001b[0m\u001b[0;34m\u001b[0m\u001b[0m\n\u001b[1;32m    184\u001b[0m         \"\"\"\n\u001b[0;32m--> 185\u001b[0;31m         \u001b[0mtorch\u001b[0m\u001b[0;34m.\u001b[0m\u001b[0mautograd\u001b[0m\u001b[0;34m.\u001b[0m\u001b[0mbackward\u001b[0m\u001b[0;34m(\u001b[0m\u001b[0mself\u001b[0m\u001b[0;34m,\u001b[0m \u001b[0mgradient\u001b[0m\u001b[0;34m,\u001b[0m \u001b[0mretain_graph\u001b[0m\u001b[0;34m,\u001b[0m \u001b[0mcreate_graph\u001b[0m\u001b[0;34m)\u001b[0m\u001b[0;34m\u001b[0m\u001b[0;34m\u001b[0m\u001b[0m\n\u001b[0m\u001b[1;32m    186\u001b[0m \u001b[0;34m\u001b[0m\u001b[0m\n\u001b[1;32m    187\u001b[0m     \u001b[0;32mdef\u001b[0m \u001b[0mregister_hook\u001b[0m\u001b[0;34m(\u001b[0m\u001b[0mself\u001b[0m\u001b[0;34m,\u001b[0m \u001b[0mhook\u001b[0m\u001b[0;34m)\u001b[0m\u001b[0;34m:\u001b[0m\u001b[0;34m\u001b[0m\u001b[0;34m\u001b[0m\u001b[0m\n",
      "\u001b[0;32m~/anaconda3/envs/mrnet/lib/python3.8/site-packages/torch/autograd/__init__.py\u001b[0m in \u001b[0;36mbackward\u001b[0;34m(tensors, grad_tensors, retain_graph, create_graph, grad_variables)\u001b[0m\n\u001b[1;32m    123\u001b[0m         \u001b[0mretain_graph\u001b[0m \u001b[0;34m=\u001b[0m \u001b[0mcreate_graph\u001b[0m\u001b[0;34m\u001b[0m\u001b[0;34m\u001b[0m\u001b[0m\n\u001b[1;32m    124\u001b[0m \u001b[0;34m\u001b[0m\u001b[0m\n\u001b[0;32m--> 125\u001b[0;31m     Variable._execution_engine.run_backward(\n\u001b[0m\u001b[1;32m    126\u001b[0m         \u001b[0mtensors\u001b[0m\u001b[0;34m,\u001b[0m \u001b[0mgrad_tensors\u001b[0m\u001b[0;34m,\u001b[0m \u001b[0mretain_graph\u001b[0m\u001b[0;34m,\u001b[0m \u001b[0mcreate_graph\u001b[0m\u001b[0;34m,\u001b[0m\u001b[0;34m\u001b[0m\u001b[0;34m\u001b[0m\u001b[0m\n\u001b[1;32m    127\u001b[0m         allow_unreachable=True)  # allow_unreachable flag\n",
      "\u001b[0;31mKeyboardInterrupt\u001b[0m: "
     ]
    }
   ],
   "source": [
    "learn.fine_tune(30, freeze_epochs=1)"
   ]
  },
  {
   "cell_type": "code",
   "execution_count": null,
   "id": "d4a40896",
   "metadata": {},
   "outputs": [],
   "source": [
    "learn.fit_one_epoch()"
   ]
  }
 ],
 "metadata": {
  "kernelspec": {
   "display_name": "Python 3",
   "language": "python",
   "name": "python3"
  },
  "language_info": {
   "codemirror_mode": {
    "name": "ipython",
    "version": 3
   },
   "file_extension": ".py",
   "mimetype": "text/x-python",
   "name": "python",
   "nbconvert_exporter": "python",
   "pygments_lexer": "ipython3",
   "version": "3.8.8"
  },
  "metadata": {
   "interpreter": {
    "hash": "53bba12dd6a038e761fc83a304742c6553706de7889a50503dd4237be0a73033"
   }
  },
  "toc": {
   "base_numbering": 1,
   "nav_menu": {},
   "number_sections": true,
   "sideBar": true,
   "skip_h1_title": false,
   "title_cell": "Table of Contents",
   "title_sidebar": "Contents",
   "toc_cell": false,
   "toc_position": {},
   "toc_section_display": true,
   "toc_window_display": false
  }
 },
 "nbformat": 4,
 "nbformat_minor": 5
}
