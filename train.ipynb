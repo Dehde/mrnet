{
 "cells": [
  {
   "cell_type": "code",
   "execution_count": 1,
   "id": "2e0e1346",
   "metadata": {
    "ExecuteTime": {
     "end_time": "2021-04-27T19:44:15.093994Z",
     "start_time": "2021-04-27T19:44:12.591400Z"
    },
    "scrolled": true
   },
   "outputs": [
    {
     "name": "stdout",
     "output_type": "stream",
     "text": [
      "Requirement already satisfied: tqdm in /home/rob/anaconda3/envs/mrnet/lib/python3.8/site-packages (4.60.0)\n",
      "Requirement already satisfied: torch in /home/rob/anaconda3/envs/mrnet/lib/python3.8/site-packages (1.7.1)\n",
      "Requirement already satisfied: numpy in /home/rob/anaconda3/envs/mrnet/lib/python3.8/site-packages (from torch) (1.20.2)\n",
      "Requirement already satisfied: typing-extensions in /home/rob/anaconda3/envs/mrnet/lib/python3.8/site-packages (from torch) (3.7.4.3)\n",
      "Requirement already satisfied: torchvision in /home/rob/anaconda3/envs/mrnet/lib/python3.8/site-packages (0.8.2)\n",
      "Collecting torchaudio\n",
      "  Downloading torchaudio-0.8.1-cp38-cp38-manylinux1_x86_64.whl (1.9 MB)\n",
      "\u001b[K     |████████████████████████████████| 1.9 MB 4.4 MB/s eta 0:00:01\n",
      "\u001b[?25hCollecting torch==1.8.1\n",
      "  Using cached torch-1.8.1-cp38-cp38-manylinux1_x86_64.whl (804.1 MB)\n",
      "Requirement already satisfied: numpy in /home/rob/anaconda3/envs/mrnet/lib/python3.8/site-packages (from torch==1.8.1->torchaudio) (1.20.2)\n",
      "Requirement already satisfied: typing-extensions in /home/rob/anaconda3/envs/mrnet/lib/python3.8/site-packages (from torch==1.8.1->torchaudio) (3.7.4.3)\n",
      "Requirement already satisfied: pillow>=4.1.1 in /home/rob/anaconda3/envs/mrnet/lib/python3.8/site-packages (from torchvision) (8.2.0)\n",
      "Collecting torchvision\n",
      "  Using cached torchvision-0.9.1-cp38-cp38-manylinux1_x86_64.whl (17.4 MB)\n",
      "Installing collected packages: torch, torchvision, torchaudio\n",
      "  Attempting uninstall: torch\n",
      "    Found existing installation: torch 1.7.1\n",
      "    Uninstalling torch-1.7.1:\n",
      "      Successfully uninstalled torch-1.7.1\n",
      "  Attempting uninstall: torchvision\n",
      "    Found existing installation: torchvision 0.8.2\n",
      "    Uninstalling torchvision-0.8.2:\n",
      "      Successfully uninstalled torchvision-0.8.2\n",
      "\u001b[31mERROR: pip's dependency resolver does not currently take into account all the packages that are installed. This behaviour is the source of the following dependency conflicts.\n",
      "fastai 2.3.0 requires torch<1.8,>=1.7.0, but you have torch 1.8.1 which is incompatible.\n",
      "fastai 2.3.0 requires torchvision<0.9,>=0.8, but you have torchvision 0.9.1 which is incompatible.\u001b[0m\n",
      "Successfully installed torch-1.8.1 torchaudio-0.8.1 torchvision-0.9.1\n",
      "Requirement already satisfied: fastai in /home/rob/anaconda3/envs/mrnet/lib/python3.8/site-packages (2.3.0)\n",
      "Requirement already satisfied: pillow>6.0.0 in /home/rob/anaconda3/envs/mrnet/lib/python3.8/site-packages (from fastai) (8.2.0)\n",
      "Requirement already satisfied: packaging in /home/rob/anaconda3/envs/mrnet/lib/python3.8/site-packages (from fastai) (20.9)\n",
      "Requirement already satisfied: fastcore<1.4,>=1.3.8 in /home/rob/anaconda3/envs/mrnet/lib/python3.8/site-packages (from fastai) (1.3.19)\n",
      "Requirement already satisfied: pyyaml in /home/rob/anaconda3/envs/mrnet/lib/python3.8/site-packages (from fastai) (5.4.1)\n",
      "Requirement already satisfied: matplotlib in /home/rob/anaconda3/envs/mrnet/lib/python3.8/site-packages (from fastai) (3.4.1)\n",
      "Requirement already satisfied: requests in /home/rob/anaconda3/envs/mrnet/lib/python3.8/site-packages (from fastai) (2.25.1)\n",
      "Requirement already satisfied: fastprogress>=0.2.4 in /home/rob/anaconda3/envs/mrnet/lib/python3.8/site-packages (from fastai) (1.0.0)\n",
      "Requirement already satisfied: scipy in /home/rob/anaconda3/envs/mrnet/lib/python3.8/site-packages (from fastai) (1.6.3)\n",
      "Requirement already satisfied: spacy<3 in /home/rob/anaconda3/envs/mrnet/lib/python3.8/site-packages (from fastai) (2.3.5)\n",
      "Requirement already satisfied: scikit-learn in /home/rob/anaconda3/envs/mrnet/lib/python3.8/site-packages (from fastai) (0.24.2)\n",
      "Collecting torch<1.8,>=1.7.0\n",
      "  Using cached torch-1.7.1-cp38-cp38-manylinux1_x86_64.whl (776.8 MB)\n",
      "Requirement already satisfied: pip in /home/rob/anaconda3/envs/mrnet/lib/python3.8/site-packages (from fastai) (21.0.1)\n",
      "Collecting torchvision<0.9,>=0.8\n",
      "  Using cached torchvision-0.8.2-cp38-cp38-manylinux1_x86_64.whl (12.8 MB)\n",
      "Requirement already satisfied: pandas in /home/rob/anaconda3/envs/mrnet/lib/python3.8/site-packages (from fastai) (1.2.4)\n",
      "Requirement already satisfied: numpy in /home/rob/anaconda3/envs/mrnet/lib/python3.8/site-packages (from fastprogress>=0.2.4->fastai) (1.20.2)\n",
      "Requirement already satisfied: preshed<3.1.0,>=3.0.2 in /home/rob/anaconda3/envs/mrnet/lib/python3.8/site-packages (from spacy<3->fastai) (3.0.5)\n",
      "Requirement already satisfied: srsly<1.1.0,>=1.0.2 in /home/rob/anaconda3/envs/mrnet/lib/python3.8/site-packages (from spacy<3->fastai) (1.0.5)\n",
      "Requirement already satisfied: wasabi<1.1.0,>=0.4.0 in /home/rob/anaconda3/envs/mrnet/lib/python3.8/site-packages (from spacy<3->fastai) (0.8.2)\n",
      "Requirement already satisfied: catalogue<1.1.0,>=0.0.7 in /home/rob/anaconda3/envs/mrnet/lib/python3.8/site-packages (from spacy<3->fastai) (1.0.0)\n",
      "Requirement already satisfied: setuptools in /home/rob/anaconda3/envs/mrnet/lib/python3.8/site-packages (from spacy<3->fastai) (52.0.0.post20210125)\n",
      "Requirement already satisfied: murmurhash<1.1.0,>=0.28.0 in /home/rob/anaconda3/envs/mrnet/lib/python3.8/site-packages (from spacy<3->fastai) (1.0.5)\n",
      "Requirement already satisfied: plac<1.2.0,>=0.9.6 in /home/rob/anaconda3/envs/mrnet/lib/python3.8/site-packages (from spacy<3->fastai) (1.1.3)\n",
      "Requirement already satisfied: blis<0.8.0,>=0.4.0 in /home/rob/anaconda3/envs/mrnet/lib/python3.8/site-packages (from spacy<3->fastai) (0.7.4)\n",
      "Requirement already satisfied: tqdm<5.0.0,>=4.38.0 in /home/rob/anaconda3/envs/mrnet/lib/python3.8/site-packages (from spacy<3->fastai) (4.60.0)\n",
      "Requirement already satisfied: thinc<7.5.0,>=7.4.1 in /home/rob/anaconda3/envs/mrnet/lib/python3.8/site-packages (from spacy<3->fastai) (7.4.5)\n",
      "Requirement already satisfied: cymem<2.1.0,>=2.0.2 in /home/rob/anaconda3/envs/mrnet/lib/python3.8/site-packages (from spacy<3->fastai) (2.0.5)\n",
      "Requirement already satisfied: certifi>=2017.4.17 in /home/rob/anaconda3/envs/mrnet/lib/python3.8/site-packages (from requests->fastai) (2020.12.5)\n",
      "Requirement already satisfied: urllib3<1.27,>=1.21.1 in /home/rob/anaconda3/envs/mrnet/lib/python3.8/site-packages (from requests->fastai) (1.26.4)\n",
      "Requirement already satisfied: idna<3,>=2.5 in /home/rob/anaconda3/envs/mrnet/lib/python3.8/site-packages (from requests->fastai) (2.10)\n",
      "Requirement already satisfied: chardet<5,>=3.0.2 in /home/rob/anaconda3/envs/mrnet/lib/python3.8/site-packages (from requests->fastai) (4.0.0)\n",
      "Requirement already satisfied: typing-extensions in /home/rob/anaconda3/envs/mrnet/lib/python3.8/site-packages (from torch<1.8,>=1.7.0->fastai) (3.7.4.3)\n",
      "Requirement already satisfied: python-dateutil>=2.7 in /home/rob/anaconda3/envs/mrnet/lib/python3.8/site-packages (from matplotlib->fastai) (2.8.1)\n",
      "Requirement already satisfied: pyparsing>=2.2.1 in /home/rob/anaconda3/envs/mrnet/lib/python3.8/site-packages (from matplotlib->fastai) (2.4.7)\n",
      "Requirement already satisfied: kiwisolver>=1.0.1 in /home/rob/anaconda3/envs/mrnet/lib/python3.8/site-packages (from matplotlib->fastai) (1.3.1)\n",
      "Requirement already satisfied: cycler>=0.10 in /home/rob/anaconda3/envs/mrnet/lib/python3.8/site-packages (from matplotlib->fastai) (0.10.0)\n",
      "Requirement already satisfied: six in /home/rob/anaconda3/envs/mrnet/lib/python3.8/site-packages (from cycler>=0.10->matplotlib->fastai) (1.15.0)\n",
      "Requirement already satisfied: pytz>=2017.3 in /home/rob/anaconda3/envs/mrnet/lib/python3.8/site-packages (from pandas->fastai) (2021.1)\n",
      "Requirement already satisfied: threadpoolctl>=2.0.0 in /home/rob/anaconda3/envs/mrnet/lib/python3.8/site-packages (from scikit-learn->fastai) (2.1.0)\n",
      "Requirement already satisfied: joblib>=0.11 in /home/rob/anaconda3/envs/mrnet/lib/python3.8/site-packages (from scikit-learn->fastai) (1.0.1)\n",
      "Installing collected packages: torch, torchvision\n",
      "  Attempting uninstall: torch\n",
      "    Found existing installation: torch 1.8.1\n",
      "    Uninstalling torch-1.8.1:\n",
      "      Successfully uninstalled torch-1.8.1\n",
      "  Attempting uninstall: torchvision\n",
      "    Found existing installation: torchvision 0.9.1\n",
      "    Uninstalling torchvision-0.9.1:\n",
      "      Successfully uninstalled torchvision-0.9.1\n",
      "\u001b[31mERROR: pip's dependency resolver does not currently take into account all the packages that are installed. This behaviour is the source of the following dependency conflicts.\n",
      "torchaudio 0.8.1 requires torch==1.8.1, but you have torch 1.7.1 which is incompatible.\u001b[0m\n",
      "Successfully installed torch-1.7.1 torchvision-0.8.2\n"
     ]
    },
    {
     "name": "stdout",
     "output_type": "stream",
     "text": [
      "Requirement already satisfied: tensorboardX in /home/rob/anaconda3/envs/mrnet/lib/python3.8/site-packages (2.2)\n",
      "Requirement already satisfied: numpy in /home/rob/anaconda3/envs/mrnet/lib/python3.8/site-packages (from tensorboardX) (1.20.2)\n",
      "Requirement already satisfied: protobuf>=3.8.0 in /home/rob/anaconda3/envs/mrnet/lib/python3.8/site-packages (from tensorboardX) (3.15.8)\n",
      "Requirement already satisfied: six>=1.9 in /home/rob/anaconda3/envs/mrnet/lib/python3.8/site-packages (from protobuf>=3.8.0->tensorboardX) (1.15.0)\n",
      "Requirement already satisfied: scikit-learn in /home/rob/anaconda3/envs/mrnet/lib/python3.8/site-packages (0.24.2)\n",
      "Requirement already satisfied: scipy>=0.19.1 in /home/rob/anaconda3/envs/mrnet/lib/python3.8/site-packages (from scikit-learn) (1.6.3)\n",
      "Requirement already satisfied: numpy>=1.13.3 in /home/rob/anaconda3/envs/mrnet/lib/python3.8/site-packages (from scikit-learn) (1.20.2)\n",
      "Requirement already satisfied: threadpoolctl>=2.0.0 in /home/rob/anaconda3/envs/mrnet/lib/python3.8/site-packages (from scikit-learn) (2.1.0)\n",
      "Requirement already satisfied: joblib>=0.11 in /home/rob/anaconda3/envs/mrnet/lib/python3.8/site-packages (from scikit-learn) (1.0.1)\n",
      "Collecting torchsample\n",
      "  Cloning https://github.com/ncullen93/torchsample.git to /tmp/pip-install-m0k4uomu/torchsample_636211e2539341c3bd7bf3fd8a6be50c\n",
      "  Running command git clone -q https://github.com/ncullen93/torchsample.git /tmp/pip-install-m0k4uomu/torchsample_636211e2539341c3bd7bf3fd8a6be50c\n",
      "Building wheels for collected packages: torchsample\n",
      "  Building wheel for torchsample (setup.py) ... \u001b[?25ldone\n",
      "\u001b[?25h  Created wheel for torchsample: filename=torchsample-0.1.3-py3-none-any.whl size=43415 sha256=55232d283dc286e463c5e8e37c4831c1d27d7357f71d8552b7656ca22579b338\n",
      "  Stored in directory: /tmp/pip-ephem-wheel-cache-57w823td/wheels/54/14/cd/5612ec3bc0ce8e5b68b6a273873d18a3a5c817f35db70579a1\n",
      "Successfully built torchsample\n",
      "Installing collected packages: torchsample\n",
      "Successfully installed torchsample-0.1.3\n",
      "Collecting nibabel\n",
      "  Downloading nibabel-3.2.1-py3-none-any.whl (3.3 MB)\n",
      "\u001b[K     |████████████████████████████████| 3.3 MB 4.7 MB/s eta 0:00:01\n",
      "\u001b[?25hRequirement already satisfied: packaging>=14.3 in /home/rob/anaconda3/envs/mrnet/lib/python3.8/site-packages (from nibabel) (20.9)\n",
      "Requirement already satisfied: numpy>=1.14 in /home/rob/anaconda3/envs/mrnet/lib/python3.8/site-packages (from nibabel) (1.20.2)\n",
      "Requirement already satisfied: pyparsing>=2.0.2 in /home/rob/anaconda3/envs/mrnet/lib/python3.8/site-packages (from packaging>=14.3->nibabel) (2.4.7)\n",
      "Installing collected packages: nibabel\n",
      "Successfully installed nibabel-3.2.1\n",
      "Collecting nbdev\n",
      "  Downloading nbdev-1.1.14-py3-none-any.whl (46 kB)\n",
      "\u001b[K     |████████████████████████████████| 46 kB 2.2 MB/s eta 0:00:011\n",
      "\u001b[?25hRequirement already satisfied: jupyter in /home/rob/anaconda3/envs/mrnet/lib/python3.8/site-packages (from nbdev) (1.0.0)\n",
      "Collecting nbconvert<6\n",
      "  Downloading nbconvert-5.6.1-py2.py3-none-any.whl (455 kB)\n",
      "\u001b[K     |████████████████████████████████| 455 kB 6.7 MB/s eta 0:00:01\n",
      "\u001b[?25hRequirement already satisfied: pyyaml in /home/rob/anaconda3/envs/mrnet/lib/python3.8/site-packages (from nbdev) (5.4.1)\n",
      "Requirement already satisfied: jupyter-client<=6.1.12 in /home/rob/anaconda3/envs/mrnet/lib/python3.8/site-packages (from nbdev) (6.1.12)\n",
      "Requirement already satisfied: pip in /home/rob/anaconda3/envs/mrnet/lib/python3.8/site-packages (from nbdev) (21.0.1)\n",
      "Collecting fastrelease\n",
      "  Downloading fastrelease-0.1.11-py3-none-any.whl (16 kB)\n",
      "Requirement already satisfied: ipykernel in /home/rob/anaconda3/envs/mrnet/lib/python3.8/site-packages (from nbdev) (5.5.3)\n",
      "Requirement already satisfied: packaging in /home/rob/anaconda3/envs/mrnet/lib/python3.8/site-packages (from nbdev) (20.9)\n",
      "Collecting ghapi\n",
      "  Downloading ghapi-0.1.16-py3-none-any.whl (49 kB)\n",
      "\u001b[K     |████████████████████████████████| 49 kB 2.3 MB/s  eta 0:00:01\n",
      "\u001b[?25hRequirement already satisfied: fastcore>=1.3.19 in /home/rob/anaconda3/envs/mrnet/lib/python3.8/site-packages (from nbdev) (1.3.19)\n",
      "Requirement already satisfied: nbformat>=4.4.0 in /home/rob/anaconda3/envs/mrnet/lib/python3.8/site-packages (from nbdev) (5.1.3)\n",
      "Requirement already satisfied: jupyter-core>=4.6.0 in /home/rob/anaconda3/envs/mrnet/lib/python3.8/site-packages (from jupyter-client<=6.1.12->nbdev) (4.7.1)\n",
      "Requirement already satisfied: pyzmq>=13 in /home/rob/anaconda3/envs/mrnet/lib/python3.8/site-packages (from jupyter-client<=6.1.12->nbdev) (22.0.3)\n",
      "Requirement already satisfied: tornado>=4.1 in /home/rob/anaconda3/envs/mrnet/lib/python3.8/site-packages (from jupyter-client<=6.1.12->nbdev) (6.1)\n",
      "Requirement already satisfied: traitlets in /home/rob/anaconda3/envs/mrnet/lib/python3.8/site-packages (from jupyter-client<=6.1.12->nbdev) (5.0.5)\n",
      "Requirement already satisfied: python-dateutil>=2.1 in /home/rob/anaconda3/envs/mrnet/lib/python3.8/site-packages (from jupyter-client<=6.1.12->nbdev) (2.8.1)\n",
      "Requirement already satisfied: entrypoints>=0.2.2 in /home/rob/anaconda3/envs/mrnet/lib/python3.8/site-packages (from nbconvert<6->nbdev) (0.3)\n",
      "Requirement already satisfied: defusedxml in /home/rob/anaconda3/envs/mrnet/lib/python3.8/site-packages (from nbconvert<6->nbdev) (0.7.1)\n",
      "Requirement already satisfied: pygments in /home/rob/anaconda3/envs/mrnet/lib/python3.8/site-packages (from nbconvert<6->nbdev) (2.8.1)\n",
      "Requirement already satisfied: mistune<2,>=0.8.1 in /home/rob/anaconda3/envs/mrnet/lib/python3.8/site-packages (from nbconvert<6->nbdev) (0.8.4)\n",
      "Requirement already satisfied: pandocfilters>=1.4.1 in /home/rob/anaconda3/envs/mrnet/lib/python3.8/site-packages (from nbconvert<6->nbdev) (1.4.3)\n",
      "Requirement already satisfied: jinja2>=2.4 in /home/rob/anaconda3/envs/mrnet/lib/python3.8/site-packages (from nbconvert<6->nbdev) (2.11.3)\n",
      "Requirement already satisfied: bleach in /home/rob/anaconda3/envs/mrnet/lib/python3.8/site-packages (from nbconvert<6->nbdev) (3.3.0)\n",
      "Requirement already satisfied: testpath in /home/rob/anaconda3/envs/mrnet/lib/python3.8/site-packages (from nbconvert<6->nbdev) (0.4.4)\n",
      "Requirement already satisfied: MarkupSafe>=0.23 in /home/rob/anaconda3/envs/mrnet/lib/python3.8/site-packages (from jinja2>=2.4->nbconvert<6->nbdev) (1.1.1)\n",
      "Requirement already satisfied: jsonschema!=2.5.0,>=2.4 in /home/rob/anaconda3/envs/mrnet/lib/python3.8/site-packages (from nbformat>=4.4.0->nbdev) (3.2.0)\n",
      "Requirement already satisfied: ipython-genutils in /home/rob/anaconda3/envs/mrnet/lib/python3.8/site-packages (from nbformat>=4.4.0->nbdev) (0.2.0)\n",
      "Requirement already satisfied: setuptools in /home/rob/anaconda3/envs/mrnet/lib/python3.8/site-packages (from jsonschema!=2.5.0,>=2.4->nbformat>=4.4.0->nbdev) (52.0.0.post20210125)\n",
      "Requirement already satisfied: attrs>=17.4.0 in /home/rob/anaconda3/envs/mrnet/lib/python3.8/site-packages (from jsonschema!=2.5.0,>=2.4->nbformat>=4.4.0->nbdev) (20.3.0)\n",
      "Requirement already satisfied: six>=1.11.0 in /home/rob/anaconda3/envs/mrnet/lib/python3.8/site-packages (from jsonschema!=2.5.0,>=2.4->nbformat>=4.4.0->nbdev) (1.15.0)\n",
      "Requirement already satisfied: pyrsistent>=0.14.0 in /home/rob/anaconda3/envs/mrnet/lib/python3.8/site-packages (from jsonschema!=2.5.0,>=2.4->nbformat>=4.4.0->nbdev) (0.17.3)\n",
      "Requirement already satisfied: webencodings in /home/rob/anaconda3/envs/mrnet/lib/python3.8/site-packages (from bleach->nbconvert<6->nbdev) (0.5.1)\n",
      "Requirement already satisfied: ipython>=5.0.0 in /home/rob/anaconda3/envs/mrnet/lib/python3.8/site-packages (from ipykernel->nbdev) (7.22.0)\n",
      "Requirement already satisfied: backcall in /home/rob/anaconda3/envs/mrnet/lib/python3.8/site-packages (from ipython>=5.0.0->ipykernel->nbdev) (0.2.0)\n",
      "Requirement already satisfied: jedi>=0.16 in /home/rob/anaconda3/envs/mrnet/lib/python3.8/site-packages (from ipython>=5.0.0->ipykernel->nbdev) (0.18.0)\n",
      "Requirement already satisfied: prompt-toolkit!=3.0.0,!=3.0.1,<3.1.0,>=2.0.0 in /home/rob/anaconda3/envs/mrnet/lib/python3.8/site-packages (from ipython>=5.0.0->ipykernel->nbdev) (3.0.18)\n",
      "Requirement already satisfied: decorator in /home/rob/anaconda3/envs/mrnet/lib/python3.8/site-packages (from ipython>=5.0.0->ipykernel->nbdev) (5.0.7)\n",
      "Requirement already satisfied: pexpect>4.3 in /home/rob/anaconda3/envs/mrnet/lib/python3.8/site-packages (from ipython>=5.0.0->ipykernel->nbdev) (4.8.0)\n",
      "Requirement already satisfied: pickleshare in /home/rob/anaconda3/envs/mrnet/lib/python3.8/site-packages (from ipython>=5.0.0->ipykernel->nbdev) (0.7.5)\n",
      "Requirement already satisfied: parso<0.9.0,>=0.8.0 in /home/rob/anaconda3/envs/mrnet/lib/python3.8/site-packages (from jedi>=0.16->ipython>=5.0.0->ipykernel->nbdev) (0.8.2)\n",
      "Requirement already satisfied: ptyprocess>=0.5 in /home/rob/anaconda3/envs/mrnet/lib/python3.8/site-packages (from pexpect>4.3->ipython>=5.0.0->ipykernel->nbdev) (0.7.0)\n"
     ]
    },
    {
     "name": "stdout",
     "output_type": "stream",
     "text": [
      "Requirement already satisfied: wcwidth in /home/rob/anaconda3/envs/mrnet/lib/python3.8/site-packages (from prompt-toolkit!=3.0.0,!=3.0.1,<3.1.0,>=2.0.0->ipython>=5.0.0->ipykernel->nbdev) (0.2.5)\n",
      "Requirement already satisfied: qtconsole in /home/rob/anaconda3/envs/mrnet/lib/python3.8/site-packages (from jupyter->nbdev) (5.0.3)\n",
      "Requirement already satisfied: jupyter-console in /home/rob/anaconda3/envs/mrnet/lib/python3.8/site-packages (from jupyter->nbdev) (6.4.0)\n",
      "Requirement already satisfied: notebook in /home/rob/anaconda3/envs/mrnet/lib/python3.8/site-packages (from jupyter->nbdev) (6.3.0)\n",
      "Requirement already satisfied: ipywidgets in /home/rob/anaconda3/envs/mrnet/lib/python3.8/site-packages (from jupyter->nbdev) (7.6.3)\n",
      "Requirement already satisfied: widgetsnbextension~=3.5.0 in /home/rob/anaconda3/envs/mrnet/lib/python3.8/site-packages (from ipywidgets->jupyter->nbdev) (3.5.1)\n",
      "Requirement already satisfied: jupyterlab-widgets>=1.0.0 in /home/rob/anaconda3/envs/mrnet/lib/python3.8/site-packages (from ipywidgets->jupyter->nbdev) (1.0.0)\n",
      "Requirement already satisfied: argon2-cffi in /home/rob/anaconda3/envs/mrnet/lib/python3.8/site-packages (from notebook->jupyter->nbdev) (20.1.0)\n",
      "Requirement already satisfied: Send2Trash>=1.5.0 in /home/rob/anaconda3/envs/mrnet/lib/python3.8/site-packages (from notebook->jupyter->nbdev) (1.5.0)\n",
      "Requirement already satisfied: terminado>=0.8.3 in /home/rob/anaconda3/envs/mrnet/lib/python3.8/site-packages (from notebook->jupyter->nbdev) (0.9.4)\n",
      "Requirement already satisfied: prometheus-client in /home/rob/anaconda3/envs/mrnet/lib/python3.8/site-packages (from notebook->jupyter->nbdev) (0.10.1)\n",
      "Requirement already satisfied: cffi>=1.0.0 in /home/rob/anaconda3/envs/mrnet/lib/python3.8/site-packages (from argon2-cffi->notebook->jupyter->nbdev) (1.14.5)\n",
      "Requirement already satisfied: pycparser in /home/rob/anaconda3/envs/mrnet/lib/python3.8/site-packages (from cffi>=1.0.0->argon2-cffi->notebook->jupyter->nbdev) (2.20)\n",
      "Requirement already satisfied: pyparsing>=2.0.2 in /home/rob/anaconda3/envs/mrnet/lib/python3.8/site-packages (from packaging->nbdev) (2.4.7)\n",
      "Requirement already satisfied: qtpy in /home/rob/anaconda3/envs/mrnet/lib/python3.8/site-packages (from qtconsole->jupyter->nbdev) (1.9.0)\n",
      "Installing collected packages: nbconvert, ghapi, fastrelease, nbdev\n",
      "  Attempting uninstall: nbconvert\n",
      "    Found existing installation: nbconvert 6.0.7\n",
      "    Uninstalling nbconvert-6.0.7:\n",
      "      Successfully uninstalled nbconvert-6.0.7\n",
      "Successfully installed fastrelease-0.1.11 ghapi-0.1.16 nbconvert-5.6.1 nbdev-1.1.14\n"
     ]
    }
   ],
   "source": [
    "!pip install tqdm\n",
    "!pip install torch\n",
    "!pip install torchvision torchaudio\n",
    "!pip install fastai\n",
    "!pip install tensorboardX\n",
    "!pip install scikit-learn\n",
    "!pip install \"git+https://github.com/ncullen93/torchsample.git#egg=torchsample\"\n",
    "!pip install nibabel\n",
    "!pip install nbdev"
   ]
  },
  {
   "cell_type": "code",
   "execution_count": 13,
   "id": "8349a6d0",
   "metadata": {},
   "outputs": [
    {
     "name": "stdout",
     "output_type": "stream",
     "text": [
      "Collecting torch==1.6.0\n",
      "  Downloading torch-1.6.0-cp38-cp38-manylinux1_x86_64.whl (748.8 MB)\n",
      "\u001b[K     |████████████████████████████████| 748.8 MB 18 kB/s s eta 0:00:01     |█████████▏                      | 213.9 MB 13.1 MB/s eta 0:00:41     |██████████▉                     | 254.4 MB 11.7 MB/s eta 0:00:43     |█████████████████▊              | 414.2 MB 27.7 MB/s eta 0:00:13     |██████████████████████▎         | 520.5 MB 11.6 MB/s eta 0:00:20     |███████████████████████████     | 632.9 MB 807 kB/s eta 0:02:24\n",
      "\u001b[?25hCollecting torchvision==0.7.0\n",
      "  Downloading torchvision-0.7.0-cp38-cp38-manylinux1_x86_64.whl (5.9 MB)\n",
      "\u001b[K     |████████████████████████████████| 5.9 MB 16.6 MB/s eta 0:00:01\n",
      "\u001b[?25hRequirement already satisfied: numpy in /home/rob/anaconda3/envs/mrnet/lib/python3.8/site-packages (from torch==1.6.0) (1.20.2)\n",
      "Collecting future\n",
      "  Downloading future-0.18.2.tar.gz (829 kB)\n",
      "\u001b[K     |████████████████████████████████| 829 kB 18.9 MB/s eta 0:00:01\n",
      "\u001b[?25hRequirement already satisfied: pillow>=4.1.1 in /home/rob/anaconda3/envs/mrnet/lib/python3.8/site-packages (from torchvision==0.7.0) (8.2.0)\n",
      "Building wheels for collected packages: future\n",
      "  Building wheel for future (setup.py) ... \u001b[?25ldone\n",
      "\u001b[?25h  Created wheel for future: filename=future-0.18.2-py3-none-any.whl size=491059 sha256=dfb222e553d90a18ab7df0371cc3aa10ede3e0caca522af5f2d886c8456baed9\n",
      "  Stored in directory: /home/rob/.cache/pip/wheels/8e/70/28/3d6ccd6e315f65f245da085482a2e1c7d14b90b30f239e2cf4\n",
      "Successfully built future\n",
      "Installing collected packages: future, torch, torchvision\n",
      "  Attempting uninstall: torch\n",
      "    Found existing installation: torch 1.7.1\n",
      "    Uninstalling torch-1.7.1:\n",
      "      Successfully uninstalled torch-1.7.1\n",
      "  Attempting uninstall: torchvision\n",
      "    Found existing installation: torchvision 0.8.2\n",
      "    Uninstalling torchvision-0.8.2:\n",
      "      Successfully uninstalled torchvision-0.8.2\n",
      "\u001b[31mERROR: pip's dependency resolver does not currently take into account all the packages that are installed. This behaviour is the source of the following dependency conflicts.\n",
      "torchaudio 0.8.1 requires torch==1.8.1, but you have torch 1.6.0 which is incompatible.\n",
      "fastai 2.3.0 requires torch<1.8,>=1.7.0, but you have torch 1.6.0 which is incompatible.\n",
      "fastai 2.3.0 requires torchvision<0.9,>=0.8, but you have torchvision 0.7.0 which is incompatible.\u001b[0m\n",
      "Successfully installed future-0.18.2 torch-1.6.0 torchvision-0.7.0\n"
     ]
    }
   ],
   "source": [
    "!pip install torch==1.6.0 torchvision==0.7.0"
   ]
  },
  {
   "cell_type": "code",
   "execution_count": 1,
   "id": "aa76fef0",
   "metadata": {
    "ExecuteTime": {
     "end_time": "2021-04-27T19:43:55.702262Z",
     "start_time": "2021-04-27T19:43:55.141872Z"
    }
   },
   "outputs": [],
   "source": [
    "import shutil\n",
    "import os\n",
    "import time\n",
    "from datetime import datetime\n",
    "import argparse\n",
    "import numpy as np\n",
    "from tqdm import tqdm\n",
    "from nbdev import *\n",
    "\n",
    "import torch\n",
    "import torch.nn as nn\n",
    "import torch.optim as optim\n",
    "from torch.autograd import Variable\n",
    "from torchsample.transforms import RandomRotate, RandomTranslate, RandomFlip, ToTensor, Compose, RandomAffine\n",
    "from torchvision import transforms\n",
    "import torch.nn.functional as F\n",
    "from tensorboardX import SummaryWriter\n",
    "\n",
    "from dataloader import MRDataset\n",
    "import model\n",
    "\n",
    "from sklearn import metrics\n",
    "from fastai.vision.all import *"
   ]
  },
  {
   "cell_type": "code",
   "execution_count": 2,
   "id": "14dc0d35",
   "metadata": {
    "ExecuteTime": {
     "end_time": "2021-04-27T19:41:46.416005Z",
     "start_time": "2021-04-27T19:41:46.410614Z"
    }
   },
   "outputs": [],
   "source": [
    "# parser.add_argument('-t', '--task', type=str, required=True,\n",
    "#                     choices=['abnormal', 'acl', 'meniscus'])\n",
    "# parser.add_argument('-p', '--plane', type=str, required=True,\n",
    "#                     choices=['sagittal', 'coronal', 'axial'])\n",
    "# parser.add_argument('--prefix_name', type=str, required=True)\n",
    "# parser.add_argument('--augment', type=int, choices=[0, 1], default=1)\n",
    "# parser.add_argument('--lr_scheduler', type=str,\n",
    "#                     default='plateau', choices=['plateau', 'step'])\n",
    "# parser.add_argument('--gamma', type=float, default=0.5)\n",
    "# parser.add_argument('--epochs', type=int, default=50)\n",
    "# parser.add_argument('--lr', type=float, default=1e-5)\n",
    "# parser.add_argument('--flush_history', type=int, choices=[0, 1], default=0)\n",
    "# parser.add_argument('--save_model', type=int, choices=[0, 1], default=1)\n",
    "# parser.add_argument('--patience', type=int, default=5)\n",
    "# parser.add_argument('--log_every', type=int, default=100)\n",
    "# args = parser.parse_args()\n",
    "\n",
    "class Args:\n",
    "    def __init__(self):\n",
    "        self.task = \"abnormal\"\n",
    "        self.plane = \"sagittal\"\n",
    "        self.prefix_name = \"Test\"\n",
    "        self.augment = 1\n",
    "        self.lr_scheduler = \"plateau\"\n",
    "        self.gamma = 0.5\n",
    "        self.epochs = 1\n",
    "        self.lr = 1e-5\n",
    "        self.flush_history = 0\n",
    "        self.save_model =1\n",
    "        self.patience = 5\n",
    "        self.log_every = 100\n",
    "        \n",
    "args = Args()"
   ]
  },
  {
   "cell_type": "code",
   "execution_count": 3,
   "id": "4c116ad2",
   "metadata": {
    "ExecuteTime": {
     "end_time": "2021-04-27T19:41:46.538804Z",
     "start_time": "2021-04-27T19:41:46.530415Z"
    }
   },
   "outputs": [
    {
     "data": {
      "text/plain": [
       "'abnormal'"
      ]
     },
     "execution_count": 3,
     "metadata": {},
     "output_type": "execute_result"
    }
   ],
   "source": [
    "args.task"
   ]
  },
  {
   "cell_type": "code",
   "execution_count": 4,
   "id": "93d3a681",
   "metadata": {
    "ExecuteTime": {
     "end_time": "2021-04-27T20:10:12.074484Z",
     "start_time": "2021-04-27T20:10:11.272447Z"
    }
   },
   "outputs": [
    {
     "name": "stdout",
     "output_type": "stream",
     "text": [
      "./data/train-abnormal.csv\n"
     ]
    }
   ],
   "source": [
    "log_root_folder = \"./logs/{0}/{1}/\".format(args.task, args.plane)\n",
    "if args.flush_history == 1:\n",
    "    objects = os.listdir(log_root_folder)\n",
    "    for f in objects:\n",
    "        if os.path.isdir(log_root_folder + f):\n",
    "            shutil.rmtree(log_root_folder + f)\n",
    "\n",
    "now = datetime.now()\n",
    "logdir = log_root_folder + now.strftime(\"%Y%m%d-%H%M%S\") + \"/\"\n",
    "os.makedirs(logdir)\n",
    "\n",
    "writer = SummaryWriter(logdir)\n",
    "\n",
    "augmentor = Compose([\n",
    "    transforms.Lambda(lambda x: torch.Tensor(x)),\n",
    "    RandomRotate(25),\n",
    "    RandomTranslate([0.11, 0.11]),\n",
    "    RandomFlip(),\n",
    "    transforms.Lambda(lambda x: x.repeat(3, 1, 1, 1).permute(1, 0, 2, 3)),\n",
    "])\n",
    "\n",
    "train_dataset = MRDataset('./data/', args.task, args.plane, transform=augmentor, train=True)\n",
    "validation_dataset = MRDataset('./data/', args.task, args.plane, train=False)\n",
    "\n",
    "# train_loader = torch.utils.data.DataLoader(\n",
    "#     train_dataset, batch_size=1, shuffle=True, num_workers=11, drop_last=False)\n",
    "train_loader = DataLoader(train_dataset, batch_size=1, shuffle=True, num_workers=18, drop_last=False)\n",
    "\n",
    "# validation_loader = torch.utils.data.DataLoader(\n",
    "#         validation_dataset, batch_size=1, shuffle=-True, num_workers=11, drop_last=False)\n",
    "\n",
    "validation_loader = DataLoader(validation_dataset, batch_size=1, shuffle=False, num_workers=18, drop_last=False)\n",
    "\n",
    "\n",
    "mrnet = model.MRNet()\n",
    "bceloss = nn.BCEWithLogitsLoss()"
   ]
  },
  {
   "cell_type": "code",
   "execution_count": 5,
   "id": "d0742411",
   "metadata": {},
   "outputs": [],
   "source": [
    "dls = DataLoaders(train_loader, validation_loader)"
   ]
  },
  {
   "cell_type": "code",
   "execution_count": 6,
   "id": "ed205c85",
   "metadata": {},
   "outputs": [
    {
     "name": "stdout",
     "output_type": "stream",
     "text": [
      "2\n",
      "torch.Size([1, 20, 3, 256, 256]) torch.Size([1, 1, 2])\n"
     ]
    }
   ],
   "source": [
    "batch = dls.train.one_batch()\n",
    "print(len(batch))\n",
    "print(*[batch[i].shape for i in range(2)])"
   ]
  },
  {
   "cell_type": "code",
   "execution_count": 7,
   "id": "ac850fb9",
   "metadata": {},
   "outputs": [
    {
     "data": {
      "text/plain": [
       "tensor([[[0., 1.]]])"
      ]
     },
     "execution_count": 7,
     "metadata": {},
     "output_type": "execute_result"
    }
   ],
   "source": [
    "batch[1]"
   ]
  },
  {
   "cell_type": "code",
   "execution_count": 8,
   "id": "2651818f",
   "metadata": {},
   "outputs": [],
   "source": [
    "doc(Learner)"
   ]
  },
  {
   "cell_type": "code",
   "execution_count": 6,
   "id": "5ad74124",
   "metadata": {},
   "outputs": [],
   "source": [
    "learn = Learner(dls, mrnet, loss_func=bceloss, metrics=[RocAuc])"
   ]
  },
  {
   "cell_type": "code",
   "execution_count": null,
   "id": "6711776a",
   "metadata": {
    "ExecuteTime": {
     "end_time": "2021-04-27T19:50:11.113107Z",
     "start_time": "2021-04-27T19:50:07.264077Z"
    },
    "scrolled": false
   },
   "outputs": [
    {
     "data": {
      "text/html": [
       "\n",
       "    <div>\n",
       "        <style>\n",
       "            /* Turns off some styling */\n",
       "            progress {\n",
       "                /* gets rid of default border in Firefox and Opera. */\n",
       "                border: none;\n",
       "                /* Needs to be in here for Safari polyfill so background images work as expected. */\n",
       "                background-size: auto;\n",
       "            }\n",
       "            .progress-bar-interrupted, .progress-bar-interrupted::-webkit-progress-bar {\n",
       "                background: #F44336;\n",
       "            }\n",
       "        </style>\n",
       "      <progress value='0' class='' max='1' style='width:300px; height:20px; vertical-align: middle;'></progress>\n",
       "      0.00% [0/1 00:00<00:00]\n",
       "    </div>\n",
       "    \n",
       "<table border=\"1\" class=\"dataframe\">\n",
       "  <thead>\n",
       "    <tr style=\"text-align: left;\">\n",
       "      <th>epoch</th>\n",
       "      <th>train_loss</th>\n",
       "      <th>valid_loss</th>\n",
       "      <th>RocAuc</th>\n",
       "      <th>time</th>\n",
       "    </tr>\n",
       "  </thead>\n",
       "  <tbody>\n",
       "  </tbody>\n",
       "</table><p>\n",
       "\n",
       "    <div>\n",
       "        <style>\n",
       "            /* Turns off some styling */\n",
       "            progress {\n",
       "                /* gets rid of default border in Firefox and Opera. */\n",
       "                border: none;\n",
       "                /* Needs to be in here for Safari polyfill so background images work as expected. */\n",
       "                background-size: auto;\n",
       "            }\n",
       "            .progress-bar-interrupted, .progress-bar-interrupted::-webkit-progress-bar {\n",
       "                background: #F44336;\n",
       "            }\n",
       "        </style>\n",
       "      <progress value='871' class='' max='1130' style='width:300px; height:20px; vertical-align: middle;'></progress>\n",
       "      77.08% [871/1130 21:33<06:24 0.8570]\n",
       "    </div>\n",
       "    "
      ],
      "text/plain": [
       "<IPython.core.display.HTML object>"
      ]
     },
     "metadata": {},
     "output_type": "display_data"
    }
   ],
   "source": [
    "learn.fine_tune(1)"
   ]
  },
  {
   "cell_type": "code",
   "execution_count": null,
   "id": "d4a40896",
   "metadata": {},
   "outputs": [],
   "source": []
  }
 ],
 "metadata": {
  "kernelspec": {
   "display_name": "Python 3",
   "language": "python",
   "name": "python3"
  },
  "language_info": {
   "codemirror_mode": {
    "name": "ipython",
    "version": 3
   },
   "file_extension": ".py",
   "mimetype": "text/x-python",
   "name": "python",
   "nbconvert_exporter": "python",
   "pygments_lexer": "ipython3",
   "version": "3.8.8"
  },
  "metadata": {
   "interpreter": {
    "hash": "53bba12dd6a038e761fc83a304742c6553706de7889a50503dd4237be0a73033"
   }
  },
  "toc": {
   "base_numbering": 1,
   "nav_menu": {},
   "number_sections": true,
   "sideBar": true,
   "skip_h1_title": false,
   "title_cell": "Table of Contents",
   "title_sidebar": "Contents",
   "toc_cell": false,
   "toc_position": {},
   "toc_section_display": true,
   "toc_window_display": false
  }
 },
 "nbformat": 4,
 "nbformat_minor": 5
}
