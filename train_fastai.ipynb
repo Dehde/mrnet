{
 "cells": [
  {
   "cell_type": "code",
   "execution_count": 6,
   "id": "63f27f62",
   "metadata": {
    "ExecuteTime": {
     "end_time": "2021-05-16T14:02:19.969055Z",
     "start_time": "2021-05-16T14:01:50.631840Z"
    },
    "scrolled": true
   },
   "outputs": [
    {
     "name": "stdout",
     "output_type": "stream",
     "text": [
      "Requirement already satisfied: tqdm in /Users/rob/anaconda3/envs/mrnet/lib/python3.8/site-packages (4.60.0)\n",
      "Requirement already satisfied: torch in /Users/rob/anaconda3/envs/mrnet/lib/python3.8/site-packages (1.8.1)\n",
      "Requirement already satisfied: numpy in /Users/rob/anaconda3/envs/mrnet/lib/python3.8/site-packages (from torch) (1.20.3)\n",
      "Requirement already satisfied: typing-extensions in /Users/rob/anaconda3/envs/mrnet/lib/python3.8/site-packages (from torch) (3.10.0.0)\n",
      "Requirement already satisfied: torchvision in /Users/rob/anaconda3/envs/mrnet/lib/python3.8/site-packages (0.9.1)\n",
      "Collecting torchaudio\n",
      "  Downloading torchaudio-0.8.1-cp38-cp38-macosx_10_9_x86_64.whl (1.5 MB)\n",
      "\u001b[K     |████████████████████████████████| 1.5 MB 4.8 MB/s eta 0:00:01\n",
      "\u001b[?25hRequirement already satisfied: torch==1.8.1 in /Users/rob/anaconda3/envs/mrnet/lib/python3.8/site-packages (from torchaudio) (1.8.1)\n",
      "Requirement already satisfied: typing-extensions in /Users/rob/anaconda3/envs/mrnet/lib/python3.8/site-packages (from torch==1.8.1->torchaudio) (3.10.0.0)\n",
      "Requirement already satisfied: numpy in /Users/rob/anaconda3/envs/mrnet/lib/python3.8/site-packages (from torch==1.8.1->torchaudio) (1.20.3)\n",
      "Requirement already satisfied: pillow>=4.1.1 in /Users/rob/anaconda3/envs/mrnet/lib/python3.8/site-packages (from torchvision) (8.2.0)\n",
      "Installing collected packages: torchaudio\n",
      "Successfully installed torchaudio-0.8.1\n",
      "Requirement already satisfied: fastai in /Users/rob/anaconda3/envs/mrnet/lib/python3.8/site-packages (2.3.1)\n",
      "Requirement already satisfied: scipy in /Users/rob/anaconda3/envs/mrnet/lib/python3.8/site-packages (from fastai) (1.6.3)\n",
      "Requirement already satisfied: spacy<4 in /Users/rob/anaconda3/envs/mrnet/lib/python3.8/site-packages (from fastai) (3.0.6)\n",
      "Requirement already satisfied: fastcore<1.4,>=1.3.8 in /Users/rob/anaconda3/envs/mrnet/lib/python3.8/site-packages (from fastai) (1.3.20)\n",
      "Requirement already satisfied: torchvision>=0.8.2 in /Users/rob/anaconda3/envs/mrnet/lib/python3.8/site-packages (from fastai) (0.9.1)\n",
      "Requirement already satisfied: fastprogress>=0.2.4 in /Users/rob/anaconda3/envs/mrnet/lib/python3.8/site-packages (from fastai) (1.0.0)\n",
      "Requirement already satisfied: pandas in /Users/rob/anaconda3/envs/mrnet/lib/python3.8/site-packages (from fastai) (1.2.4)\n",
      "Requirement already satisfied: pip in /Users/rob/anaconda3/envs/mrnet/lib/python3.8/site-packages (from fastai) (21.0.1)\n",
      "Requirement already satisfied: pillow>6.0.0 in /Users/rob/anaconda3/envs/mrnet/lib/python3.8/site-packages (from fastai) (8.2.0)\n",
      "Requirement already satisfied: torch<1.9,>=1.7.0 in /Users/rob/anaconda3/envs/mrnet/lib/python3.8/site-packages (from fastai) (1.8.1)\n",
      "Requirement already satisfied: requests in /Users/rob/anaconda3/envs/mrnet/lib/python3.8/site-packages (from fastai) (2.25.1)\n",
      "Requirement already satisfied: scikit-learn in /Users/rob/anaconda3/envs/mrnet/lib/python3.8/site-packages (from fastai) (0.24.2)\n",
      "Requirement already satisfied: packaging in /Users/rob/anaconda3/envs/mrnet/lib/python3.8/site-packages (from fastai) (20.9)\n",
      "Requirement already satisfied: matplotlib in /Users/rob/anaconda3/envs/mrnet/lib/python3.8/site-packages (from fastai) (3.4.2)\n",
      "Requirement already satisfied: pyyaml in /Users/rob/anaconda3/envs/mrnet/lib/python3.8/site-packages (from fastai) (5.4.1)\n",
      "Requirement already satisfied: numpy in /Users/rob/anaconda3/envs/mrnet/lib/python3.8/site-packages (from fastprogress>=0.2.4->fastai) (1.20.3)\n",
      "Requirement already satisfied: murmurhash<1.1.0,>=0.28.0 in /Users/rob/anaconda3/envs/mrnet/lib/python3.8/site-packages (from spacy<4->fastai) (1.0.5)\n",
      "Requirement already satisfied: srsly<3.0.0,>=2.4.1 in /Users/rob/anaconda3/envs/mrnet/lib/python3.8/site-packages (from spacy<4->fastai) (2.4.1)\n",
      "Requirement already satisfied: pydantic<1.8.0,>=1.7.1 in /Users/rob/anaconda3/envs/mrnet/lib/python3.8/site-packages (from spacy<4->fastai) (1.7.4)\n",
      "Requirement already satisfied: thinc<8.1.0,>=8.0.3 in /Users/rob/anaconda3/envs/mrnet/lib/python3.8/site-packages (from spacy<4->fastai) (8.0.3)\n",
      "Requirement already satisfied: tqdm<5.0.0,>=4.38.0 in /Users/rob/anaconda3/envs/mrnet/lib/python3.8/site-packages (from spacy<4->fastai) (4.60.0)\n",
      "Requirement already satisfied: spacy-legacy<3.1.0,>=3.0.4 in /Users/rob/anaconda3/envs/mrnet/lib/python3.8/site-packages (from spacy<4->fastai) (3.0.5)\n",
      "Requirement already satisfied: setuptools in /Users/rob/anaconda3/envs/mrnet/lib/python3.8/site-packages (from spacy<4->fastai) (52.0.0.post20210125)\n",
      "Requirement already satisfied: pathy>=0.3.5 in /Users/rob/anaconda3/envs/mrnet/lib/python3.8/site-packages (from spacy<4->fastai) (0.5.2)\n",
      "Requirement already satisfied: jinja2 in /Users/rob/anaconda3/envs/mrnet/lib/python3.8/site-packages (from spacy<4->fastai) (3.0.0)\n",
      "Requirement already satisfied: cymem<2.1.0,>=2.0.2 in /Users/rob/anaconda3/envs/mrnet/lib/python3.8/site-packages (from spacy<4->fastai) (2.0.5)\n",
      "Requirement already satisfied: blis<0.8.0,>=0.4.0 in /Users/rob/anaconda3/envs/mrnet/lib/python3.8/site-packages (from spacy<4->fastai) (0.7.4)\n",
      "Requirement already satisfied: typer<0.4.0,>=0.3.0 in /Users/rob/anaconda3/envs/mrnet/lib/python3.8/site-packages (from spacy<4->fastai) (0.3.2)\n",
      "Requirement already satisfied: wasabi<1.1.0,>=0.8.1 in /Users/rob/anaconda3/envs/mrnet/lib/python3.8/site-packages (from spacy<4->fastai) (0.8.2)\n",
      "Requirement already satisfied: preshed<3.1.0,>=3.0.2 in /Users/rob/anaconda3/envs/mrnet/lib/python3.8/site-packages (from spacy<4->fastai) (3.0.5)\n",
      "Requirement already satisfied: catalogue<2.1.0,>=2.0.3 in /Users/rob/anaconda3/envs/mrnet/lib/python3.8/site-packages (from spacy<4->fastai) (2.0.4)\n",
      "Requirement already satisfied: pyparsing>=2.0.2 in /Users/rob/anaconda3/envs/mrnet/lib/python3.8/site-packages (from packaging->fastai) (2.4.7)\n",
      "Requirement already satisfied: smart-open<4.0.0,>=2.2.0 in /Users/rob/anaconda3/envs/mrnet/lib/python3.8/site-packages (from pathy>=0.3.5->spacy<4->fastai) (3.0.0)\n",
      "Requirement already satisfied: chardet<5,>=3.0.2 in /Users/rob/anaconda3/envs/mrnet/lib/python3.8/site-packages (from requests->fastai) (4.0.0)\n",
      "Requirement already satisfied: idna<3,>=2.5 in /Users/rob/anaconda3/envs/mrnet/lib/python3.8/site-packages (from requests->fastai) (2.10)\n",
      "Requirement already satisfied: urllib3<1.27,>=1.21.1 in /Users/rob/anaconda3/envs/mrnet/lib/python3.8/site-packages (from requests->fastai) (1.26.4)\n",
      "Requirement already satisfied: certifi>=2017.4.17 in /Users/rob/anaconda3/envs/mrnet/lib/python3.8/site-packages (from requests->fastai) (2020.12.5)\n",
      "Requirement already satisfied: typing-extensions in /Users/rob/anaconda3/envs/mrnet/lib/python3.8/site-packages (from torch<1.9,>=1.7.0->fastai) (3.10.0.0)\n",
      "Requirement already satisfied: click<7.2.0,>=7.1.1 in /Users/rob/anaconda3/envs/mrnet/lib/python3.8/site-packages (from typer<0.4.0,>=0.3.0->spacy<4->fastai) (7.1.2)\n",
      "Requirement already satisfied: MarkupSafe>=2.0.0rc2 in /Users/rob/anaconda3/envs/mrnet/lib/python3.8/site-packages (from jinja2->spacy<4->fastai) (2.0.0)\n",
      "Requirement already satisfied: kiwisolver>=1.0.1 in /Users/rob/anaconda3/envs/mrnet/lib/python3.8/site-packages (from matplotlib->fastai) (1.3.1)\n",
      "Requirement already satisfied: python-dateutil>=2.7 in /Users/rob/anaconda3/envs/mrnet/lib/python3.8/site-packages (from matplotlib->fastai) (2.8.1)\n",
      "Requirement already satisfied: cycler>=0.10 in /Users/rob/anaconda3/envs/mrnet/lib/python3.8/site-packages (from matplotlib->fastai) (0.10.0)\n",
      "Requirement already satisfied: six in /Users/rob/anaconda3/envs/mrnet/lib/python3.8/site-packages (from cycler>=0.10->matplotlib->fastai) (1.16.0)\n",
      "Requirement already satisfied: pytz>=2017.3 in /Users/rob/anaconda3/envs/mrnet/lib/python3.8/site-packages (from pandas->fastai) (2021.1)\n",
      "Requirement already satisfied: threadpoolctl>=2.0.0 in /Users/rob/anaconda3/envs/mrnet/lib/python3.8/site-packages (from scikit-learn->fastai) (2.1.0)\n",
      "Requirement already satisfied: joblib>=0.11 in /Users/rob/anaconda3/envs/mrnet/lib/python3.8/site-packages (from scikit-learn->fastai) (1.0.1)\n",
      "Requirement already satisfied: tensorboardX in /Users/rob/anaconda3/envs/mrnet/lib/python3.8/site-packages (2.2)\n",
      "Requirement already satisfied: protobuf>=3.8.0 in /Users/rob/anaconda3/envs/mrnet/lib/python3.8/site-packages (from tensorboardX) (3.17.0)\n",
      "Requirement already satisfied: numpy in /Users/rob/anaconda3/envs/mrnet/lib/python3.8/site-packages (from tensorboardX) (1.20.3)\n",
      "Requirement already satisfied: six>=1.9 in /Users/rob/anaconda3/envs/mrnet/lib/python3.8/site-packages (from protobuf>=3.8.0->tensorboardX) (1.16.0)\n"
     ]
    },
    {
     "name": "stdout",
     "output_type": "stream",
     "text": [
      "Requirement already satisfied: scikit-learn in /Users/rob/anaconda3/envs/mrnet/lib/python3.8/site-packages (0.24.2)\n",
      "Requirement already satisfied: threadpoolctl>=2.0.0 in /Users/rob/anaconda3/envs/mrnet/lib/python3.8/site-packages (from scikit-learn) (2.1.0)\n",
      "Requirement already satisfied: scipy>=0.19.1 in /Users/rob/anaconda3/envs/mrnet/lib/python3.8/site-packages (from scikit-learn) (1.6.3)\n",
      "Requirement already satisfied: numpy>=1.13.3 in /Users/rob/anaconda3/envs/mrnet/lib/python3.8/site-packages (from scikit-learn) (1.20.3)\n",
      "Requirement already satisfied: joblib>=0.11 in /Users/rob/anaconda3/envs/mrnet/lib/python3.8/site-packages (from scikit-learn) (1.0.1)\n",
      "Collecting torchsample\n",
      "  Cloning https://github.com/ncullen93/torchsample.git to /private/var/folders/tt/s_pztz81715_h0sd9m9nsllw0000gn/T/pip-install-r7hrl2o2/torchsample_73f2f124c4d04b13b2ea46e2db961757\n",
      "  Running command git clone -q https://github.com/ncullen93/torchsample.git /private/var/folders/tt/s_pztz81715_h0sd9m9nsllw0000gn/T/pip-install-r7hrl2o2/torchsample_73f2f124c4d04b13b2ea46e2db961757\n",
      "  warning: unable to access '/Users/rob/.config/git/attributes': Permission denied\n",
      "Building wheels for collected packages: torchsample\n",
      "  Building wheel for torchsample (setup.py) ... \u001b[?25ldone\n",
      "\u001b[?25h  Created wheel for torchsample: filename=torchsample-0.1.3-py3-none-any.whl size=43415 sha256=5b298480751f126e21cdf3866fc2464b52d4c04b9b57a6b474ca608aed272130\n",
      "  Stored in directory: /private/var/folders/tt/s_pztz81715_h0sd9m9nsllw0000gn/T/pip-ephem-wheel-cache-lrkx_l_r/wheels/54/14/cd/5612ec3bc0ce8e5b68b6a273873d18a3a5c817f35db70579a1\n",
      "Successfully built torchsample\n",
      "Installing collected packages: torchsample\n",
      "Successfully installed torchsample-0.1.3\n",
      "Collecting nibabel\n",
      "  Downloading nibabel-3.2.1-py3-none-any.whl (3.3 MB)\n",
      "\u001b[K     |████████████████████████████████| 3.3 MB 6.1 MB/s eta 0:00:01\n",
      "\u001b[?25hRequirement already satisfied: packaging>=14.3 in /Users/rob/anaconda3/envs/mrnet/lib/python3.8/site-packages (from nibabel) (20.9)\n",
      "Requirement already satisfied: numpy>=1.14 in /Users/rob/anaconda3/envs/mrnet/lib/python3.8/site-packages (from nibabel) (1.20.3)\n",
      "Requirement already satisfied: pyparsing>=2.0.2 in /Users/rob/anaconda3/envs/mrnet/lib/python3.8/site-packages (from packaging>=14.3->nibabel) (2.4.7)\n",
      "Installing collected packages: nibabel\n",
      "Successfully installed nibabel-3.2.1\n",
      "Requirement already satisfied: nbdev in /Users/rob/anaconda3/envs/mrnet/lib/python3.8/site-packages (1.1.14)\n",
      "Requirement already satisfied: ghapi in /Users/rob/anaconda3/envs/mrnet/lib/python3.8/site-packages (from nbdev) (0.1.16)\n",
      "Requirement already satisfied: ipykernel in /Users/rob/anaconda3/envs/mrnet/lib/python3.8/site-packages (from nbdev) (5.5.5)\n",
      "Requirement already satisfied: packaging in /Users/rob/anaconda3/envs/mrnet/lib/python3.8/site-packages (from nbdev) (20.9)\n",
      "Requirement already satisfied: fastcore>=1.3.19 in /Users/rob/anaconda3/envs/mrnet/lib/python3.8/site-packages (from nbdev) (1.3.20)\n",
      "Requirement already satisfied: pyyaml in /Users/rob/anaconda3/envs/mrnet/lib/python3.8/site-packages (from nbdev) (5.4.1)\n",
      "Requirement already satisfied: fastrelease in /Users/rob/anaconda3/envs/mrnet/lib/python3.8/site-packages (from nbdev) (0.1.11)\n",
      "Requirement already satisfied: jupyter in /Users/rob/anaconda3/envs/mrnet/lib/python3.8/site-packages (from nbdev) (1.0.0)\n",
      "Requirement already satisfied: jupyter-client<=6.1.12 in /Users/rob/anaconda3/envs/mrnet/lib/python3.8/site-packages (from nbdev) (6.1.12)\n",
      "Requirement already satisfied: nbconvert<6 in /Users/rob/anaconda3/envs/mrnet/lib/python3.8/site-packages (from nbdev) (5.6.1)\n",
      "Requirement already satisfied: nbformat>=4.4.0 in /Users/rob/anaconda3/envs/mrnet/lib/python3.8/site-packages (from nbdev) (5.1.3)\n",
      "Requirement already satisfied: pip in /Users/rob/anaconda3/envs/mrnet/lib/python3.8/site-packages (from nbdev) (21.0.1)\n",
      "Requirement already satisfied: jupyter-core>=4.6.0 in /Users/rob/anaconda3/envs/mrnet/lib/python3.8/site-packages (from jupyter-client<=6.1.12->nbdev) (4.7.1)\n",
      "Requirement already satisfied: tornado>=4.1 in /Users/rob/anaconda3/envs/mrnet/lib/python3.8/site-packages (from jupyter-client<=6.1.12->nbdev) (6.1)\n",
      "Requirement already satisfied: python-dateutil>=2.1 in /Users/rob/anaconda3/envs/mrnet/lib/python3.8/site-packages (from jupyter-client<=6.1.12->nbdev) (2.8.1)\n",
      "Requirement already satisfied: traitlets in /Users/rob/anaconda3/envs/mrnet/lib/python3.8/site-packages (from jupyter-client<=6.1.12->nbdev) (5.0.5)\n",
      "Requirement already satisfied: pyzmq>=13 in /Users/rob/anaconda3/envs/mrnet/lib/python3.8/site-packages (from jupyter-client<=6.1.12->nbdev) (22.0.3)\n",
      "Requirement already satisfied: pandocfilters>=1.4.1 in /Users/rob/anaconda3/envs/mrnet/lib/python3.8/site-packages (from nbconvert<6->nbdev) (1.4.3)\n",
      "Requirement already satisfied: entrypoints>=0.2.2 in /Users/rob/anaconda3/envs/mrnet/lib/python3.8/site-packages (from nbconvert<6->nbdev) (0.3)\n",
      "Requirement already satisfied: testpath in /Users/rob/anaconda3/envs/mrnet/lib/python3.8/site-packages (from nbconvert<6->nbdev) (0.4.4)\n",
      "Requirement already satisfied: mistune<2,>=0.8.1 in /Users/rob/anaconda3/envs/mrnet/lib/python3.8/site-packages (from nbconvert<6->nbdev) (0.8.4)\n",
      "Requirement already satisfied: defusedxml in /Users/rob/anaconda3/envs/mrnet/lib/python3.8/site-packages (from nbconvert<6->nbdev) (0.7.1)\n",
      "Requirement already satisfied: jinja2>=2.4 in /Users/rob/anaconda3/envs/mrnet/lib/python3.8/site-packages (from nbconvert<6->nbdev) (3.0.0)\n",
      "Requirement already satisfied: bleach in /Users/rob/anaconda3/envs/mrnet/lib/python3.8/site-packages (from nbconvert<6->nbdev) (3.3.0)\n",
      "Requirement already satisfied: pygments in /Users/rob/anaconda3/envs/mrnet/lib/python3.8/site-packages (from nbconvert<6->nbdev) (2.9.0)\n",
      "Requirement already satisfied: MarkupSafe>=2.0.0rc2 in /Users/rob/anaconda3/envs/mrnet/lib/python3.8/site-packages (from jinja2>=2.4->nbconvert<6->nbdev) (2.0.0)\n",
      "Requirement already satisfied: ipython-genutils in /Users/rob/anaconda3/envs/mrnet/lib/python3.8/site-packages (from nbformat>=4.4.0->nbdev) (0.2.0)\n",
      "Requirement already satisfied: jsonschema!=2.5.0,>=2.4 in /Users/rob/anaconda3/envs/mrnet/lib/python3.8/site-packages (from nbformat>=4.4.0->nbdev) (3.2.0)\n",
      "Requirement already satisfied: pyrsistent>=0.14.0 in /Users/rob/anaconda3/envs/mrnet/lib/python3.8/site-packages (from jsonschema!=2.5.0,>=2.4->nbformat>=4.4.0->nbdev) (0.17.3)\n",
      "Requirement already satisfied: setuptools in /Users/rob/anaconda3/envs/mrnet/lib/python3.8/site-packages (from jsonschema!=2.5.0,>=2.4->nbformat>=4.4.0->nbdev) (52.0.0.post20210125)\n",
      "Requirement already satisfied: attrs>=17.4.0 in /Users/rob/anaconda3/envs/mrnet/lib/python3.8/site-packages (from jsonschema!=2.5.0,>=2.4->nbformat>=4.4.0->nbdev) (21.2.0)\n",
      "Requirement already satisfied: six>=1.11.0 in /Users/rob/anaconda3/envs/mrnet/lib/python3.8/site-packages (from jsonschema!=2.5.0,>=2.4->nbformat>=4.4.0->nbdev) (1.16.0)\n",
      "Requirement already satisfied: webencodings in /Users/rob/anaconda3/envs/mrnet/lib/python3.8/site-packages (from bleach->nbconvert<6->nbdev) (0.5.1)\n",
      "Requirement already satisfied: appnope in /Users/rob/anaconda3/envs/mrnet/lib/python3.8/site-packages (from ipykernel->nbdev) (0.1.2)\n",
      "Requirement already satisfied: ipython>=5.0.0 in /Users/rob/anaconda3/envs/mrnet/lib/python3.8/site-packages (from ipykernel->nbdev) (7.23.1)\n",
      "Requirement already satisfied: pexpect>4.3 in /Users/rob/anaconda3/envs/mrnet/lib/python3.8/site-packages (from ipython>=5.0.0->ipykernel->nbdev) (4.8.0)\n",
      "Requirement already satisfied: matplotlib-inline in /Users/rob/anaconda3/envs/mrnet/lib/python3.8/site-packages (from ipython>=5.0.0->ipykernel->nbdev) (0.1.2)\n",
      "Requirement already satisfied: jedi>=0.16 in /Users/rob/anaconda3/envs/mrnet/lib/python3.8/site-packages (from ipython>=5.0.0->ipykernel->nbdev) (0.18.0)\n",
      "Requirement already satisfied: backcall in /Users/rob/anaconda3/envs/mrnet/lib/python3.8/site-packages (from ipython>=5.0.0->ipykernel->nbdev) (0.2.0)\n",
      "Requirement already satisfied: prompt-toolkit!=3.0.0,!=3.0.1,<3.1.0,>=2.0.0 in /Users/rob/anaconda3/envs/mrnet/lib/python3.8/site-packages (from ipython>=5.0.0->ipykernel->nbdev) (3.0.18)\n",
      "Requirement already satisfied: pickleshare in /Users/rob/anaconda3/envs/mrnet/lib/python3.8/site-packages (from ipython>=5.0.0->ipykernel->nbdev) (0.7.5)\n"
     ]
    },
    {
     "name": "stdout",
     "output_type": "stream",
     "text": [
      "Requirement already satisfied: decorator in /Users/rob/anaconda3/envs/mrnet/lib/python3.8/site-packages (from ipython>=5.0.0->ipykernel->nbdev) (5.0.9)\n",
      "Requirement already satisfied: parso<0.9.0,>=0.8.0 in /Users/rob/anaconda3/envs/mrnet/lib/python3.8/site-packages (from jedi>=0.16->ipython>=5.0.0->ipykernel->nbdev) (0.8.2)\n",
      "Requirement already satisfied: ptyprocess>=0.5 in /Users/rob/anaconda3/envs/mrnet/lib/python3.8/site-packages (from pexpect>4.3->ipython>=5.0.0->ipykernel->nbdev) (0.7.0)\n",
      "Requirement already satisfied: wcwidth in /Users/rob/anaconda3/envs/mrnet/lib/python3.8/site-packages (from prompt-toolkit!=3.0.0,!=3.0.1,<3.1.0,>=2.0.0->ipython>=5.0.0->ipykernel->nbdev) (0.2.5)\n",
      "Requirement already satisfied: jupyter-console in /Users/rob/anaconda3/envs/mrnet/lib/python3.8/site-packages (from jupyter->nbdev) (6.4.0)\n",
      "Requirement already satisfied: qtconsole in /Users/rob/anaconda3/envs/mrnet/lib/python3.8/site-packages (from jupyter->nbdev) (5.1.0)\n",
      "Requirement already satisfied: ipywidgets in /Users/rob/anaconda3/envs/mrnet/lib/python3.8/site-packages (from jupyter->nbdev) (7.6.3)\n",
      "Requirement already satisfied: notebook in /Users/rob/anaconda3/envs/mrnet/lib/python3.8/site-packages (from jupyter->nbdev) (6.3.0)\n",
      "Requirement already satisfied: widgetsnbextension~=3.5.0 in /Users/rob/anaconda3/envs/mrnet/lib/python3.8/site-packages (from ipywidgets->jupyter->nbdev) (3.5.1)\n",
      "Requirement already satisfied: jupyterlab-widgets>=1.0.0 in /Users/rob/anaconda3/envs/mrnet/lib/python3.8/site-packages (from ipywidgets->jupyter->nbdev) (1.0.0)\n",
      "Requirement already satisfied: terminado>=0.8.3 in /Users/rob/anaconda3/envs/mrnet/lib/python3.8/site-packages (from notebook->jupyter->nbdev) (0.9.5)\n",
      "Requirement already satisfied: Send2Trash>=1.5.0 in /Users/rob/anaconda3/envs/mrnet/lib/python3.8/site-packages (from notebook->jupyter->nbdev) (1.5.0)\n",
      "Requirement already satisfied: prometheus-client in /Users/rob/anaconda3/envs/mrnet/lib/python3.8/site-packages (from notebook->jupyter->nbdev) (0.10.1)\n",
      "Requirement already satisfied: argon2-cffi in /Users/rob/anaconda3/envs/mrnet/lib/python3.8/site-packages (from notebook->jupyter->nbdev) (20.1.0)\n",
      "Requirement already satisfied: cffi>=1.0.0 in /Users/rob/anaconda3/envs/mrnet/lib/python3.8/site-packages (from argon2-cffi->notebook->jupyter->nbdev) (1.14.5)\n",
      "Requirement already satisfied: pycparser in /Users/rob/anaconda3/envs/mrnet/lib/python3.8/site-packages (from cffi>=1.0.0->argon2-cffi->notebook->jupyter->nbdev) (2.20)\n",
      "Requirement already satisfied: pyparsing>=2.0.2 in /Users/rob/anaconda3/envs/mrnet/lib/python3.8/site-packages (from packaging->nbdev) (2.4.7)\n",
      "Requirement already satisfied: qtpy in /Users/rob/anaconda3/envs/mrnet/lib/python3.8/site-packages (from qtconsole->jupyter->nbdev) (1.9.0)\n",
      "Collecting torch==1.6.0\n",
      "  Downloading torch-1.6.0-cp38-none-macosx_10_9_x86_64.whl (97.5 MB)\n",
      "\u001b[K     |████████████████████████████████| 97.5 MB 15.6 MB/s eta 0:00:01\n",
      "\u001b[?25hCollecting torchvision==0.7.0\n",
      "  Downloading torchvision-0.7.0-cp38-cp38-macosx_10_9_x86_64.whl (387 kB)\n",
      "\u001b[K     |████████████████████████████████| 387 kB 2.1 MB/s eta 0:00:01\n",
      "\u001b[?25hRequirement already satisfied: numpy in /Users/rob/anaconda3/envs/mrnet/lib/python3.8/site-packages (from torch==1.6.0) (1.20.3)\n",
      "Collecting future\n",
      "  Using cached future-0.18.2-py3-none-any.whl\n",
      "Requirement already satisfied: pillow>=4.1.1 in /Users/rob/anaconda3/envs/mrnet/lib/python3.8/site-packages (from torchvision==0.7.0) (8.2.0)\n",
      "Installing collected packages: future, torch, torchvision\n",
      "  Attempting uninstall: torch\n",
      "    Found existing installation: torch 1.8.1\n",
      "    Uninstalling torch-1.8.1:\n",
      "      Successfully uninstalled torch-1.8.1\n",
      "  Attempting uninstall: torchvision\n",
      "    Found existing installation: torchvision 0.9.1\n",
      "    Uninstalling torchvision-0.9.1:\n",
      "      Successfully uninstalled torchvision-0.9.1\n",
      "\u001b[31mERROR: pip's dependency resolver does not currently take into account all the packages that are installed. This behaviour is the source of the following dependency conflicts.\n",
      "torchaudio 0.8.1 requires torch==1.8.1, but you have torch 1.6.0 which is incompatible.\n",
      "fastai 2.3.1 requires torch<1.9,>=1.7.0, but you have torch 1.6.0 which is incompatible.\n",
      "fastai 2.3.1 requires torchvision>=0.8.2, but you have torchvision 0.7.0 which is incompatible.\u001b[0m\n",
      "Successfully installed future-0.18.2 torch-1.6.0 torchvision-0.7.0\n"
     ]
    }
   ],
   "source": [
    "!pip install tqdm\n",
    "!pip install torch\n",
    "!pip install torchvision torchaudio\n",
    "!pip install fastai\n",
    "!pip install tensorboardX\n",
    "!pip install scikit-learn\n",
    "!pip install \"git+https://github.com/ncullen93/torchsample.git#egg=torchsample\"\n",
    "!pip install nibabel\n",
    "!pip install nbdev\n",
    "!pip install torch==1.6.0 torchvision==0.7.0"
   ]
  },
  {
   "cell_type": "code",
   "execution_count": 7,
   "id": "bcf3b2f8",
   "metadata": {
    "ExecuteTime": {
     "end_time": "2021-05-16T14:02:25.822281Z",
     "start_time": "2021-05-16T14:02:25.810774Z"
    }
   },
   "outputs": [
    {
     "ename": "ModuleNotFoundError",
     "evalue": "No module named 'nbdev'",
     "output_type": "error",
     "traceback": [
      "\u001b[0;31m---------------------------------------------------------------------------\u001b[0m",
      "\u001b[0;31mModuleNotFoundError\u001b[0m                       Traceback (most recent call last)",
      "\u001b[0;32m<ipython-input-7-3a3f13ffc114>\u001b[0m in \u001b[0;36m<module>\u001b[0;34m\u001b[0m\n\u001b[1;32m      6\u001b[0m \u001b[0;32mimport\u001b[0m \u001b[0mnumpy\u001b[0m \u001b[0;32mas\u001b[0m \u001b[0mnp\u001b[0m\u001b[0;34m\u001b[0m\u001b[0;34m\u001b[0m\u001b[0m\n\u001b[1;32m      7\u001b[0m \u001b[0;32mfrom\u001b[0m \u001b[0mtqdm\u001b[0m \u001b[0;32mimport\u001b[0m \u001b[0mtqdm\u001b[0m\u001b[0;34m\u001b[0m\u001b[0;34m\u001b[0m\u001b[0m\n\u001b[0;32m----> 8\u001b[0;31m \u001b[0;32mfrom\u001b[0m \u001b[0mnbdev\u001b[0m \u001b[0;32mimport\u001b[0m \u001b[0;34m*\u001b[0m\u001b[0;34m\u001b[0m\u001b[0;34m\u001b[0m\u001b[0m\n\u001b[0m\u001b[1;32m      9\u001b[0m \u001b[0;34m\u001b[0m\u001b[0m\n\u001b[1;32m     10\u001b[0m \u001b[0;32mimport\u001b[0m \u001b[0mtorch\u001b[0m\u001b[0;34m\u001b[0m\u001b[0;34m\u001b[0m\u001b[0m\n",
      "\u001b[0;31mModuleNotFoundError\u001b[0m: No module named 'nbdev'"
     ]
    }
   ],
   "source": [
    "import shutil\n",
    "import os\n",
    "import time\n",
    "from datetime import datetime\n",
    "import argparse\n",
    "import numpy as np\n",
    "from tqdm import tqdm\n",
    "from nbdev import *\n",
    "\n",
    "import torch\n",
    "import torch.nn as nn\n",
    "import torch.optim as optim\n",
    "from torch.autograd import Variable\n",
    "from torchsample.transforms import RandomRotate, RandomTranslate, RandomFlip, ToTensor, Compose, RandomAffine\n",
    "from torchvision import transforms\n",
    "import torch.nn.functional as F\n",
    "from tensorboardX import SummaryWriter\n",
    "\n",
    "from dataloader import MRDataset\n",
    "import model\n",
    "\n",
    "from sklearn import metrics\n",
    "from fastai.vision.all import *"
   ]
  },
  {
   "cell_type": "code",
   "execution_count": 28,
   "id": "c286f8e3",
   "metadata": {},
   "outputs": [
    {
     "data": {
      "text/plain": [
       "23"
      ]
     },
     "execution_count": 28,
     "metadata": {},
     "output_type": "execute_result"
    }
   ],
   "source": [
    "import multiprocessing\n",
    "\n",
    "num_workers = multiprocessing.cpu_count() - 1\n",
    "num_workers"
   ]
  },
  {
   "cell_type": "code",
   "execution_count": 29,
   "id": "918a8b91",
   "metadata": {
    "ExecuteTime": {
     "end_time": "2021-04-27T19:41:46.416005Z",
     "start_time": "2021-04-27T19:41:46.410614Z"
    }
   },
   "outputs": [],
   "source": [
    "class Args:\n",
    "    def __init__(self):\n",
    "        self.task = \"abnormal\" #['abnormal', 'acl', 'meniscus']\n",
    "        self.plane = \"sagittal\" #['sagittal', 'coronal', 'axial']\n",
    "        self.prefix_name = \"Test\"\n",
    "        self.augment = 1 #[0, 1]\n",
    "        self.lr_scheduler = \"plateau\" #['plateau', 'step']\n",
    "        self.gamma = 0.5\n",
    "        self.epochs = 1\n",
    "        self.lr = 1e-5\n",
    "        self.flush_history = 0 #[0, 1]\n",
    "        self.save_model = 1 #[0, 1]\n",
    "        self.patience = 5\n",
    "        self.log_every = 100\n",
    "        \n",
    "args = Args()"
   ]
  },
  {
   "cell_type": "code",
   "execution_count": 30,
   "id": "1c405bbb",
   "metadata": {
    "ExecuteTime": {
     "end_time": "2021-04-27T20:10:12.074484Z",
     "start_time": "2021-04-27T20:10:11.272447Z"
    }
   },
   "outputs": [
    {
     "name": "stdout",
     "output_type": "stream",
     "text": [
      "./data/train-abnormal.csv\n"
     ]
    }
   ],
   "source": [
    "log_root_folder = \"./logs/{0}/{1}/\".format(args.task, args.plane)\n",
    "if args.flush_history == 1:\n",
    "    objects = os.listdir(log_root_folder)\n",
    "    for f in objects:\n",
    "        if os.path.isdir(log_root_folder + f):\n",
    "            shutil.rmtree(log_root_folder + f)\n",
    "\n",
    "now = datetime.now()\n",
    "logdir = log_root_folder + now.strftime(\"%Y%m%d-%H%M%S\") + \"/\"\n",
    "os.makedirs(logdir)\n",
    "\n",
    "writer = SummaryWriter(logdir)\n",
    "\n",
    "augmentor = Compose([\n",
    "    transforms.Lambda(lambda x: torch.Tensor(x)),\n",
    "    RandomRotate(25),\n",
    "    RandomTranslate([0.11, 0.11]),\n",
    "    RandomFlip(),\n",
    "    transforms.Lambda(lambda x: x.repeat(3, 1, 1, 1).permute(1, 0, 2, 3)),\n",
    "])\n",
    "\n",
    "train_dataset = MRDataset('./data/', args.task, args.plane, transform=augmentor, train=True)\n",
    "validation_dataset = MRDataset('./data/', args.task, args.plane, train=False)\n",
    "\n",
    "train_loader = DataLoader(train_dataset, batch_size=1, shuffle=True, num_workers=num_workers, drop_last=False)\n",
    "validation_loader = DataLoader(validation_dataset, batch_size=1, shuffle=False, num_workers=num_workers, drop_last=False)\n",
    "\n",
    "\n",
    "mrnet = model.MRNet()\n",
    "bceloss = nn.BCEWithLogitsLoss()"
   ]
  },
  {
   "cell_type": "code",
   "execution_count": 31,
   "id": "fc9fd6aa",
   "metadata": {},
   "outputs": [],
   "source": [
    "dls = DataLoaders(train_loader, validation_loader)"
   ]
  },
  {
   "cell_type": "code",
   "execution_count": 32,
   "id": "1fa874ce",
   "metadata": {},
   "outputs": [],
   "source": [
    "metrics = [RocAuc()]\n",
    "\n",
    "learn = Learner(dls, mrnet, loss_func=bceloss, metrics=metrics)"
   ]
  },
  {
   "cell_type": "code",
   "execution_count": 33,
   "id": "048d91c7",
   "metadata": {
    "ExecuteTime": {
     "end_time": "2021-04-27T19:50:11.113107Z",
     "start_time": "2021-04-27T19:50:07.264077Z"
    },
    "scrolled": false
   },
   "outputs": [
    {
     "data": {
      "text/html": [
       "<table border=\"1\" class=\"dataframe\">\n",
       "  <thead>\n",
       "    <tr style=\"text-align: left;\">\n",
       "      <th>epoch</th>\n",
       "      <th>train_loss</th>\n",
       "      <th>valid_loss</th>\n",
       "      <th>roc_auc_score</th>\n",
       "      <th>time</th>\n",
       "    </tr>\n",
       "  </thead>\n",
       "  <tbody>\n",
       "    <tr>\n",
       "      <td>0</td>\n",
       "      <td>nan</td>\n",
       "      <td>00:00</td>\n",
       "    </tr>\n",
       "  </tbody>\n",
       "</table>"
      ],
      "text/plain": [
       "<IPython.core.display.HTML object>"
      ]
     },
     "metadata": {},
     "output_type": "display_data"
    }
   ],
   "source": [
    "learn.fine_tune(2)"
   ]
  },
  {
   "cell_type": "code",
   "execution_count": 34,
   "id": "258a74ee",
   "metadata": {},
   "outputs": [
    {
     "data": {
      "text/plain": [
       "Path('models/abn_sag_v1.pth')"
      ]
     },
     "execution_count": 34,
     "metadata": {},
     "output_type": "execute_result"
    }
   ],
   "source": [
    "learn.save(args.task[:3] + '_' + args.plane[:3] + '_v1')"
   ]
  },
  {
   "cell_type": "code",
   "execution_count": null,
   "id": "69f153d8",
   "metadata": {},
   "outputs": [],
   "source": []
  }
 ],
 "metadata": {
  "kernelspec": {
   "display_name": "Python 3",
   "language": "python",
   "name": "python3"
  },
  "language_info": {
   "codemirror_mode": {
    "name": "ipython",
    "version": 3
   },
   "file_extension": ".py",
   "mimetype": "text/x-python",
   "name": "python",
   "nbconvert_exporter": "python",
   "pygments_lexer": "ipython3",
   "version": "3.8.8"
  },
  "metadata": {
   "interpreter": {
    "hash": "53bba12dd6a038e761fc83a304742c6553706de7889a50503dd4237be0a73033"
   }
  },
  "toc": {
   "base_numbering": 1,
   "nav_menu": {},
   "number_sections": true,
   "sideBar": true,
   "skip_h1_title": false,
   "title_cell": "Table of Contents",
   "title_sidebar": "Contents",
   "toc_cell": false,
   "toc_position": {},
   "toc_section_display": true,
   "toc_window_display": false
  }
 },
 "nbformat": 4,
 "nbformat_minor": 5
}
